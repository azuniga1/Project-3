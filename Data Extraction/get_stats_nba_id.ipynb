{
 "cells": [
  {
   "cell_type": "markdown",
   "metadata": {},
   "source": [
    "# Notebook to webscrape and clean stats.nba.com information\n",
    "### Information to gathter:\n",
    "- Player Name\n",
    "- NBA.com Player ID \n",
    "- NBA.com Player Page URL \n",
    "- Player Usage Stats from 2013-2020\n",
    "\n",
    "### Libraries Utalized for webscraping\n",
    "- Selenium\n",
    "\n",
    "### Why Selenium instead BeautifulSoup?\n",
    "The reason Selenium was used was because stats.nba.com site was created with a dynamic Javascript component which means that the sourcecode which BeautifulSoup scrapes from did not include the information needed but called into it via Javascript. This was the work around to get the additional information. "
   ]
  },
  {
   "cell_type": "code",
   "execution_count": 1,
   "metadata": {},
   "outputs": [],
   "source": [
    "# import libraries\n",
    "import urllib.request\n",
    "from bs4 import BeautifulSoup\n",
    "from selenium import webdriver\n",
    "import time\n",
    "import pandas as pd"
   ]
  },
  {
   "cell_type": "markdown",
   "metadata": {},
   "source": [
    "## 1. Gathering all names available on stats.nba.com\n",
    "\n",
    "Using Selenium on the stats.nba.com player index, scrape all player names and player pages URLs including all historial players since the current view only shows active players and some atheles might have dropped out or came in during the current season. \n"
   ]
  },
  {
   "cell_type": "code",
   "execution_count": 2,
   "metadata": {},
   "outputs": [
    {
     "name": "stdout",
     "output_type": "stream",
     "text": [
      "https://stats.nba.com/players/list/?Historic=Y\n"
     ]
    }
   ],
   "source": [
    "# specify the url\n",
    "urlpage = 'https://stats.nba.com/players/list/?Historic=Y' \n",
    "print(urlpage)\n",
    "# run firefox webdriver from executable path of your choice\n",
    "driver = webdriver.Firefox()"
   ]
  },
  {
   "cell_type": "code",
   "execution_count": 3,
   "metadata": {},
   "outputs": [],
   "source": [
    "# get web page\n",
    "driver.get(urlpage)\n",
    "# execute script to scroll down the page\n",
    "driver.execute_script(\"window.scrollTo(0, document.body.scrollHeight);var lenOfPage=document.body.scrollHeight;return lenOfPage;\")\n",
    "# sleep for 30s\n",
    "time.sleep(30)\n",
    "# driver.quit()"
   ]
  },
  {
   "cell_type": "code",
   "execution_count": 4,
   "metadata": {},
   "outputs": [
    {
     "name": "stdout",
     "output_type": "stream",
     "text": [
      "Number of results 4503\n"
     ]
    }
   ],
   "source": [
    "# find elements by xpath# at the player name level\n",
    "results = driver.find_elements_by_xpath(\"//*[@class='stats-player-list players-list']//*[@class='row collapse players-list__section']//*[@class='players-list__names']//*[@class='players-list__name']\")\n",
    "#check number of results\n",
    "print('Number of results', len(results))"
   ]
  },
  {
   "cell_type": "code",
   "execution_count": 5,
   "metadata": {},
   "outputs": [],
   "source": [
    "# create empty array to store data\n",
    "data = []\n",
    "# loop over results to store name and url\n",
    "for result in results:\n",
    "    product_name = result.text\n",
    "    player = result.find_element_by_tag_name('a')\n",
    "    link = player.get_attribute(\"href\")\n",
    "    # append dict to array\n",
    "    data.append({\"player\" : product_name, \"link\" : link})"
   ]
  },
  {
   "cell_type": "code",
   "execution_count": 7,
   "metadata": {},
   "outputs": [],
   "source": [
    "# close driver \n",
    "driver.quit()"
   ]
  },
  {
   "cell_type": "code",
   "execution_count": 8,
   "metadata": {},
   "outputs": [
    {
     "data": {
      "text/html": [
       "<div>\n",
       "<style scoped>\n",
       "    .dataframe tbody tr th:only-of-type {\n",
       "        vertical-align: middle;\n",
       "    }\n",
       "\n",
       "    .dataframe tbody tr th {\n",
       "        vertical-align: top;\n",
       "    }\n",
       "\n",
       "    .dataframe thead th {\n",
       "        text-align: right;\n",
       "    }\n",
       "</style>\n",
       "<table border=\"1\" class=\"dataframe\">\n",
       "  <thead>\n",
       "    <tr style=\"text-align: right;\">\n",
       "      <th></th>\n",
       "      <th>player</th>\n",
       "      <th>link</th>\n",
       "    </tr>\n",
       "  </thead>\n",
       "  <tbody>\n",
       "    <tr>\n",
       "      <td>0</td>\n",
       "      <td>Abdelnaby, Alaa</td>\n",
       "      <td>https://stats.nba.com/player/76001/</td>\n",
       "    </tr>\n",
       "    <tr>\n",
       "      <td>1</td>\n",
       "      <td>Abdul-Aziz, Zaid</td>\n",
       "      <td>https://stats.nba.com/player/76002/</td>\n",
       "    </tr>\n",
       "    <tr>\n",
       "      <td>2</td>\n",
       "      <td>Abdul-Jabbar, Kareem</td>\n",
       "      <td>https://stats.nba.com/player/76003/</td>\n",
       "    </tr>\n",
       "    <tr>\n",
       "      <td>3</td>\n",
       "      <td>Abdul-Rauf, Mahmoud</td>\n",
       "      <td>https://stats.nba.com/player/51/</td>\n",
       "    </tr>\n",
       "    <tr>\n",
       "      <td>4</td>\n",
       "      <td>Abdul-Wahad, Tariq</td>\n",
       "      <td>https://stats.nba.com/player/1505/</td>\n",
       "    </tr>\n",
       "    <tr>\n",
       "      <td>...</td>\n",
       "      <td>...</td>\n",
       "      <td>...</td>\n",
       "    </tr>\n",
       "    <tr>\n",
       "      <td>4498</td>\n",
       "      <td>Zizic, Ante</td>\n",
       "      <td>https://stats.nba.com/player/1627790/</td>\n",
       "    </tr>\n",
       "    <tr>\n",
       "      <td>4499</td>\n",
       "      <td>Zoet, Jim</td>\n",
       "      <td>https://stats.nba.com/player/78647/</td>\n",
       "    </tr>\n",
       "    <tr>\n",
       "      <td>4500</td>\n",
       "      <td>Zopf, Bill</td>\n",
       "      <td>https://stats.nba.com/player/78648/</td>\n",
       "    </tr>\n",
       "    <tr>\n",
       "      <td>4501</td>\n",
       "      <td>Zubac, Ivica</td>\n",
       "      <td>https://stats.nba.com/player/1627826/</td>\n",
       "    </tr>\n",
       "    <tr>\n",
       "      <td>4502</td>\n",
       "      <td>Zunic, Matt</td>\n",
       "      <td>https://stats.nba.com/player/78650/</td>\n",
       "    </tr>\n",
       "  </tbody>\n",
       "</table>\n",
       "<p>4503 rows × 2 columns</p>\n",
       "</div>"
      ],
      "text/plain": [
       "                    player                                   link\n",
       "0          Abdelnaby, Alaa    https://stats.nba.com/player/76001/\n",
       "1         Abdul-Aziz, Zaid    https://stats.nba.com/player/76002/\n",
       "2     Abdul-Jabbar, Kareem    https://stats.nba.com/player/76003/\n",
       "3      Abdul-Rauf, Mahmoud       https://stats.nba.com/player/51/\n",
       "4       Abdul-Wahad, Tariq     https://stats.nba.com/player/1505/\n",
       "...                    ...                                    ...\n",
       "4498           Zizic, Ante  https://stats.nba.com/player/1627790/\n",
       "4499             Zoet, Jim    https://stats.nba.com/player/78647/\n",
       "4500            Zopf, Bill    https://stats.nba.com/player/78648/\n",
       "4501          Zubac, Ivica  https://stats.nba.com/player/1627826/\n",
       "4502           Zunic, Matt    https://stats.nba.com/player/78650/\n",
       "\n",
       "[4503 rows x 2 columns]"
      ]
     },
     "execution_count": 8,
     "metadata": {},
     "output_type": "execute_result"
    }
   ],
   "source": [
    "# save to pandas dataframe\n",
    "df = pd.DataFrame(data)\n",
    "df"
   ]
  },
  {
   "cell_type": "code",
   "execution_count": 113,
   "metadata": {},
   "outputs": [],
   "source": [
    "# save to csv\n",
    "df.to_csv('stats_nba_links.csv')"
   ]
  },
  {
   "cell_type": "code",
   "execution_count": null,
   "metadata": {},
   "outputs": [],
   "source": [
    "# check length of URL to remove from player page url to get player id \n",
    "len('https://stats.nba.com/player/')"
   ]
  },
  {
   "cell_type": "code",
   "execution_count": null,
   "metadata": {},
   "outputs": [],
   "source": [
    "# get player id \n",
    "for x in df['stats_id']:\n",
    "    df['stats_id'] = df['link'].str[29:-1]"
   ]
  },
  {
   "cell_type": "code",
   "execution_count": 13,
   "metadata": {},
   "outputs": [
    {
     "data": {
      "text/html": [
       "<div>\n",
       "<style scoped>\n",
       "    .dataframe tbody tr th:only-of-type {\n",
       "        vertical-align: middle;\n",
       "    }\n",
       "\n",
       "    .dataframe tbody tr th {\n",
       "        vertical-align: top;\n",
       "    }\n",
       "\n",
       "    .dataframe thead th {\n",
       "        text-align: right;\n",
       "    }\n",
       "</style>\n",
       "<table border=\"1\" class=\"dataframe\">\n",
       "  <thead>\n",
       "    <tr style=\"text-align: right;\">\n",
       "      <th></th>\n",
       "      <th>player</th>\n",
       "      <th>link</th>\n",
       "      <th>stats_id</th>\n",
       "    </tr>\n",
       "  </thead>\n",
       "  <tbody>\n",
       "    <tr>\n",
       "      <td>0</td>\n",
       "      <td>Abdelnaby, Alaa</td>\n",
       "      <td>https://stats.nba.com/player/76001/</td>\n",
       "      <td>76001</td>\n",
       "    </tr>\n",
       "    <tr>\n",
       "      <td>1</td>\n",
       "      <td>Abdul-Aziz, Zaid</td>\n",
       "      <td>https://stats.nba.com/player/76002/</td>\n",
       "      <td>76002</td>\n",
       "    </tr>\n",
       "    <tr>\n",
       "      <td>2</td>\n",
       "      <td>Abdul-Jabbar, Kareem</td>\n",
       "      <td>https://stats.nba.com/player/76003/</td>\n",
       "      <td>76003</td>\n",
       "    </tr>\n",
       "    <tr>\n",
       "      <td>3</td>\n",
       "      <td>Abdul-Rauf, Mahmoud</td>\n",
       "      <td>https://stats.nba.com/player/51/</td>\n",
       "      <td>51</td>\n",
       "    </tr>\n",
       "    <tr>\n",
       "      <td>4</td>\n",
       "      <td>Abdul-Wahad, Tariq</td>\n",
       "      <td>https://stats.nba.com/player/1505/</td>\n",
       "      <td>1505</td>\n",
       "    </tr>\n",
       "    <tr>\n",
       "      <td>...</td>\n",
       "      <td>...</td>\n",
       "      <td>...</td>\n",
       "      <td>...</td>\n",
       "    </tr>\n",
       "    <tr>\n",
       "      <td>4498</td>\n",
       "      <td>Zizic, Ante</td>\n",
       "      <td>https://stats.nba.com/player/1627790/</td>\n",
       "      <td>1627790</td>\n",
       "    </tr>\n",
       "    <tr>\n",
       "      <td>4499</td>\n",
       "      <td>Zoet, Jim</td>\n",
       "      <td>https://stats.nba.com/player/78647/</td>\n",
       "      <td>78647</td>\n",
       "    </tr>\n",
       "    <tr>\n",
       "      <td>4500</td>\n",
       "      <td>Zopf, Bill</td>\n",
       "      <td>https://stats.nba.com/player/78648/</td>\n",
       "      <td>78648</td>\n",
       "    </tr>\n",
       "    <tr>\n",
       "      <td>4501</td>\n",
       "      <td>Zubac, Ivica</td>\n",
       "      <td>https://stats.nba.com/player/1627826/</td>\n",
       "      <td>1627826</td>\n",
       "    </tr>\n",
       "    <tr>\n",
       "      <td>4502</td>\n",
       "      <td>Zunic, Matt</td>\n",
       "      <td>https://stats.nba.com/player/78650/</td>\n",
       "      <td>78650</td>\n",
       "    </tr>\n",
       "  </tbody>\n",
       "</table>\n",
       "<p>4503 rows × 3 columns</p>\n",
       "</div>"
      ],
      "text/plain": [
       "                    player                                   link stats_id\n",
       "0          Abdelnaby, Alaa    https://stats.nba.com/player/76001/    76001\n",
       "1         Abdul-Aziz, Zaid    https://stats.nba.com/player/76002/    76002\n",
       "2     Abdul-Jabbar, Kareem    https://stats.nba.com/player/76003/    76003\n",
       "3      Abdul-Rauf, Mahmoud       https://stats.nba.com/player/51/       51\n",
       "4       Abdul-Wahad, Tariq     https://stats.nba.com/player/1505/     1505\n",
       "...                    ...                                    ...      ...\n",
       "4498           Zizic, Ante  https://stats.nba.com/player/1627790/  1627790\n",
       "4499             Zoet, Jim    https://stats.nba.com/player/78647/    78647\n",
       "4500            Zopf, Bill    https://stats.nba.com/player/78648/    78648\n",
       "4501          Zubac, Ivica  https://stats.nba.com/player/1627826/  1627826\n",
       "4502           Zunic, Matt    https://stats.nba.com/player/78650/    78650\n",
       "\n",
       "[4503 rows x 3 columns]"
      ]
     },
     "execution_count": 13,
     "metadata": {},
     "output_type": "execute_result"
    }
   ],
   "source": [
    "df"
   ]
  },
  {
   "cell_type": "markdown",
   "metadata": {},
   "source": [
    "# 2. Match names to our current active player list\n",
    "\n",
    "Because the active player list on basketball-reference.com and stat.nba.com are different. We need to do the following steps:\n",
    "\n",
    "- Match the name format\n",
    "- Merge the two csvs on name \n",
    "\n",
    "This cuts down from 4500 URLS to 1200. "
   ]
  },
  {
   "cell_type": "code",
   "execution_count": null,
   "metadata": {},
   "outputs": [],
   "source": [
    "name = df[\"player\"].str.split(\" \", n = -1, expand = True)\n",
    "for x in name[0]:\n",
    "    name['name'] = name[1] + ' ' + name[0]\n",
    "    df['player'] = name['name'].str[:-1]\n",
    "df"
   ]
  },
  {
   "cell_type": "code",
   "execution_count": null,
   "metadata": {},
   "outputs": [],
   "source": [
    "# save update to csv\n",
    "df.to_csv('stats_nba_links.csv')"
   ]
  },
  {
   "cell_type": "code",
   "execution_count": null,
   "metadata": {},
   "outputs": [],
   "source": [
    "# cull down number of players for the years we want to match\n",
    "# load active list created from basketball-reference.com\n",
    "import csv\n",
    "path = 'Project-3/Resources/active_players.csv'\n",
    "active_players = pd.read_csv(path)\n",
    "active_players"
   ]
  },
  {
   "cell_type": "code",
   "execution_count": null,
   "metadata": {},
   "outputs": [],
   "source": [
    "active_stat_nba = pd.merge(df, active_players, left_on='player', right_on='name')\n",
    "active_stat_nba = active_stat_nba.drop(columns=['Unnamed: 0','player','Lineup_name'])\n",
    "active_stat_nba"
   ]
  },
  {
   "cell_type": "markdown",
   "metadata": {},
   "source": [
    "## 3. Get individual player usage by season\n",
    "\n",
    "Player usage URL format will looke like https://stats.nba.com/player/203507/usage/?Season=2015-16&SeasonType=Regular%20Season. \n",
    "\n",
    "We will need to pass the Player ID and the Season to get the last 7 years of usage. The two variable will determind the correct page to parse the data and scrape the data correctly for each user. "
   ]
  },
  {
   "cell_type": "code",
   "execution_count": 14,
   "metadata": {},
   "outputs": [],
   "source": [
    "#define the seasons needed in the format for the url\n",
    "seasons = ['13-14','14-15','15-16','16-17','17-18','18-19','19-20']"
   ]
  },
  {
   "cell_type": "code",
   "execution_count": null,
   "metadata": {},
   "outputs": [],
   "source": [
    "# loop the player usage page per season to get the overall usage stats\n",
    "all_usage = pd.DataFrame()\n",
    "player_usage = pd.DataFrame()\n",
    "\n",
    "for x in active_stat_nba['stats_id']:\n",
    "    for y in seasons:\n",
    "        urlpage = 'https://stats.nba.com/player/'+ str(x) + '/usage/?Season=20' + str(y) + '&SeasonType=Regular%20Season'\n",
    "        driver = webdriver.Firefox()\n",
    "        driver.get(urlpage)\n",
    "        driver.execute_script(\"window.scrollTo(0, document.body.scrollHeight);var lenOfPage=document.body.scrollHeight;return lenOfPage;\")\n",
    "        time.sleep(5)\n",
    "        results = driver.find_elements_by_xpath(\"/html/body/main/div[2]/div/div/div[3]/div/div/div/nba-stat-table[1]/div[2]/div[1]/table/tbody/tr/td\")\n",
    "        usage = []\n",
    "        for use in results:\n",
    "            yearlyuse = use.text\n",
    "            usage.append(yearlyuse)\n",
    "        player_usage = pd.DataFrame([usage])\n",
    "        player_usage['stats_id'] = x\n",
    "        all_usage = all_usage.append(player_usage)\n",
    "        driver.quit()"
   ]
  },
  {
   "cell_type": "code",
   "execution_count": null,
   "metadata": {},
   "outputs": [],
   "source": [
    "all_usage"
   ]
  },
  {
   "cell_type": "code",
   "execution_count": null,
   "metadata": {},
   "outputs": [],
   "source": [
    "all_usage.to_csv('all_usage.csv')"
   ]
  }
 ],
 "metadata": {
  "kernelspec": {
   "display_name": "Python 3",
   "language": "python",
   "name": "python3"
  },
  "language_info": {
   "codemirror_mode": {
    "name": "ipython",
    "version": 3
   },
   "file_extension": ".py",
   "mimetype": "text/x-python",
   "name": "python",
   "nbconvert_exporter": "python",
   "pygments_lexer": "ipython3",
   "version": "3.7.4"
  }
 },
 "nbformat": 4,
 "nbformat_minor": 4
}
