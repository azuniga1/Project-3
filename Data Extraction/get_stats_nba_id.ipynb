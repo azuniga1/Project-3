{
 "cells": [
  {
   "cell_type": "raw",
   "metadata": {},
   "source": [
    "# import libraries\n",
    "import urllib.request\n",
    "from bs4 import BeautifulSoup# specify the url\n",
    "urlpage = 'https://groceries.asda.com/search/yogurt' \n",
    "print(urlpage)\n",
    "# query the website and return the html to the variable 'page'\n",
    "page = urllib.request.urlopen(urlpage)\n",
    "# parse the html using beautiful soup and store in variable 'soup'\n",
    "soup = BeautifulSoup(page, 'html.parser')\n",
    "# find product items\n",
    "# at time of publication, Nov 2018:\n",
    "# results = soup.find_all('div', attrs={'class': 'listing category_templates clearfix productListing'})# updated Nov 2019:\n",
    "results = soup.find_all('div', attrs={'class': 'co-product'})\n",
    "print('Number of results', len(results))"
   ]
  },
  {
   "cell_type": "code",
   "execution_count": 1,
   "metadata": {},
   "outputs": [],
   "source": [
    "# import libraries\n",
    "import urllib.request\n",
    "from bs4 import BeautifulSoup\n",
    "from selenium import webdriver\n",
    "import time\n",
    "import pandas as pd# specify the url"
   ]
  },
  {
   "cell_type": "code",
   "execution_count": 2,
   "metadata": {},
   "outputs": [
    {
     "name": "stdout",
     "output_type": "stream",
     "text": [
      "https://stats.nba.com/players/list/?Historic=Y\n"
     ]
    }
   ],
   "source": [
    "urlpage = 'https://stats.nba.com/players/list/?Historic=Y' \n",
    "print(urlpage)\n",
    "# run firefox webdriver from executable path of your choice\n",
    "driver = webdriver.Firefox()"
   ]
  },
  {
   "cell_type": "code",
   "execution_count": 3,
   "metadata": {},
   "outputs": [],
   "source": [
    "# get web page\n",
    "driver.get(urlpage)\n",
    "# execute script to scroll down the page\n",
    "driver.execute_script(\"window.scrollTo(0, document.body.scrollHeight);var lenOfPage=document.body.scrollHeight;return lenOfPage;\")\n",
    "# sleep for 30s\n",
    "time.sleep(30)\n",
    "# driver.quit()"
   ]
  },
  {
   "cell_type": "code",
   "execution_count": 4,
   "metadata": {},
   "outputs": [
    {
     "name": "stdout",
     "output_type": "stream",
     "text": [
      "Number of results 4503\n"
     ]
    }
   ],
   "source": [
    "# find elements by xpath# at time of publication, Nov 2018:\n",
    "# results = driver.find_elements_by_xpath(\"//*[@id='componentsContainer']//*[contains(@id,'listingsContainer')]//*[@class='product active']//*[@class='title productTitle']\")# updated Nov 2019:\n",
    "results = driver.find_elements_by_xpath(\"//*[@class='stats-player-list players-list']//*[@class='row collapse players-list__section']//*[@class='players-list__names']//*[@class='players-list__name']\")\n",
    "print('Number of results', len(results))"
   ]
  },
  {
   "cell_type": "code",
   "execution_count": 5,
   "metadata": {},
   "outputs": [
    {
     "ename": "AttributeError",
     "evalue": "'list' object has no attribute 'text'",
     "output_type": "error",
     "traceback": [
      "\u001b[1;31m---------------------------------------------------------------------------\u001b[0m",
      "\u001b[1;31mAttributeError\u001b[0m                            Traceback (most recent call last)",
      "\u001b[1;32m<ipython-input-5-cd90c451e705>\u001b[0m in \u001b[0;36m<module>\u001b[1;34m\u001b[0m\n\u001b[1;32m----> 1\u001b[1;33m \u001b[0mproduct_name\u001b[0m \u001b[1;33m=\u001b[0m \u001b[0mresults\u001b[0m\u001b[1;33m.\u001b[0m\u001b[0mtext\u001b[0m\u001b[1;33m\u001b[0m\u001b[1;33m\u001b[0m\u001b[0m\n\u001b[0m",
      "\u001b[1;31mAttributeError\u001b[0m: 'list' object has no attribute 'text'"
     ]
    }
   ],
   "source": [
    "product_name = results.text"
   ]
  },
  {
   "cell_type": "code",
   "execution_count": null,
   "metadata": {},
   "outputs": [],
   "source": [
    "product_name"
   ]
  },
  {
   "cell_type": "code",
   "execution_count": null,
   "metadata": {},
   "outputs": [],
   "source": [
    "player = result.find_element_by_tag_name('a')"
   ]
  },
  {
   "cell_type": "code",
   "execution_count": null,
   "metadata": {},
   "outputs": [],
   "source": [
    "player"
   ]
  },
  {
   "cell_type": "code",
   "execution_count": null,
   "metadata": {},
   "outputs": [],
   "source": [
    "link"
   ]
  },
  {
   "cell_type": "code",
   "execution_count": 6,
   "metadata": {},
   "outputs": [],
   "source": [
    "# create empty array to store data\n",
    "data = []\n",
    "# loop over results\n",
    "for result in results:\n",
    "    product_name = result.text\n",
    "    player = result.find_element_by_tag_name('a')\n",
    "    link = player.get_attribute(\"href\")\n",
    "    # append dict to array\n",
    "    data.append({\"player\" : product_name, \"link\" : link})"
   ]
  },
  {
   "cell_type": "code",
   "execution_count": 38,
   "metadata": {},
   "outputs": [
    {
     "data": {
      "text/plain": [
       "'Zunic, Matt'"
      ]
     },
     "execution_count": 38,
     "metadata": {},
     "output_type": "execute_result"
    }
   ],
   "source": [
    "product_name"
   ]
  },
  {
   "cell_type": "code",
   "execution_count": 39,
   "metadata": {},
   "outputs": [],
   "source": [
    "# close driver \n",
    "driver.quit()"
   ]
  },
  {
   "cell_type": "code",
   "execution_count": 9,
   "metadata": {},
   "outputs": [
    {
     "data": {
      "text/html": [
       "<div>\n",
       "<style scoped>\n",
       "    .dataframe tbody tr th:only-of-type {\n",
       "        vertical-align: middle;\n",
       "    }\n",
       "\n",
       "    .dataframe tbody tr th {\n",
       "        vertical-align: top;\n",
       "    }\n",
       "\n",
       "    .dataframe thead th {\n",
       "        text-align: right;\n",
       "    }\n",
       "</style>\n",
       "<table border=\"1\" class=\"dataframe\">\n",
       "  <thead>\n",
       "    <tr style=\"text-align: right;\">\n",
       "      <th></th>\n",
       "      <th>player</th>\n",
       "      <th>link</th>\n",
       "    </tr>\n",
       "  </thead>\n",
       "  <tbody>\n",
       "    <tr>\n",
       "      <td>0</td>\n",
       "      <td>Abdelnaby, Alaa</td>\n",
       "      <td>https://stats.nba.com/player/76001/</td>\n",
       "    </tr>\n",
       "    <tr>\n",
       "      <td>1</td>\n",
       "      <td>Abdul-Aziz, Zaid</td>\n",
       "      <td>https://stats.nba.com/player/76002/</td>\n",
       "    </tr>\n",
       "    <tr>\n",
       "      <td>2</td>\n",
       "      <td>Abdul-Jabbar, Kareem</td>\n",
       "      <td>https://stats.nba.com/player/76003/</td>\n",
       "    </tr>\n",
       "    <tr>\n",
       "      <td>3</td>\n",
       "      <td>Abdul-Rauf, Mahmoud</td>\n",
       "      <td>https://stats.nba.com/player/51/</td>\n",
       "    </tr>\n",
       "    <tr>\n",
       "      <td>4</td>\n",
       "      <td>Abdul-Wahad, Tariq</td>\n",
       "      <td>https://stats.nba.com/player/1505/</td>\n",
       "    </tr>\n",
       "    <tr>\n",
       "      <td>...</td>\n",
       "      <td>...</td>\n",
       "      <td>...</td>\n",
       "    </tr>\n",
       "    <tr>\n",
       "      <td>4498</td>\n",
       "      <td>Zizic, Ante</td>\n",
       "      <td>https://stats.nba.com/player/1627790/</td>\n",
       "    </tr>\n",
       "    <tr>\n",
       "      <td>4499</td>\n",
       "      <td>Zoet, Jim</td>\n",
       "      <td>https://stats.nba.com/player/78647/</td>\n",
       "    </tr>\n",
       "    <tr>\n",
       "      <td>4500</td>\n",
       "      <td>Zopf, Bill</td>\n",
       "      <td>https://stats.nba.com/player/78648/</td>\n",
       "    </tr>\n",
       "    <tr>\n",
       "      <td>4501</td>\n",
       "      <td>Zubac, Ivica</td>\n",
       "      <td>https://stats.nba.com/player/1627826/</td>\n",
       "    </tr>\n",
       "    <tr>\n",
       "      <td>4502</td>\n",
       "      <td>Zunic, Matt</td>\n",
       "      <td>https://stats.nba.com/player/78650/</td>\n",
       "    </tr>\n",
       "  </tbody>\n",
       "</table>\n",
       "<p>4503 rows × 2 columns</p>\n",
       "</div>"
      ],
      "text/plain": [
       "                    player                                   link\n",
       "0          Abdelnaby, Alaa    https://stats.nba.com/player/76001/\n",
       "1         Abdul-Aziz, Zaid    https://stats.nba.com/player/76002/\n",
       "2     Abdul-Jabbar, Kareem    https://stats.nba.com/player/76003/\n",
       "3      Abdul-Rauf, Mahmoud       https://stats.nba.com/player/51/\n",
       "4       Abdul-Wahad, Tariq     https://stats.nba.com/player/1505/\n",
       "...                    ...                                    ...\n",
       "4498           Zizic, Ante  https://stats.nba.com/player/1627790/\n",
       "4499             Zoet, Jim    https://stats.nba.com/player/78647/\n",
       "4500            Zopf, Bill    https://stats.nba.com/player/78648/\n",
       "4501          Zubac, Ivica  https://stats.nba.com/player/1627826/\n",
       "4502           Zunic, Matt    https://stats.nba.com/player/78650/\n",
       "\n",
       "[4503 rows x 2 columns]"
      ]
     },
     "execution_count": 9,
     "metadata": {},
     "output_type": "execute_result"
    }
   ],
   "source": [
    "# save to pandas dataframe\n",
    "df = pd.DataFrame(data)\n",
    "df"
   ]
  },
  {
   "cell_type": "code",
   "execution_count": 11,
   "metadata": {},
   "outputs": [],
   "source": [
    "df.to_csv('stats_nba_links.csv')"
   ]
  },
  {
   "cell_type": "code",
   "execution_count": null,
   "metadata": {},
   "outputs": [],
   "source": [
    "team = clean_schedule[['away','home']].copy()\n",
    "team.drop(columns=['home'],inplace=True)\n",
    "team.drop_duplicates(inplace=True)\n",
    "team.sort_values('away', ascending=True).reset_index()"
   ]
  },
  {
   "cell_type": "code",
   "execution_count": 32,
   "metadata": {},
   "outputs": [],
   "source": [
    "df['stats_id'] = df['link']"
   ]
  },
  {
   "cell_type": "code",
   "execution_count": 35,
   "metadata": {},
   "outputs": [],
   "source": [
    "for x in df['stats_id']:\n",
    "    df['stats_id'] = df['link'].str[29:-1]"
   ]
  },
  {
   "cell_type": "code",
   "execution_count": 25,
   "metadata": {},
   "outputs": [
    {
     "data": {
      "text/plain": [
       "29"
      ]
     },
     "execution_count": 25,
     "metadata": {},
     "output_type": "execute_result"
    }
   ],
   "source": [
    "len('https://stats.nba.com/player/')"
   ]
  },
  {
   "cell_type": "code",
   "execution_count": 36,
   "metadata": {},
   "outputs": [
    {
     "data": {
      "text/html": [
       "<div>\n",
       "<style scoped>\n",
       "    .dataframe tbody tr th:only-of-type {\n",
       "        vertical-align: middle;\n",
       "    }\n",
       "\n",
       "    .dataframe tbody tr th {\n",
       "        vertical-align: top;\n",
       "    }\n",
       "\n",
       "    .dataframe thead th {\n",
       "        text-align: right;\n",
       "    }\n",
       "</style>\n",
       "<table border=\"1\" class=\"dataframe\">\n",
       "  <thead>\n",
       "    <tr style=\"text-align: right;\">\n",
       "      <th></th>\n",
       "      <th>player</th>\n",
       "      <th>link</th>\n",
       "      <th>stats_id</th>\n",
       "    </tr>\n",
       "  </thead>\n",
       "  <tbody>\n",
       "    <tr>\n",
       "      <td>0</td>\n",
       "      <td>Abdelnaby, Alaa</td>\n",
       "      <td>https://stats.nba.com/player/76001/</td>\n",
       "      <td>76001</td>\n",
       "    </tr>\n",
       "    <tr>\n",
       "      <td>1</td>\n",
       "      <td>Abdul-Aziz, Zaid</td>\n",
       "      <td>https://stats.nba.com/player/76002/</td>\n",
       "      <td>76002</td>\n",
       "    </tr>\n",
       "    <tr>\n",
       "      <td>2</td>\n",
       "      <td>Abdul-Jabbar, Kareem</td>\n",
       "      <td>https://stats.nba.com/player/76003/</td>\n",
       "      <td>76003</td>\n",
       "    </tr>\n",
       "    <tr>\n",
       "      <td>3</td>\n",
       "      <td>Abdul-Rauf, Mahmoud</td>\n",
       "      <td>https://stats.nba.com/player/51/</td>\n",
       "      <td>51</td>\n",
       "    </tr>\n",
       "    <tr>\n",
       "      <td>4</td>\n",
       "      <td>Abdul-Wahad, Tariq</td>\n",
       "      <td>https://stats.nba.com/player/1505/</td>\n",
       "      <td>1505</td>\n",
       "    </tr>\n",
       "    <tr>\n",
       "      <td>...</td>\n",
       "      <td>...</td>\n",
       "      <td>...</td>\n",
       "      <td>...</td>\n",
       "    </tr>\n",
       "    <tr>\n",
       "      <td>4498</td>\n",
       "      <td>Zizic, Ante</td>\n",
       "      <td>https://stats.nba.com/player/1627790/</td>\n",
       "      <td>1627790</td>\n",
       "    </tr>\n",
       "    <tr>\n",
       "      <td>4499</td>\n",
       "      <td>Zoet, Jim</td>\n",
       "      <td>https://stats.nba.com/player/78647/</td>\n",
       "      <td>78647</td>\n",
       "    </tr>\n",
       "    <tr>\n",
       "      <td>4500</td>\n",
       "      <td>Zopf, Bill</td>\n",
       "      <td>https://stats.nba.com/player/78648/</td>\n",
       "      <td>78648</td>\n",
       "    </tr>\n",
       "    <tr>\n",
       "      <td>4501</td>\n",
       "      <td>Zubac, Ivica</td>\n",
       "      <td>https://stats.nba.com/player/1627826/</td>\n",
       "      <td>1627826</td>\n",
       "    </tr>\n",
       "    <tr>\n",
       "      <td>4502</td>\n",
       "      <td>Zunic, Matt</td>\n",
       "      <td>https://stats.nba.com/player/78650/</td>\n",
       "      <td>78650</td>\n",
       "    </tr>\n",
       "  </tbody>\n",
       "</table>\n",
       "<p>4503 rows × 3 columns</p>\n",
       "</div>"
      ],
      "text/plain": [
       "                    player                                   link stats_id\n",
       "0          Abdelnaby, Alaa    https://stats.nba.com/player/76001/    76001\n",
       "1         Abdul-Aziz, Zaid    https://stats.nba.com/player/76002/    76002\n",
       "2     Abdul-Jabbar, Kareem    https://stats.nba.com/player/76003/    76003\n",
       "3      Abdul-Rauf, Mahmoud       https://stats.nba.com/player/51/       51\n",
       "4       Abdul-Wahad, Tariq     https://stats.nba.com/player/1505/     1505\n",
       "...                    ...                                    ...      ...\n",
       "4498           Zizic, Ante  https://stats.nba.com/player/1627790/  1627790\n",
       "4499             Zoet, Jim    https://stats.nba.com/player/78647/    78647\n",
       "4500            Zopf, Bill    https://stats.nba.com/player/78648/    78648\n",
       "4501          Zubac, Ivica  https://stats.nba.com/player/1627826/  1627826\n",
       "4502           Zunic, Matt    https://stats.nba.com/player/78650/    78650\n",
       "\n",
       "[4503 rows x 3 columns]"
      ]
     },
     "execution_count": 36,
     "metadata": {},
     "output_type": "execute_result"
    }
   ],
   "source": [
    "df"
   ]
  },
  {
   "cell_type": "raw",
   "metadata": {},
   "source": [
    "format: https://stats.nba.com/player/203507/\n",
    "\n",
    "stats-container__inner     class=\"stats-splits player-view   row        nba-stat-table"
   ]
  },
  {
   "cell_type": "code",
   "execution_count": null,
   "metadata": {},
   "outputs": [],
   "source": [
    "urlpage = 'https://stats.nba.com/player/203507/usage/?Season=2015-16&SeasonType=Regular%20Season' \n",
    "print(urlpage)\n",
    "# run firefox webdriver from executable path of your choice\n",
    "driver = webdriver.Firefox()"
   ]
  },
  {
   "cell_type": "code",
   "execution_count": null,
   "metadata": {},
   "outputs": [],
   "source": [
    "# get web page\n",
    "driver.get(urlpage)\n",
    "# execute script to scroll down the page\n",
    "driver.execute_script(\"window.scrollTo(0, document.body.scrollHeight);var lenOfPage=document.body.scrollHeight;return lenOfPage;\")\n",
    "# sleep for 30s\n",
    "time.sleep(30)\n",
    "# driver.quit()"
   ]
  },
  {
   "cell_type": "code",
   "execution_count": null,
   "metadata": {},
   "outputs": [],
   "source": [
    "df"
   ]
  }
 ],
 "metadata": {
  "kernelspec": {
   "display_name": "Python 3",
   "language": "python",
   "name": "python3"
  },
  "language_info": {
   "codemirror_mode": {
    "name": "ipython",
    "version": 3
   },
   "file_extension": ".py",
   "mimetype": "text/x-python",
   "name": "python",
   "nbconvert_exporter": "python",
   "pygments_lexer": "ipython3",
   "version": "3.7.4"
  }
 },
 "nbformat": 4,
 "nbformat_minor": 4
}
