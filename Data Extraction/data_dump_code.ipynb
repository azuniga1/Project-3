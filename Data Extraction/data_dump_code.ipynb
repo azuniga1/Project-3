{
 "cells": [
  {
   "cell_type": "code",
   "execution_count": null,
   "metadata": {
    "colab": {
     "base_uri": "https://localhost:8080/",
     "height": 869
    },
    "colab_type": "code",
    "id": "Ecp0KdKATlHA",
    "outputId": "fb5b1b7c-c240-4650-dcd0-c3549e676027"
   },
   "outputs": [],
   "source": [
    "# pip install basketball-reference-web-scraper"
   ]
  },
  {
   "cell_type": "code",
   "execution_count": null,
   "metadata": {
    "colab": {},
    "colab_type": "code",
    "id": "Vv4Sp_9pTp4j"
   },
   "outputs": [],
   "source": [
    "from basketball_reference_web_scraper import client\n",
    "from basketball_reference_web_scraper.data import Team\n",
    "import pandas as pd\n",
    "import numpy as np"
   ]
  },
  {
   "cell_type": "markdown",
   "metadata": {
    "colab_type": "text",
    "id": "57d3XicxXgZk"
   },
   "source": [
    "## **Season Totals Raw** - Very Useful"
   ]
  },
  {
   "cell_type": "code",
   "execution_count": 1,
   "metadata": {
    "colab": {},
    "colab_type": "code",
    "id": "EeQZnmpJXfUu"
   },
   "outputs": [],
   "source": [
    "# raw_totals_2018 = client.players_season_totals(2018)"
   ]
  },
  {
   "cell_type": "code",
   "execution_count": 2,
   "metadata": {},
   "outputs": [],
   "source": [
    "# raw_totals_2018 "
   ]
  },
  {
   "cell_type": "code",
   "execution_count": null,
   "metadata": {
    "colab": {
     "base_uri": "https://localhost:8080/",
     "height": 531
    },
    "colab_type": "code",
    "id": "CIEt__YDXflX",
    "outputId": "aaabba7b-b7ce-4045-b361-2c2ac514315c"
   },
   "outputs": [],
   "source": [
    "# df_raw_totals_2018 = pd.DataFrame(raw_totals_2018)\n",
    "# df_raw_totals_2018.head(10)"
   ]
  },
  {
   "cell_type": "markdown",
   "metadata": {
    "colab_type": "text",
    "id": "TVS5o46AVYB2"
   },
   "source": [
    "## **Advanced Season Totals** - Pretty Useful"
   ]
  },
  {
   "cell_type": "code",
   "execution_count": null,
   "metadata": {
    "colab": {},
    "colab_type": "code",
    "id": "bfI-lANST6ar"
   },
   "outputs": [],
   "source": [
    "all_season_2019 = client.players_advanced_season_totals(season_end_year=2019)"
   ]
  },
  {
   "cell_type": "code",
   "execution_count": null,
   "metadata": {
    "colab": {
     "base_uri": "https://localhost:8080/",
     "height": 34
    },
    "colab_type": "code",
    "id": "QT_zaAilUMfe",
    "outputId": "c41e3b4f-2553-4cb7-862c-d0bf504b641d"
   },
   "outputs": [],
   "source": [
    "type(all_season_2019)"
   ]
  },
  {
   "cell_type": "code",
   "execution_count": null,
   "metadata": {
    "colab": {},
    "colab_type": "code",
    "id": "Jpx2dKpNUSOJ"
   },
   "outputs": [],
   "source": [
    "import pandas as pd"
   ]
  },
  {
   "cell_type": "code",
   "execution_count": null,
   "metadata": {
    "colab": {
     "base_uri": "https://localhost:8080/",
     "height": 299
    },
    "colab_type": "code",
    "id": "e9nZRujxUZbE",
    "outputId": "1ff580f2-7613-4648-9a99-c32761fd70f0"
   },
   "outputs": [],
   "source": [
    "df_2019 = pd.DataFrame(all_season_2019)\n",
    "df_2019.head()"
   ]
  },
  {
   "cell_type": "code",
   "execution_count": null,
   "metadata": {
    "colab": {},
    "colab_type": "code",
    "id": "S0DE6NOYUjvx"
   },
   "outputs": [],
   "source": [
    "df_2019.to_csv('advanced_season_totals_2019.csv')"
   ]
  },
  {
   "cell_type": "markdown",
   "metadata": {
    "colab_type": "text",
    "id": "EaivYmKZWicJ"
   },
   "source": [
    "## **Individual Game Play-By-Play** - Not very useful"
   ]
  },
  {
   "cell_type": "code",
   "execution_count": null,
   "metadata": {
    "colab": {},
    "colab_type": "code",
    "id": "TqxqP51rVmRp"
   },
   "outputs": [],
   "source": []
  },
  {
   "cell_type": "code",
   "execution_count": null,
   "metadata": {
    "colab": {},
    "colab_type": "code",
    "id": "zjGMv1KMVmUq"
   },
   "outputs": [],
   "source": [
    "pbp_20181016 = client.play_by_play(\n",
    "    home_team=Team.BOSTON_CELTICS,\n",
    "    year=2018,\n",
    "    month=10,\n",
    "    day=16,\n",
    ")"
   ]
  },
  {
   "cell_type": "code",
   "execution_count": null,
   "metadata": {
    "colab": {},
    "colab_type": "code",
    "id": "uMZxDCTtVmYC"
   },
   "outputs": [],
   "source": [
    "df_20181016 = pd.DataFrame(pbp_20181016)"
   ]
  },
  {
   "cell_type": "code",
   "execution_count": null,
   "metadata": {
    "colab": {
     "base_uri": "https://localhost:8080/",
     "height": 800
    },
    "colab_type": "code",
    "id": "6lcU2k0vXCbl",
    "outputId": "69e533b7-aca8-4eb4-e9eb-06dea7f4cb31"
   },
   "outputs": [],
   "source": [
    "df_20181016.head(10)"
   ]
  },
  {
   "cell_type": "code",
   "execution_count": null,
   "metadata": {
    "colab": {},
    "colab_type": "code",
    "id": "jFRhYS6YXE_3"
   },
   "outputs": [],
   "source": []
  },
  {
   "cell_type": "markdown",
   "metadata": {
    "colab_type": "text",
    "id": "xwDMV_UTYIC_"
   },
   "source": [
    "## **Box Scores by Player** - Very Useful "
   ]
  },
  {
   "cell_type": "code",
   "execution_count": null,
   "metadata": {
    "colab": {},
    "colab_type": "code",
    "id": "9h78OyFKYhPK"
   },
   "outputs": [],
   "source": [
    "westbrook2019 = client.regular_season_player_box_scores(\n",
    "  player_identifier=\"westbru01\",season_end_year=2019\n",
    " \n",
    ")"
   ]
  },
  {
   "cell_type": "code",
   "execution_count": null,
   "metadata": {
    "colab": {
     "base_uri": "https://localhost:8080/",
     "height": 531
    },
    "colab_type": "code",
    "id": "t-tUzGN3YhRn",
    "outputId": "fa457720-1b16-4b67-cd14-fe4049438012"
   },
   "outputs": [],
   "source": [
    "df_westbrook2019 = pd.DataFrame(westbrook2019)\n",
    "df_westbrook2019.head(10)"
   ]
  },
  {
   "cell_type": "markdown",
   "metadata": {
    "colab_type": "text",
    "id": "M0JF_0w389QP"
   },
   "source": [
    "## **Script to get Player Box Scores for period between years**"
   ]
  },
  {
   "cell_type": "code",
   "execution_count": null,
   "metadata": {
    "colab": {},
    "colab_type": "code",
    "id": "Ea7j_mRDYhKg"
   },
   "outputs": [],
   "source": [
    "def box_score_df(player_id, year):\n",
    "  df = pd.DataFrame(client.regular_season_player_box_scores(player_identifier=player_id,\n",
    "  season_end_year=year))\n",
    "  return df\n",
    "\n",
    "def all_box_scores(player_id,year_start,year_stop):\n",
    "    df = pd.concat([box_score_df(player_id, year) for year in range(year_start,year_stop)],\n",
    "                   axis = 'rows',\n",
    "                   join = 'inner')\n",
    "    return df"
   ]
  },
  {
   "cell_type": "code",
   "execution_count": null,
   "metadata": {
    "colab": {},
    "colab_type": "code",
    "id": "IdS4k9q59auW"
   },
   "outputs": [],
   "source": [
    "import pandas as pd\n",
    "from basketball_reference_web_scraper.data import Team\n",
    "from basketball_reference_web_scraper import client\n"
   ]
  },
  {
   "cell_type": "markdown",
   "metadata": {
    "colab_type": "text",
    "id": "B08iTPAg-VyT"
   },
   "source": [
    "### **Test for Russell Westbrooks box scores between 2014-2018"
   ]
  },
  {
   "cell_type": "code",
   "execution_count": null,
   "metadata": {
    "colab": {
     "base_uri": "https://localhost:8080/",
     "height": 454
    },
    "colab_type": "code",
    "id": "0_Huaysm8ysu",
    "outputId": "a59c8a9f-e88a-4951-d97d-57c1736ea163"
   },
   "outputs": [],
   "source": [
    "westbrook_4years = all_box_scores(\"westbru01\",2015,2020)\n",
    "print(westbrook_4years.head(10))\n",
    "print(westbrook_4years.tail(10))"
   ]
  },
  {
   "cell_type": "code",
   "execution_count": null,
   "metadata": {
    "colab": {
     "base_uri": "https://localhost:8080/",
     "height": 304
    },
    "colab_type": "code",
    "id": "OAbmrIZv8zdP",
    "outputId": "0f90fb67-e4da-4998-ec23-e1dd6f651502"
   },
   "outputs": [],
   "source": [
    "westbrook_4years.describe()"
   ]
  },
  {
   "cell_type": "code",
   "execution_count": null,
   "metadata": {
    "colab": {},
    "colab_type": "code",
    "id": "loitxlhV-3Yq"
   },
   "outputs": [],
   "source": [
    "westbrook_4years.to_csv('westbrook_2014_2019.csv')"
   ]
  },
  {
   "cell_type": "code",
   "execution_count": null,
   "metadata": {
    "colab": {},
    "colab_type": "code",
    "id": "LA5eO3nnwf2n"
   },
   "outputs": [],
   "source": [
    "schedule_2018 = client.season_schedule(season_end_year=2018)"
   ]
  },
  {
   "cell_type": "code",
   "execution_count": null,
   "metadata": {
    "colab": {
     "base_uri": "https://localhost:8080/",
     "height": 343
    },
    "colab_type": "code",
    "id": "LBZbONSzw2cA",
    "outputId": "060346b8-b942-46d1-b79b-95245a06e34a"
   },
   "outputs": [],
   "source": [
    "df_schedule_2018 = pd.DataFrame(schedule_2018)\n",
    "df_schedule_2018.head(10)"
   ]
  },
  {
   "cell_type": "code",
   "execution_count": null,
   "metadata": {
    "colab": {
     "base_uri": "https://localhost:8080/",
     "height": 402
    },
    "colab_type": "code",
    "id": "_HxlNseAx5QG",
    "outputId": "7ed39752-2bad-413e-ef79-cf35362fb1a9"
   },
   "outputs": [],
   "source": [
    "df_schedule_2018.tail(100)"
   ]
  },
  {
   "cell_type": "code",
   "execution_count": null,
   "metadata": {
    "colab": {},
    "colab_type": "code",
    "id": "_BaxXU01w_qI"
   },
   "outputs": [],
   "source": [
    "df_2020_schedule = pd.DataFrame(client.season_schedule(season_end_year=2020))"
   ]
  },
  {
   "cell_type": "code",
   "execution_count": null,
   "metadata": {
    "colab": {
     "base_uri": "https://localhost:8080/",
     "height": 34
    },
    "colab_type": "code",
    "id": "X17DvUCwxb34",
    "outputId": "1e86ccd4-afa2-4e44-8050-721552f7f75b"
   },
   "outputs": [],
   "source": [
    "df_schedule_2018.shape"
   ]
  },
  {
   "cell_type": "code",
   "execution_count": null,
   "metadata": {
    "colab": {
     "base_uri": "https://localhost:8080/",
     "height": 34
    },
    "colab_type": "code",
    "id": "qTriWHjRxoGv",
    "outputId": "c8f5ef3a-ca26-4fa4-eb9c-78b19bc03fda"
   },
   "outputs": [],
   "source": [
    "df_2020_schedule.shape"
   ]
  },
  {
   "cell_type": "code",
   "execution_count": null,
   "metadata": {
    "colab": {
     "base_uri": "https://localhost:8080/",
     "height": 639
    },
    "colab_type": "code",
    "id": "IB0NZ8qCxSMk",
    "outputId": "826aa2b4-a3ff-47e2-d7f6-6a6223592afb"
   },
   "outputs": [],
   "source": [
    "df_2020_schedule.tail(20)"
   ]
  },
  {
   "cell_type": "code",
   "execution_count": null,
   "metadata": {},
   "outputs": [],
   "source": [
    "client.player_box_scores"
   ]
  },
  {
   "cell_type": "code",
   "execution_count": null,
   "metadata": {},
   "outputs": [],
   "source": [
    "def allscores(day, month, year):\n",
    "    df = pd.DataFrame(client.player_box_scores(day=day, month=month, year=year))\n",
    "    return df"
   ]
  },
  {
   "cell_type": "code",
   "execution_count": null,
   "metadata": {},
   "outputs": [],
   "source": [
    "columns = allscores(2,1,2020).columns"
   ]
  },
  {
   "cell_type": "raw",
   "metadata": {},
   "source": [
    "for i, j, k  in range(1,32), range(1,12), range(2012,2021):\n",
    "    date_list = [i,j,k]"
   ]
  },
  {
   "cell_type": "code",
   "execution_count": null,
   "metadata": {},
   "outputs": [],
   "source": [
    "client.player_box_scores(15,10,2016)"
   ]
  },
  {
   "cell_type": "code",
   "execution_count": null,
   "metadata": {},
   "outputs": [],
   "source": [
    "import datetime\n",
    "from datetime import date\n",
    "# date1 = 1,2,3\n",
    "# date2 = date.today()\n",
    "start = datetime.datetime(2013, 1, 1)\n",
    "end = date.today()\n",
    "mydates = pd.date_range(start, end)#.tolist()"
   ]
  },
  {
   "cell_type": "code",
   "execution_count": null,
   "metadata": {},
   "outputs": [],
   "source": [
    "def all_data(y, m, d):\n",
    "    start = datetime.datetime(y, m, d)\n",
    "    end = date.today()\n",
    "    mydates = pd.date_range(start, end)#.tolist()\n",
    "\n",
    "    for x in mydates:\n",
    "        day = x.day\n",
    "        month = x.month\n",
    "        year = x.year\n",
    "        allscores(day, month, year)\n"
   ]
  },
  {
   "cell_type": "code",
   "execution_count": null,
   "metadata": {},
   "outputs": [],
   "source": [
    "df = []\n",
    "for x in mydates:\n",
    "        day = x.day\n",
    "        month = x.month\n",
    "        year = x.year\n",
    "        day_plays = allscores(day, month, year)\n",
    "        day_plays['date'] = x\n",
    "        df.append(day_plays)"
   ]
  },
  {
   "cell_type": "code",
   "execution_count": null,
   "metadata": {},
   "outputs": [],
   "source": [
    "df"
   ]
  },
  {
   "cell_type": "code",
   "execution_count": null,
   "metadata": {},
   "outputs": [],
   "source": [
    "joined = pd.DataFrame(columns = columns)\n",
    "\n",
    "for x in range(len(df)):\n",
    "    joined = pd.DataFrame.append(joined, df[x], ignore_index=True)"
   ]
  },
  {
   "cell_type": "code",
   "execution_count": null,
   "metadata": {},
   "outputs": [],
   "source": [
    "joined = pd.DataFrame.append(df[0], df[1], df,[2])"
   ]
  },
  {
   "cell_type": "code",
   "execution_count": null,
   "metadata": {},
   "outputs": [],
   "source": [
    "df[35]"
   ]
  },
  {
   "cell_type": "code",
   "execution_count": null,
   "metadata": {},
   "outputs": [],
   "source": [
    "joined.to_csv('2013-2020.csv')"
   ]
  },
  {
   "cell_type": "code",
   "execution_count": null,
   "metadata": {},
   "outputs": [],
   "source": [
    "joined"
   ]
  },
  {
   "cell_type": "code",
   "execution_count": null,
   "metadata": {},
   "outputs": [],
   "source": [
    "dfs = pd.DataFrame(df[0])"
   ]
  },
  {
   "cell_type": "code",
   "execution_count": null,
   "metadata": {},
   "outputs": [],
   "source": [
    "dfs[0][2]"
   ]
  },
  {
   "cell_type": "code",
   "execution_count": null,
   "metadata": {},
   "outputs": [],
   "source": [
    "df = all_data(2020, 2, 1)"
   ]
  },
  {
   "cell_type": "code",
   "execution_count": null,
   "metadata": {},
   "outputs": [],
   "source": []
  },
  {
   "cell_type": "code",
   "execution_count": null,
   "metadata": {},
   "outputs": [],
   "source": [
    "df"
   ]
  },
  {
   "cell_type": "code",
   "execution_count": null,
   "metadata": {},
   "outputs": [],
   "source": [
    "df"
   ]
  },
  {
   "cell_type": "code",
   "execution_count": null,
   "metadata": {},
   "outputs": [],
   "source": [
    "westbrook_4years.to_csv('westbrook_2014_2019.csv')"
   ]
  },
  {
   "cell_type": "code",
   "execution_count": null,
   "metadata": {},
   "outputs": [],
   "source": [
    "client.players_advanced_season_totals"
   ]
  },
  {
   "cell_type": "code",
   "execution_count": null,
   "metadata": {},
   "outputs": [],
   "source": [
    "# client.players_advanced_season_totals(2013)"
   ]
  },
  {
   "cell_type": "code",
   "execution_count": null,
   "metadata": {},
   "outputs": [],
   "source": [
    "# advance_data = []\n",
    "# for x in range(2013,2021):\n",
    "#         advance_data.append(pd.DataFrame(client.players_advanced_season_totals(x)))"
   ]
  },
  {
   "cell_type": "code",
   "execution_count": null,
   "metadata": {},
   "outputs": [],
   "source": [
    "advance_data = []\n",
    "for x in range(2013,2021):\n",
    "    yearly = pd.DataFrame(client.players_advanced_season_totals(x))\n",
    "    yearly['year'] = x                      \n",
    "    advance_data.append(yearly)"
   ]
  },
  {
   "cell_type": "code",
   "execution_count": null,
   "metadata": {},
   "outputs": [],
   "source": [
    "# for x in advance_data:\n",
    "#     for y in range(2013,2021):\n",
    "#         ['year'] = y"
   ]
  },
  {
   "cell_type": "code",
   "execution_count": null,
   "metadata": {},
   "outputs": [],
   "source": [
    "advance_data[4]['year']"
   ]
  },
  {
   "cell_type": "code",
   "execution_count": null,
   "metadata": {},
   "outputs": [],
   "source": [
    "advance_joined = pd.DataFrame()\n",
    "\n",
    "for x in range(len(advance_data)):\n",
    "    advance_joined = pd.DataFrame.append(advance_joined, advance_data[x], ignore_index=True)"
   ]
  },
  {
   "cell_type": "code",
   "execution_count": null,
   "metadata": {},
   "outputs": [],
   "source": []
  },
  {
   "cell_type": "code",
   "execution_count": null,
   "metadata": {},
   "outputs": [],
   "source": []
  },
  {
   "cell_type": "code",
   "execution_count": null,
   "metadata": {},
   "outputs": [],
   "source": [
    "advance_joined"
   ]
  },
  {
   "cell_type": "code",
   "execution_count": null,
   "metadata": {},
   "outputs": [],
   "source": []
  }
 ],
 "metadata": {
  "colab": {
   "name": "NBA Scraper - TEST",
   "provenance": [],
   "toc_visible": true
  },
  "kernelspec": {
   "display_name": "Python 3",
   "language": "python",
   "name": "python3"
  },
  "language_info": {
   "codemirror_mode": {
    "name": "ipython",
    "version": 3
   },
   "file_extension": ".py",
   "mimetype": "text/x-python",
   "name": "python",
   "nbconvert_exporter": "python",
   "pygments_lexer": "ipython3",
   "version": "3.7.3"
  }
 },
 "nbformat": 4,
 "nbformat_minor": 4
}
