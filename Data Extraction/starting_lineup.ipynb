{
 "cells": [
  {
   "cell_type": "code",
   "execution_count": 78,
   "metadata": {},
   "outputs": [],
   "source": [
    "import pandas as pd\n",
    "from urllib.request import urlopen\n",
    "from bs4 import BeautifulSoup"
   ]
  },
  {
   "cell_type": "code",
   "execution_count": 79,
   "metadata": {},
   "outputs": [],
   "source": [
    "def get_starting_lineup():\n",
    "    url = \"http://www.espn.com/nba/depth\"\n",
    "    html = urlopen(url)\n",
    "    soup = BeautifulSoup(html)\n",
    "    #use find_all from beautifulsoup to locate the header in the first table row (tag <tr>)\n",
    "    tr_header = soup.find_all('tr', limit=2)[1]\n",
    "    #use get_text to extract column header names under (tag <td>), and put into a list\n",
    "    headers = [td.get_text() for td in tr_header.find_all('td')]\n",
    "    #skip header row \n",
    "    tr_rows = soup.find_all('tr')[2:]\n",
    "    #use get_text to extract starting player data from table data (tag <a>), skipping column header row\n",
    "    starters_data = [[a.get_text().strip() for a in tr_rows[i].find_all('a')] for i in range(len(tr_rows))]\n",
    "    team_starters_df = pd.DataFrame(starters_data, columns=headers)\n",
    "    \n",
    "    return(team_starters_df)"
   ]
  },
  {
   "cell_type": "code",
   "execution_count": 80,
   "metadata": {},
   "outputs": [
    {
     "data": {
      "text/html": [
       "<div>\n",
       "<style scoped>\n",
       "    .dataframe tbody tr th:only-of-type {\n",
       "        vertical-align: middle;\n",
       "    }\n",
       "\n",
       "    .dataframe tbody tr th {\n",
       "        vertical-align: top;\n",
       "    }\n",
       "\n",
       "    .dataframe thead th {\n",
       "        text-align: right;\n",
       "    }\n",
       "</style>\n",
       "<table border=\"1\" class=\"dataframe\">\n",
       "  <thead>\n",
       "    <tr style=\"text-align: right;\">\n",
       "      <th></th>\n",
       "      <th>TEAM</th>\n",
       "      <th>PG</th>\n",
       "      <th>SG</th>\n",
       "      <th>SF</th>\n",
       "      <th>PF</th>\n",
       "      <th>C</th>\n",
       "    </tr>\n",
       "  </thead>\n",
       "  <tbody>\n",
       "    <tr>\n",
       "      <td>0</td>\n",
       "      <td>Atlanta</td>\n",
       "      <td>T. Young</td>\n",
       "      <td>K. Huerter</td>\n",
       "      <td>D. Hunter</td>\n",
       "      <td>J. Collins</td>\n",
       "      <td>C. Capela</td>\n",
       "    </tr>\n",
       "    <tr>\n",
       "      <td>1</td>\n",
       "      <td>Boston</td>\n",
       "      <td>K. Walker</td>\n",
       "      <td>J. Brown</td>\n",
       "      <td>J. Tatum</td>\n",
       "      <td>G. Hayward</td>\n",
       "      <td>D. Theis</td>\n",
       "    </tr>\n",
       "    <tr>\n",
       "      <td>2</td>\n",
       "      <td>Brooklyn</td>\n",
       "      <td>K. Irving</td>\n",
       "      <td>J. Harris</td>\n",
       "      <td>C. LeVert</td>\n",
       "      <td>T. Prince</td>\n",
       "      <td>J. Allen</td>\n",
       "    </tr>\n",
       "    <tr>\n",
       "      <td>3</td>\n",
       "      <td>Charlotte</td>\n",
       "      <td>D. Graham</td>\n",
       "      <td>T. Rozier</td>\n",
       "      <td>M. Bridges</td>\n",
       "      <td>P. Washington</td>\n",
       "      <td>C. Zeller</td>\n",
       "    </tr>\n",
       "    <tr>\n",
       "      <td>4</td>\n",
       "      <td>Chicago</td>\n",
       "      <td>T. Satoransky</td>\n",
       "      <td>Z. LaVine</td>\n",
       "      <td>K. Dunn</td>\n",
       "      <td>L. Markkanen</td>\n",
       "      <td>L. Kornet</td>\n",
       "    </tr>\n",
       "  </tbody>\n",
       "</table>\n",
       "</div>"
      ],
      "text/plain": [
       "        TEAM             PG          SG          SF             PF          C\n",
       "0    Atlanta       T. Young  K. Huerter   D. Hunter     J. Collins  C. Capela\n",
       "1     Boston      K. Walker    J. Brown    J. Tatum     G. Hayward   D. Theis\n",
       "2   Brooklyn      K. Irving   J. Harris   C. LeVert      T. Prince   J. Allen\n",
       "3  Charlotte      D. Graham   T. Rozier  M. Bridges  P. Washington  C. Zeller\n",
       "4    Chicago  T. Satoransky   Z. LaVine     K. Dunn   L. Markkanen  L. Kornet"
      ]
     },
     "execution_count": 80,
     "metadata": {},
     "output_type": "execute_result"
    }
   ],
   "source": [
    "get_starting_lineup().head()"
   ]
  },
  {
   "cell_type": "code",
   "execution_count": null,
   "metadata": {},
   "outputs": [],
   "source": []
  }
 ],
 "metadata": {
  "kernelspec": {
   "display_name": "Python 3",
   "language": "python",
   "name": "python3"
  },
  "language_info": {
   "codemirror_mode": {
    "name": "ipython",
    "version": 3
   },
   "file_extension": ".py",
   "mimetype": "text/x-python",
   "name": "python",
   "nbconvert_exporter": "python",
   "pygments_lexer": "ipython3",
   "version": "3.7.3"
  }
 },
 "nbformat": 4,
 "nbformat_minor": 4
}
