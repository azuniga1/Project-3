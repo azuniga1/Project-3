{
 "cells": [
  {
   "cell_type": "markdown",
   "metadata": {},
   "source": [
    "# NBA Matchup Predictor"
   ]
  },
  {
   "cell_type": "code",
   "execution_count": 102,
   "metadata": {},
   "outputs": [],
   "source": [
    "import pandas as pd\n",
    "import numpy as np\n",
    "from numpy.random import seed\n",
    "seed(1)\n",
    "\n",
    "from tensorflow import random\n",
    "from tensorflow.keras.models import Sequential\n",
    "from tensorflow.keras.layers import Dense, Dropout\n",
    "\n",
    "from sklearn.preprocessing import StandardScaler\n",
    "\n",
    "\n",
    "import matplotlib.pyplot as plt\n",
    "import hvplot.pandas\n",
    "%matplotlib inline\n",
    "\n",
    "random.set_seed(2)"
   ]
  },
  {
   "cell_type": "markdown",
   "metadata": {},
   "source": [
    "## Define `standard_scaler`"
   ]
  },
  {
   "cell_type": "code",
   "execution_count": 103,
   "metadata": {},
   "outputs": [],
   "source": [
    "# define standard scaler\n",
    "standard_scaler = StandardScaler()\n",
    "#standard_scaler.fit_transform()"
   ]
  },
  {
   "cell_type": "markdown",
   "metadata": {},
   "source": [
    "## Prepare Data"
   ]
  },
  {
   "cell_type": "code",
   "execution_count": 104,
   "metadata": {},
   "outputs": [],
   "source": [
    "features = pd.read_csv('../Resources/training_data_features.csv')\n",
    "target = pd.read_csv('../Resources/training_data_target.csv')"
   ]
  },
  {
   "cell_type": "markdown",
   "metadata": {},
   "source": [
    "### Features "
   ]
  },
  {
   "cell_type": "code",
   "execution_count": 74,
   "metadata": {},
   "outputs": [],
   "source": [
    "features.fillna(0, inplace=True)"
   ]
  },
  {
   "cell_type": "code",
   "execution_count": 130,
   "metadata": {},
   "outputs": [
    {
     "data": {
      "text/html": [
       "<div>\n",
       "<style scoped>\n",
       "    .dataframe tbody tr th:only-of-type {\n",
       "        vertical-align: middle;\n",
       "    }\n",
       "\n",
       "    .dataframe tbody tr th {\n",
       "        vertical-align: top;\n",
       "    }\n",
       "\n",
       "    .dataframe thead th {\n",
       "        text-align: right;\n",
       "    }\n",
       "</style>\n",
       "<table border=\"1\" class=\"dataframe\">\n",
       "  <thead>\n",
       "    <tr style=\"text-align: right;\">\n",
       "      <th></th>\n",
       "      <th>seconds_played</th>\n",
       "      <th>made_field_goals</th>\n",
       "      <th>attempted_field_goals</th>\n",
       "      <th>made_three_point_field_goals</th>\n",
       "      <th>attempted_three_point_field_goals</th>\n",
       "      <th>made_free_throws</th>\n",
       "      <th>attempted_free_throws</th>\n",
       "      <th>offensive_rebounds</th>\n",
       "      <th>defensive_rebounds</th>\n",
       "      <th>assists</th>\n",
       "      <th>steals</th>\n",
       "      <th>blocks</th>\n",
       "      <th>turnovers</th>\n",
       "      <th>personal_fouls</th>\n",
       "      <th>game_score</th>\n",
       "    </tr>\n",
       "  </thead>\n",
       "  <tbody>\n",
       "    <tr>\n",
       "      <th>0</th>\n",
       "      <td>997.75</td>\n",
       "      <td>1.0</td>\n",
       "      <td>3.25</td>\n",
       "      <td>1.0</td>\n",
       "      <td>2.75</td>\n",
       "      <td>0.0</td>\n",
       "      <td>0.0</td>\n",
       "      <td>0.25</td>\n",
       "      <td>2.5</td>\n",
       "      <td>2.0</td>\n",
       "      <td>0.0</td>\n",
       "      <td>0.25</td>\n",
       "      <td>1.0</td>\n",
       "      <td>2.0</td>\n",
       "      <td>1.825</td>\n",
       "    </tr>\n",
       "    <tr>\n",
       "      <th>1</th>\n",
       "      <td>786.40</td>\n",
       "      <td>1.6</td>\n",
       "      <td>3.20</td>\n",
       "      <td>1.4</td>\n",
       "      <td>3.00</td>\n",
       "      <td>0.0</td>\n",
       "      <td>0.0</td>\n",
       "      <td>0.00</td>\n",
       "      <td>0.8</td>\n",
       "      <td>0.4</td>\n",
       "      <td>0.0</td>\n",
       "      <td>0.00</td>\n",
       "      <td>0.6</td>\n",
       "      <td>1.4</td>\n",
       "      <td>2.360</td>\n",
       "    </tr>\n",
       "  </tbody>\n",
       "</table>\n",
       "</div>"
      ],
      "text/plain": [
       "   seconds_played  made_field_goals  attempted_field_goals  \\\n",
       "0          997.75               1.0                   3.25   \n",
       "1          786.40               1.6                   3.20   \n",
       "\n",
       "   made_three_point_field_goals  attempted_three_point_field_goals  \\\n",
       "0                           1.0                               2.75   \n",
       "1                           1.4                               3.00   \n",
       "\n",
       "   made_free_throws  attempted_free_throws  offensive_rebounds  \\\n",
       "0               0.0                    0.0                0.25   \n",
       "1               0.0                    0.0                0.00   \n",
       "\n",
       "   defensive_rebounds  assists  steals  blocks  turnovers  personal_fouls  \\\n",
       "0                 2.5      2.0     0.0    0.25        1.0             2.0   \n",
       "1                 0.8      0.4     0.0    0.00        0.6             1.4   \n",
       "\n",
       "   game_score  \n",
       "0       1.825  \n",
       "1       2.360  "
      ]
     },
     "execution_count": 130,
     "metadata": {},
     "output_type": "execute_result"
    }
   ],
   "source": [
    "h2h_features=features[features.columns[-15:]].copy()\n",
    "h2h_features.head(2)"
   ]
  },
  {
   "cell_type": "markdown",
   "metadata": {},
   "source": [
    "### Remove Confounding Features"
   ]
  },
  {
   "cell_type": "code",
   "execution_count": 128,
   "metadata": {},
   "outputs": [
    {
     "data": {
      "text/html": [
       "<div>\n",
       "<style scoped>\n",
       "    .dataframe tbody tr th:only-of-type {\n",
       "        vertical-align: middle;\n",
       "    }\n",
       "\n",
       "    .dataframe tbody tr th {\n",
       "        vertical-align: top;\n",
       "    }\n",
       "\n",
       "    .dataframe thead th {\n",
       "        text-align: right;\n",
       "    }\n",
       "</style>\n",
       "<table border=\"1\" class=\"dataframe\">\n",
       "  <thead>\n",
       "    <tr style=\"text-align: right;\">\n",
       "      <th></th>\n",
       "      <th>seconds_played</th>\n",
       "      <th>made_field_goals</th>\n",
       "      <th>attempted_field_goals</th>\n",
       "      <th>made_three_point_field_goals</th>\n",
       "      <th>attempted_three_point_field_goals</th>\n",
       "      <th>made_free_throws</th>\n",
       "      <th>attempted_free_throws</th>\n",
       "      <th>offensive_rebounds</th>\n",
       "      <th>defensive_rebounds</th>\n",
       "      <th>assists</th>\n",
       "      <th>steals</th>\n",
       "      <th>blocks</th>\n",
       "      <th>turnovers</th>\n",
       "      <th>personal_fouls</th>\n",
       "      <th>game_score</th>\n",
       "    </tr>\n",
       "  </thead>\n",
       "  <tbody>\n",
       "    <tr>\n",
       "      <th>seconds_played</th>\n",
       "      <td>1.000000</td>\n",
       "      <td>0.808446</td>\n",
       "      <td>0.841056</td>\n",
       "      <td>0.527747</td>\n",
       "      <td>0.577738</td>\n",
       "      <td>0.610528</td>\n",
       "      <td>0.620477</td>\n",
       "      <td>0.293148</td>\n",
       "      <td>0.594980</td>\n",
       "      <td>0.577669</td>\n",
       "      <td>0.554502</td>\n",
       "      <td>0.273554</td>\n",
       "      <td>0.638556</td>\n",
       "      <td>0.572839</td>\n",
       "      <td>0.771477</td>\n",
       "    </tr>\n",
       "    <tr>\n",
       "      <th>made_field_goals</th>\n",
       "      <td>0.808446</td>\n",
       "      <td>1.000000</td>\n",
       "      <td>0.946946</td>\n",
       "      <td>0.515681</td>\n",
       "      <td>0.516720</td>\n",
       "      <td>0.738391</td>\n",
       "      <td>0.742533</td>\n",
       "      <td>0.307666</td>\n",
       "      <td>0.576587</td>\n",
       "      <td>0.568087</td>\n",
       "      <td>0.444944</td>\n",
       "      <td>0.282312</td>\n",
       "      <td>0.677458</td>\n",
       "      <td>0.433942</td>\n",
       "      <td>0.930268</td>\n",
       "    </tr>\n",
       "    <tr>\n",
       "      <th>attempted_field_goals</th>\n",
       "      <td>0.841056</td>\n",
       "      <td>0.946946</td>\n",
       "      <td>1.000000</td>\n",
       "      <td>0.593375</td>\n",
       "      <td>0.658626</td>\n",
       "      <td>0.745120</td>\n",
       "      <td>0.732483</td>\n",
       "      <td>0.194196</td>\n",
       "      <td>0.507458</td>\n",
       "      <td>0.619391</td>\n",
       "      <td>0.477763</td>\n",
       "      <td>0.188798</td>\n",
       "      <td>0.704803</td>\n",
       "      <td>0.419018</td>\n",
       "      <td>0.843758</td>\n",
       "    </tr>\n",
       "    <tr>\n",
       "      <th>made_three_point_field_goals</th>\n",
       "      <td>0.527747</td>\n",
       "      <td>0.515681</td>\n",
       "      <td>0.593375</td>\n",
       "      <td>1.000000</td>\n",
       "      <td>0.927778</td>\n",
       "      <td>0.352904</td>\n",
       "      <td>0.282903</td>\n",
       "      <td>-0.275023</td>\n",
       "      <td>0.069222</td>\n",
       "      <td>0.404937</td>\n",
       "      <td>0.315958</td>\n",
       "      <td>-0.158297</td>\n",
       "      <td>0.369208</td>\n",
       "      <td>0.135881</td>\n",
       "      <td>0.484357</td>\n",
       "    </tr>\n",
       "    <tr>\n",
       "      <th>attempted_three_point_field_goals</th>\n",
       "      <td>0.577738</td>\n",
       "      <td>0.516720</td>\n",
       "      <td>0.658626</td>\n",
       "      <td>0.927778</td>\n",
       "      <td>1.000000</td>\n",
       "      <td>0.403892</td>\n",
       "      <td>0.333138</td>\n",
       "      <td>-0.290874</td>\n",
       "      <td>0.088037</td>\n",
       "      <td>0.463814</td>\n",
       "      <td>0.364446</td>\n",
       "      <td>-0.160768</td>\n",
       "      <td>0.424289</td>\n",
       "      <td>0.160722</td>\n",
       "      <td>0.455973</td>\n",
       "    </tr>\n",
       "    <tr>\n",
       "      <th>made_free_throws</th>\n",
       "      <td>0.610528</td>\n",
       "      <td>0.738391</td>\n",
       "      <td>0.745120</td>\n",
       "      <td>0.352904</td>\n",
       "      <td>0.403892</td>\n",
       "      <td>1.000000</td>\n",
       "      <td>0.973627</td>\n",
       "      <td>0.222769</td>\n",
       "      <td>0.489427</td>\n",
       "      <td>0.541662</td>\n",
       "      <td>0.369102</td>\n",
       "      <td>0.232231</td>\n",
       "      <td>0.630859</td>\n",
       "      <td>0.331433</td>\n",
       "      <td>0.810115</td>\n",
       "    </tr>\n",
       "    <tr>\n",
       "      <th>attempted_free_throws</th>\n",
       "      <td>0.620477</td>\n",
       "      <td>0.742533</td>\n",
       "      <td>0.732483</td>\n",
       "      <td>0.282903</td>\n",
       "      <td>0.333138</td>\n",
       "      <td>0.973627</td>\n",
       "      <td>1.000000</td>\n",
       "      <td>0.314119</td>\n",
       "      <td>0.551502</td>\n",
       "      <td>0.528737</td>\n",
       "      <td>0.376269</td>\n",
       "      <td>0.295557</td>\n",
       "      <td>0.647232</td>\n",
       "      <td>0.372919</td>\n",
       "      <td>0.808953</td>\n",
       "    </tr>\n",
       "    <tr>\n",
       "      <th>offensive_rebounds</th>\n",
       "      <td>0.293148</td>\n",
       "      <td>0.307666</td>\n",
       "      <td>0.194196</td>\n",
       "      <td>-0.275023</td>\n",
       "      <td>-0.290874</td>\n",
       "      <td>0.222769</td>\n",
       "      <td>0.314119</td>\n",
       "      <td>1.000000</td>\n",
       "      <td>0.630883</td>\n",
       "      <td>-0.017346</td>\n",
       "      <td>0.102739</td>\n",
       "      <td>0.530090</td>\n",
       "      <td>0.187764</td>\n",
       "      <td>0.394729</td>\n",
       "      <td>0.382914</td>\n",
       "    </tr>\n",
       "    <tr>\n",
       "      <th>defensive_rebounds</th>\n",
       "      <td>0.594980</td>\n",
       "      <td>0.576587</td>\n",
       "      <td>0.507458</td>\n",
       "      <td>0.069222</td>\n",
       "      <td>0.088037</td>\n",
       "      <td>0.489427</td>\n",
       "      <td>0.551502</td>\n",
       "      <td>0.630883</td>\n",
       "      <td>1.000000</td>\n",
       "      <td>0.302545</td>\n",
       "      <td>0.293132</td>\n",
       "      <td>0.559648</td>\n",
       "      <td>0.477650</td>\n",
       "      <td>0.490773</td>\n",
       "      <td>0.657027</td>\n",
       "    </tr>\n",
       "    <tr>\n",
       "      <th>assists</th>\n",
       "      <td>0.577669</td>\n",
       "      <td>0.568087</td>\n",
       "      <td>0.619391</td>\n",
       "      <td>0.404937</td>\n",
       "      <td>0.463814</td>\n",
       "      <td>0.541662</td>\n",
       "      <td>0.528737</td>\n",
       "      <td>-0.017346</td>\n",
       "      <td>0.302545</td>\n",
       "      <td>1.000000</td>\n",
       "      <td>0.489897</td>\n",
       "      <td>-0.014269</td>\n",
       "      <td>0.711620</td>\n",
       "      <td>0.258914</td>\n",
       "      <td>0.642745</td>\n",
       "    </tr>\n",
       "    <tr>\n",
       "      <th>steals</th>\n",
       "      <td>0.554502</td>\n",
       "      <td>0.444944</td>\n",
       "      <td>0.477763</td>\n",
       "      <td>0.315958</td>\n",
       "      <td>0.364446</td>\n",
       "      <td>0.369102</td>\n",
       "      <td>0.376269</td>\n",
       "      <td>0.102739</td>\n",
       "      <td>0.293132</td>\n",
       "      <td>0.489897</td>\n",
       "      <td>1.000000</td>\n",
       "      <td>0.106103</td>\n",
       "      <td>0.446190</td>\n",
       "      <td>0.338049</td>\n",
       "      <td>0.513341</td>\n",
       "    </tr>\n",
       "    <tr>\n",
       "      <th>blocks</th>\n",
       "      <td>0.273554</td>\n",
       "      <td>0.282312</td>\n",
       "      <td>0.188798</td>\n",
       "      <td>-0.158297</td>\n",
       "      <td>-0.160768</td>\n",
       "      <td>0.232231</td>\n",
       "      <td>0.295557</td>\n",
       "      <td>0.530090</td>\n",
       "      <td>0.559648</td>\n",
       "      <td>-0.014269</td>\n",
       "      <td>0.106103</td>\n",
       "      <td>1.000000</td>\n",
       "      <td>0.177339</td>\n",
       "      <td>0.362402</td>\n",
       "      <td>0.358627</td>\n",
       "    </tr>\n",
       "    <tr>\n",
       "      <th>turnovers</th>\n",
       "      <td>0.638556</td>\n",
       "      <td>0.677458</td>\n",
       "      <td>0.704803</td>\n",
       "      <td>0.369208</td>\n",
       "      <td>0.424289</td>\n",
       "      <td>0.630859</td>\n",
       "      <td>0.647232</td>\n",
       "      <td>0.187764</td>\n",
       "      <td>0.477650</td>\n",
       "      <td>0.711620</td>\n",
       "      <td>0.446190</td>\n",
       "      <td>0.177339</td>\n",
       "      <td>1.000000</td>\n",
       "      <td>0.440544</td>\n",
       "      <td>0.630676</td>\n",
       "    </tr>\n",
       "    <tr>\n",
       "      <th>personal_fouls</th>\n",
       "      <td>0.572839</td>\n",
       "      <td>0.433942</td>\n",
       "      <td>0.419018</td>\n",
       "      <td>0.135881</td>\n",
       "      <td>0.160722</td>\n",
       "      <td>0.331433</td>\n",
       "      <td>0.372919</td>\n",
       "      <td>0.394729</td>\n",
       "      <td>0.490773</td>\n",
       "      <td>0.258914</td>\n",
       "      <td>0.338049</td>\n",
       "      <td>0.362402</td>\n",
       "      <td>0.440544</td>\n",
       "      <td>1.000000</td>\n",
       "      <td>0.396773</td>\n",
       "    </tr>\n",
       "    <tr>\n",
       "      <th>game_score</th>\n",
       "      <td>0.771477</td>\n",
       "      <td>0.930268</td>\n",
       "      <td>0.843758</td>\n",
       "      <td>0.484357</td>\n",
       "      <td>0.455973</td>\n",
       "      <td>0.810115</td>\n",
       "      <td>0.808953</td>\n",
       "      <td>0.382914</td>\n",
       "      <td>0.657027</td>\n",
       "      <td>0.642745</td>\n",
       "      <td>0.513341</td>\n",
       "      <td>0.358627</td>\n",
       "      <td>0.630676</td>\n",
       "      <td>0.396773</td>\n",
       "      <td>1.000000</td>\n",
       "    </tr>\n",
       "  </tbody>\n",
       "</table>\n",
       "</div>"
      ],
      "text/plain": [
       "                                   seconds_played  made_field_goals  \\\n",
       "seconds_played                           1.000000          0.808446   \n",
       "made_field_goals                         0.808446          1.000000   \n",
       "attempted_field_goals                    0.841056          0.946946   \n",
       "made_three_point_field_goals             0.527747          0.515681   \n",
       "attempted_three_point_field_goals        0.577738          0.516720   \n",
       "made_free_throws                         0.610528          0.738391   \n",
       "attempted_free_throws                    0.620477          0.742533   \n",
       "offensive_rebounds                       0.293148          0.307666   \n",
       "defensive_rebounds                       0.594980          0.576587   \n",
       "assists                                  0.577669          0.568087   \n",
       "steals                                   0.554502          0.444944   \n",
       "blocks                                   0.273554          0.282312   \n",
       "turnovers                                0.638556          0.677458   \n",
       "personal_fouls                           0.572839          0.433942   \n",
       "game_score                               0.771477          0.930268   \n",
       "\n",
       "                                   attempted_field_goals  \\\n",
       "seconds_played                                  0.841056   \n",
       "made_field_goals                                0.946946   \n",
       "attempted_field_goals                           1.000000   \n",
       "made_three_point_field_goals                    0.593375   \n",
       "attempted_three_point_field_goals               0.658626   \n",
       "made_free_throws                                0.745120   \n",
       "attempted_free_throws                           0.732483   \n",
       "offensive_rebounds                              0.194196   \n",
       "defensive_rebounds                              0.507458   \n",
       "assists                                         0.619391   \n",
       "steals                                          0.477763   \n",
       "blocks                                          0.188798   \n",
       "turnovers                                       0.704803   \n",
       "personal_fouls                                  0.419018   \n",
       "game_score                                      0.843758   \n",
       "\n",
       "                                   made_three_point_field_goals  \\\n",
       "seconds_played                                         0.527747   \n",
       "made_field_goals                                       0.515681   \n",
       "attempted_field_goals                                  0.593375   \n",
       "made_three_point_field_goals                           1.000000   \n",
       "attempted_three_point_field_goals                      0.927778   \n",
       "made_free_throws                                       0.352904   \n",
       "attempted_free_throws                                  0.282903   \n",
       "offensive_rebounds                                    -0.275023   \n",
       "defensive_rebounds                                     0.069222   \n",
       "assists                                                0.404937   \n",
       "steals                                                 0.315958   \n",
       "blocks                                                -0.158297   \n",
       "turnovers                                              0.369208   \n",
       "personal_fouls                                         0.135881   \n",
       "game_score                                             0.484357   \n",
       "\n",
       "                                   attempted_three_point_field_goals  \\\n",
       "seconds_played                                              0.577738   \n",
       "made_field_goals                                            0.516720   \n",
       "attempted_field_goals                                       0.658626   \n",
       "made_three_point_field_goals                                0.927778   \n",
       "attempted_three_point_field_goals                           1.000000   \n",
       "made_free_throws                                            0.403892   \n",
       "attempted_free_throws                                       0.333138   \n",
       "offensive_rebounds                                         -0.290874   \n",
       "defensive_rebounds                                          0.088037   \n",
       "assists                                                     0.463814   \n",
       "steals                                                      0.364446   \n",
       "blocks                                                     -0.160768   \n",
       "turnovers                                                   0.424289   \n",
       "personal_fouls                                              0.160722   \n",
       "game_score                                                  0.455973   \n",
       "\n",
       "                                   made_free_throws  attempted_free_throws  \\\n",
       "seconds_played                             0.610528               0.620477   \n",
       "made_field_goals                           0.738391               0.742533   \n",
       "attempted_field_goals                      0.745120               0.732483   \n",
       "made_three_point_field_goals               0.352904               0.282903   \n",
       "attempted_three_point_field_goals          0.403892               0.333138   \n",
       "made_free_throws                           1.000000               0.973627   \n",
       "attempted_free_throws                      0.973627               1.000000   \n",
       "offensive_rebounds                         0.222769               0.314119   \n",
       "defensive_rebounds                         0.489427               0.551502   \n",
       "assists                                    0.541662               0.528737   \n",
       "steals                                     0.369102               0.376269   \n",
       "blocks                                     0.232231               0.295557   \n",
       "turnovers                                  0.630859               0.647232   \n",
       "personal_fouls                             0.331433               0.372919   \n",
       "game_score                                 0.810115               0.808953   \n",
       "\n",
       "                                   offensive_rebounds  defensive_rebounds  \\\n",
       "seconds_played                               0.293148            0.594980   \n",
       "made_field_goals                             0.307666            0.576587   \n",
       "attempted_field_goals                        0.194196            0.507458   \n",
       "made_three_point_field_goals                -0.275023            0.069222   \n",
       "attempted_three_point_field_goals           -0.290874            0.088037   \n",
       "made_free_throws                             0.222769            0.489427   \n",
       "attempted_free_throws                        0.314119            0.551502   \n",
       "offensive_rebounds                           1.000000            0.630883   \n",
       "defensive_rebounds                           0.630883            1.000000   \n",
       "assists                                     -0.017346            0.302545   \n",
       "steals                                       0.102739            0.293132   \n",
       "blocks                                       0.530090            0.559648   \n",
       "turnovers                                    0.187764            0.477650   \n",
       "personal_fouls                               0.394729            0.490773   \n",
       "game_score                                   0.382914            0.657027   \n",
       "\n",
       "                                    assists    steals    blocks  turnovers  \\\n",
       "seconds_played                     0.577669  0.554502  0.273554   0.638556   \n",
       "made_field_goals                   0.568087  0.444944  0.282312   0.677458   \n",
       "attempted_field_goals              0.619391  0.477763  0.188798   0.704803   \n",
       "made_three_point_field_goals       0.404937  0.315958 -0.158297   0.369208   \n",
       "attempted_three_point_field_goals  0.463814  0.364446 -0.160768   0.424289   \n",
       "made_free_throws                   0.541662  0.369102  0.232231   0.630859   \n",
       "attempted_free_throws              0.528737  0.376269  0.295557   0.647232   \n",
       "offensive_rebounds                -0.017346  0.102739  0.530090   0.187764   \n",
       "defensive_rebounds                 0.302545  0.293132  0.559648   0.477650   \n",
       "assists                            1.000000  0.489897 -0.014269   0.711620   \n",
       "steals                             0.489897  1.000000  0.106103   0.446190   \n",
       "blocks                            -0.014269  0.106103  1.000000   0.177339   \n",
       "turnovers                          0.711620  0.446190  0.177339   1.000000   \n",
       "personal_fouls                     0.258914  0.338049  0.362402   0.440544   \n",
       "game_score                         0.642745  0.513341  0.358627   0.630676   \n",
       "\n",
       "                                   personal_fouls  game_score  \n",
       "seconds_played                           0.572839    0.771477  \n",
       "made_field_goals                         0.433942    0.930268  \n",
       "attempted_field_goals                    0.419018    0.843758  \n",
       "made_three_point_field_goals             0.135881    0.484357  \n",
       "attempted_three_point_field_goals        0.160722    0.455973  \n",
       "made_free_throws                         0.331433    0.810115  \n",
       "attempted_free_throws                    0.372919    0.808953  \n",
       "offensive_rebounds                       0.394729    0.382914  \n",
       "defensive_rebounds                       0.490773    0.657027  \n",
       "assists                                  0.258914    0.642745  \n",
       "steals                                   0.338049    0.513341  \n",
       "blocks                                   0.362402    0.358627  \n",
       "turnovers                                0.440544    0.630676  \n",
       "personal_fouls                           1.000000    0.396773  \n",
       "game_score                               0.396773    1.000000  "
      ]
     },
     "execution_count": 128,
     "metadata": {},
     "output_type": "execute_result"
    }
   ],
   "source": [
    "h2h_features.corr()"
   ]
  },
  {
   "cell_type": "code",
   "execution_count": 131,
   "metadata": {},
   "outputs": [],
   "source": [
    "h2h_features.drop(columns = ['game_score'], inplace=True)"
   ]
  },
  {
   "cell_type": "code",
   "execution_count": 132,
   "metadata": {},
   "outputs": [],
   "source": [
    "scaled_df = pd.DataFrame(standard_scaler.fit_transform(h2h_features))\n",
    "feature_array = scaled_df.to_numpy()"
   ]
  },
  {
   "cell_type": "code",
   "execution_count": 133,
   "metadata": {},
   "outputs": [],
   "source": [
    "feature_array = feature_array.reshape((2328,70))"
   ]
  },
  {
   "cell_type": "code",
   "execution_count": 134,
   "metadata": {},
   "outputs": [
    {
     "data": {
      "text/plain": [
       "(2328, 70)"
      ]
     },
     "execution_count": 134,
     "metadata": {},
     "output_type": "execute_result"
    }
   ],
   "source": [
    "feature_array.shape"
   ]
  },
  {
   "cell_type": "markdown",
   "metadata": {},
   "source": [
    "### Target"
   ]
  },
  {
   "cell_type": "code",
   "execution_count": 112,
   "metadata": {},
   "outputs": [
    {
     "data": {
      "text/html": [
       "<div>\n",
       "<style scoped>\n",
       "    .dataframe tbody tr th:only-of-type {\n",
       "        vertical-align: middle;\n",
       "    }\n",
       "\n",
       "    .dataframe tbody tr th {\n",
       "        vertical-align: top;\n",
       "    }\n",
       "\n",
       "    .dataframe thead th {\n",
       "        text-align: right;\n",
       "    }\n",
       "</style>\n",
       "<table border=\"1\" class=\"dataframe\">\n",
       "  <thead>\n",
       "    <tr style=\"text-align: right;\">\n",
       "      <th></th>\n",
       "      <th>Unnamed: 0</th>\n",
       "      <th>game_id</th>\n",
       "      <th>outcomes</th>\n",
       "    </tr>\n",
       "  </thead>\n",
       "  <tbody>\n",
       "    <tr>\n",
       "      <th>0</th>\n",
       "      <td>0</td>\n",
       "      <td>7400</td>\n",
       "      <td>LOSS</td>\n",
       "    </tr>\n",
       "    <tr>\n",
       "      <th>1</th>\n",
       "      <td>1</td>\n",
       "      <td>7401</td>\n",
       "      <td>LOSS</td>\n",
       "    </tr>\n",
       "  </tbody>\n",
       "</table>\n",
       "</div>"
      ],
      "text/plain": [
       "   Unnamed: 0  game_id outcomes\n",
       "0           0     7400     LOSS\n",
       "1           1     7401     LOSS"
      ]
     },
     "execution_count": 112,
     "metadata": {},
     "output_type": "execute_result"
    }
   ],
   "source": [
    "target.head(2)"
   ]
  },
  {
   "cell_type": "code",
   "execution_count": 113,
   "metadata": {},
   "outputs": [
    {
     "data": {
      "text/html": [
       "<div>\n",
       "<style scoped>\n",
       "    .dataframe tbody tr th:only-of-type {\n",
       "        vertical-align: middle;\n",
       "    }\n",
       "\n",
       "    .dataframe tbody tr th {\n",
       "        vertical-align: top;\n",
       "    }\n",
       "\n",
       "    .dataframe thead th {\n",
       "        text-align: right;\n",
       "    }\n",
       "</style>\n",
       "<table border=\"1\" class=\"dataframe\">\n",
       "  <thead>\n",
       "    <tr style=\"text-align: right;\">\n",
       "      <th></th>\n",
       "      <th>Unnamed: 0</th>\n",
       "      <th>game_id</th>\n",
       "      <th>outcomes</th>\n",
       "    </tr>\n",
       "  </thead>\n",
       "  <tbody>\n",
       "    <tr>\n",
       "      <th>0</th>\n",
       "      <td>0</td>\n",
       "      <td>7400</td>\n",
       "      <td>0</td>\n",
       "    </tr>\n",
       "    <tr>\n",
       "      <th>1</th>\n",
       "      <td>1</td>\n",
       "      <td>7401</td>\n",
       "      <td>0</td>\n",
       "    </tr>\n",
       "  </tbody>\n",
       "</table>\n",
       "</div>"
      ],
      "text/plain": [
       "   Unnamed: 0  game_id  outcomes\n",
       "0           0     7400         0\n",
       "1           1     7401         0"
      ]
     },
     "execution_count": 113,
     "metadata": {},
     "output_type": "execute_result"
    }
   ],
   "source": [
    "target.outcomes = target.outcomes.str.replace('LOSS','0')\n",
    "target.outcomes = target.outcomes.str.replace('WIN','1')\n",
    "target.outcomes = target.outcomes.astype('int')\n",
    "target.head(2)"
   ]
  },
  {
   "cell_type": "code",
   "execution_count": 114,
   "metadata": {},
   "outputs": [
    {
     "data": {
      "text/plain": [
       "(2328, 1)"
      ]
     },
     "execution_count": 114,
     "metadata": {},
     "output_type": "execute_result"
    }
   ],
   "source": [
    "target_array = target[['outcomes']].to_numpy()\n",
    "target_array.shape"
   ]
  },
  {
   "cell_type": "markdown",
   "metadata": {},
   "source": [
    "## Make Model 1 - Simple Model"
   ]
  },
  {
   "cell_type": "code",
   "execution_count": 120,
   "metadata": {},
   "outputs": [],
   "source": [
    "# specify number of units\n",
    "number_units = 150\n",
    "dropout = .1"
   ]
  },
  {
   "cell_type": "code",
   "execution_count": 145,
   "metadata": {},
   "outputs": [
    {
     "name": "stdout",
     "output_type": "stream",
     "text": [
      "Model: \"sequential_12\"\n",
      "_________________________________________________________________\n",
      "Layer (type)                 Output Shape              Param #   \n",
      "=================================================================\n",
      "dense_21 (Dense)             (None, 150)               10650     \n",
      "_________________________________________________________________\n",
      "dense_22 (Dense)             (None, 150)               22650     \n",
      "_________________________________________________________________\n",
      "dense_23 (Dense)             (None, 1)                 151       \n",
      "=================================================================\n",
      "Total params: 33,451\n",
      "Trainable params: 33,451\n",
      "Non-trainable params: 0\n",
      "_________________________________________________________________\n"
     ]
    }
   ],
   "source": [
    "# Define model_1\n",
    "\n",
    "model_1 = Sequential()\n",
    "model_1.add(Dense(units=number_units, input_dim=(70)))\n",
    "#model_1.add(Dropout(dropout))\n",
    "model_1.add(Dense(units=number_units))\n",
    "model_1.add(Dense(1))\n",
    "model_1.compile(optimizer='adam', loss='binary_crossentropy', metrics=['accuracy'])\n",
    "model_1.summary()"
   ]
  },
  {
   "cell_type": "code",
   "execution_count": 19,
   "metadata": {},
   "outputs": [
    {
     "name": "stdout",
     "output_type": "stream",
     "text": [
      "(2328, 5, 57) (2328, 1)\n"
     ]
    }
   ],
   "source": [
    "print(feature_array.shape, target_array.shape)"
   ]
  },
  {
   "cell_type": "code",
   "execution_count": 146,
   "metadata": {},
   "outputs": [
    {
     "name": "stdout",
     "output_type": "stream",
     "text": [
      "Train on 1629 samples, validate on 699 samples\n",
      "Epoch 1/30\n",
      "1629/1629 [==============================] - 1s 411us/sample - loss: 5.9597 - accuracy: 0.5513 - val_loss: 6.9002 - val_accuracy: 0.5165\n",
      "Epoch 2/30\n",
      "1629/1629 [==============================] - 0s 89us/sample - loss: 5.7285 - accuracy: 0.5979 - val_loss: 7.2631 - val_accuracy: 0.4907\n",
      "Epoch 3/30\n",
      "1629/1629 [==============================] - 0s 93us/sample - loss: 5.8659 - accuracy: 0.5948 - val_loss: 6.9963 - val_accuracy: 0.5036\n",
      "Epoch 4/30\n",
      "1629/1629 [==============================] - 0s 102us/sample - loss: 5.7503 - accuracy: 0.6096 - val_loss: 7.3580 - val_accuracy: 0.4936\n",
      "Epoch 5/30\n",
      "1629/1629 [==============================] - 0s 64us/sample - loss: 5.9946 - accuracy: 0.5912 - val_loss: 6.8771 - val_accuracy: 0.5393\n",
      "Epoch 6/30\n",
      "1629/1629 [==============================] - 0s 63us/sample - loss: 6.2326 - accuracy: 0.5813 - val_loss: 6.8968 - val_accuracy: 0.5351\n",
      "Epoch 7/30\n",
      "1629/1629 [==============================] - 0s 62us/sample - loss: 6.0848 - accuracy: 0.5905 - val_loss: 6.8776 - val_accuracy: 0.5379\n",
      "Epoch 8/30\n",
      "1629/1629 [==============================] - 0s 71us/sample - loss: 6.0514 - accuracy: 0.5899 - val_loss: 6.9663 - val_accuracy: 0.5308\n",
      "Epoch 9/30\n",
      "1629/1629 [==============================] - 0s 63us/sample - loss: 6.0960 - accuracy: 0.5893 - val_loss: 6.4057 - val_accuracy: 0.5708\n",
      "Epoch 10/30\n",
      "1629/1629 [==============================] - 0s 67us/sample - loss: 5.8468 - accuracy: 0.6077 - val_loss: 6.4139 - val_accuracy: 0.5708\n",
      "Epoch 11/30\n",
      "1629/1629 [==============================] - 0s 77us/sample - loss: 5.9207 - accuracy: 0.5985 - val_loss: 6.4616 - val_accuracy: 0.5751\n",
      "Epoch 12/30\n",
      "1629/1629 [==============================] - 0s 66us/sample - loss: 5.9665 - accuracy: 0.5991 - val_loss: 6.4335 - val_accuracy: 0.5708\n",
      "Epoch 13/30\n",
      "1629/1629 [==============================] - 0s 64us/sample - loss: 5.7442 - accuracy: 0.6139 - val_loss: 6.7094 - val_accuracy: 0.5536\n",
      "Epoch 14/30\n",
      "1629/1629 [==============================] - 0s 105us/sample - loss: 5.7121 - accuracy: 0.6212 - val_loss: 6.7101 - val_accuracy: 0.5536\n",
      "Epoch 15/30\n",
      "1629/1629 [==============================] - 0s 97us/sample - loss: 5.7819 - accuracy: 0.6133 - val_loss: 6.5458 - val_accuracy: 0.5694\n",
      "Epoch 16/30\n",
      "1629/1629 [==============================] - 0s 111us/sample - loss: 5.8119 - accuracy: 0.6133 - val_loss: 6.4761 - val_accuracy: 0.5737\n",
      "Epoch 17/30\n",
      "1629/1629 [==============================] - 0s 107us/sample - loss: 5.7374 - accuracy: 0.6200 - val_loss: 6.4559 - val_accuracy: 0.5680\n",
      "Epoch 18/30\n",
      "1629/1629 [==============================] - 0s 124us/sample - loss: 5.6970 - accuracy: 0.6219 - val_loss: 6.3715 - val_accuracy: 0.5823\n",
      "Epoch 19/30\n",
      "1629/1629 [==============================] - 0s 106us/sample - loss: 6.0616 - accuracy: 0.5961 - val_loss: 7.0884 - val_accuracy: 0.5393\n",
      "Epoch 20/30\n",
      "1629/1629 [==============================] - 0s 99us/sample - loss: 6.3091 - accuracy: 0.5820 - val_loss: 6.7450 - val_accuracy: 0.5565\n",
      "Epoch 21/30\n",
      "1629/1629 [==============================] - 0s 109us/sample - loss: 6.1454 - accuracy: 0.5955 - val_loss: 6.7283 - val_accuracy: 0.5579\n",
      "Epoch 22/30\n",
      "1629/1629 [==============================] - 0s 122us/sample - loss: 6.1017 - accuracy: 0.5979 - val_loss: 6.8264 - val_accuracy: 0.5522\n",
      "Epoch 23/30\n",
      "1629/1629 [==============================] - 0s 103us/sample - loss: 6.0736 - accuracy: 0.6010 - val_loss: 6.7429 - val_accuracy: 0.5536\n",
      "Epoch 24/30\n",
      "1629/1629 [==============================] - 0s 122us/sample - loss: 6.0885 - accuracy: 0.5967 - val_loss: 6.6777 - val_accuracy: 0.5594\n",
      "Epoch 25/30\n",
      "1629/1629 [==============================] - 0s 109us/sample - loss: 6.2397 - accuracy: 0.5912 - val_loss: 6.7256 - val_accuracy: 0.5579\n",
      "Epoch 26/30\n",
      "1629/1629 [==============================] - 0s 103us/sample - loss: 6.2192 - accuracy: 0.5918 - val_loss: 6.6775 - val_accuracy: 0.5579\n",
      "Epoch 27/30\n",
      "1629/1629 [==============================] - 0s 105us/sample - loss: 6.1250 - accuracy: 0.5948 - val_loss: 6.4645 - val_accuracy: 0.5708\n",
      "Epoch 28/30\n",
      "1629/1629 [==============================] - 0s 111us/sample - loss: 6.1224 - accuracy: 0.5961 - val_loss: 6.4824 - val_accuracy: 0.5708\n",
      "Epoch 29/30\n",
      "1629/1629 [==============================] - 0s 103us/sample - loss: 6.1121 - accuracy: 0.5998 - val_loss: 7.7865 - val_accuracy: 0.4878\n",
      "Epoch 30/30\n",
      "1629/1629 [==============================] - 0s 110us/sample - loss: 6.2445 - accuracy: 0.5869 - val_loss: 7.8426 - val_accuracy: 0.4864\n"
     ]
    }
   ],
   "source": [
    "model1 = model_1.fit(feature_array,target_array, validation_split=.3, epochs=30)"
   ]
  },
  {
   "cell_type": "code",
   "execution_count": 147,
   "metadata": {},
   "outputs": [
    {
     "data": {
      "image/png": "[encoded data removed]",
      "text/plain": [
       "<Figure size 432x288 with 1 Axes>"
      ]
     },
     "metadata": {
      "needs_background": "light"
     },
     "output_type": "display_data"
    }
   ],
   "source": [
    "plt.plot(model1.history[\"loss\"])\n",
    "plt.plot(model1.history[\"val_loss\"])\n",
    "\n",
    "plt.legend([\"loss\", \"validation loss\"])\n",
    "plt.show()"
   ]
  },
  {
   "cell_type": "code",
   "execution_count": 148,
   "metadata": {},
   "outputs": [
    {
     "data": {
      "image/png": "[encoded data removed]",
      "text/plain": [
       "<Figure size 432x288 with 1 Axes>"
      ]
     },
     "metadata": {
      "needs_background": "light"
     },
     "output_type": "display_data"
    }
   ],
   "source": [
    "plt.plot(model1.history[\"accuracy\"])\n",
    "plt.plot(model1.history[\"val_accuracy\"])\n",
    "\n",
    "plt.legend([\"accuracy\", \"validation accuracy\"])\n",
    "plt.show()"
   ]
  },
  {
   "cell_type": "code",
   "execution_count": 125,
   "metadata": {},
   "outputs": [
    {
     "name": "stdout",
     "output_type": "stream",
     "text": [
      "699/1 [==========================================================================================================================================================================================================================================================================================================================================================================================================================================================================================================================================================================================================================================================================================================================================================================================================================================================================================================================================================================================================================================================================================================================================================================================================================================================================================================================================================================================================================================================================================================================================================================================================================================================================================================================================================================================================================================================================================================================================================================================================================================================================================================================================================================================================================================================================================================================================================================================================================================================================================================================================================================================================================================================================================================================================================================================================================================================================================================================================================================================================================================================================================================================================================================================================================================================================================================================================================================================================================================================================================================================================================================================================================================================================================================================================================================================================================================================================================================================================================================================================================================================================================================================================================================================================================================================================================================================================================================================================================================================================================================================================================================================================================================================================================================================================================================================================================================================================================================================================================================================================================================================================================================================================================================================================================================================================================================================================================================================================================================================================================================================================================================================================================================================================================================================================================================================================================================================================================================================================================================================================================================================================================================================================================================================================================================================================================================================================================================================================================================================================================================================================================================================================================================================================================================================================================================================================================================================================================================================================================================================================================================================================================================================================================================================================================================================================================================================================================================================================================================================================================================================================================================================================================================================================================================================================================================================================================================================================================================================================================================================================================================================================================================================================================================================================================================================================================================================================================================================================================================================================================================================================================================================================================================================================================================================================================================================================================================================================================================================================================================================================================================================================================================================================================================================================================================================================================================================================================================================================================================================================================================================================================================================================================================================================================================================================================================================================================================================================================================================================================================================================================================================================================================================================================================================================================================================================================================================================================================================================================================================================================================================================================================================================================================================================================================================================================================================================================================================================================================================================================================================================================================================================================================================================================================================================================================================================================================================================================================================================================================================================================================================================================================================================================================================================================================================================================================================================================================================================================================================================================================================================================================================================================================================================================================================================================================================================================================================================================================================================================================================================================================================================================================================================================================================================================================================================================================================================================================================================================================================================================================================================================================================================================================================================================================================================================================================================================================================================================================================================================================================================================================================================================================================================================================================================================================================================================================================================================================================================================================================================================================================================================================================================================================================================================================================================================================================================================================================================================================================================================================================================================================================================================================================================================================================================================================================================================================================================================================================================================================================================================================================================================================================================================================================================================================================================================================================================================================================================================================================================================================================================================================================================================================================================================================================================================================================================================================================================================================================================================================================================================================================================================================================================================================================================================================================================================================================================================================================================================================================================================================================================================================================================================================================================================================================================================================================================================================================================================================================================================================================================================================================================================================================================================================================================================================================================================================================================================================================================================================================================================================================================================================================================================================================================================================================================================================================================================================================================================================================================================================================================================================================================================================================================================================================================================================================================================================================================================================================================================================================================================================================================================================================================================================================================================================================================================================================================================================================================================================================================================================================================================================================================================================================================================================================================================================================================================================================================================================================================================================================================================================================================================================================================================================================================================================================================================================================================================================================================================================================================================================================================================================================================================================================================================================================================================================================================================================================================================================================================================================================================================================================================================================================================================================================================================================================================================================================================================================================================================================================================================================================================================================================================================================================================================================================================================================================================================================================================================================================================================================================================================================================================================================================================================================================================================================================================================================================================================================================================================================] - 0s 39us/sample - loss: 7.3639 - accuracy: 0.5551\n"
     ]
    },
    {
     "data": {
      "text/plain": [
       "[6.6552429253792385, 0.5550787]"
      ]
     },
     "execution_count": 125,
     "metadata": {},
     "output_type": "execute_result"
    }
   ],
   "source": [
    "model_1.evaluate(feature_array[-699:],target_array[-699:])"
   ]
  },
  {
   "cell_type": "code",
   "execution_count": 35,
   "metadata": {},
   "outputs": [],
   "source": [
    "results = model_1.predict(feature_array[-699:])"
   ]
  },
  {
   "cell_type": "code",
   "execution_count": 39,
   "metadata": {},
   "outputs": [],
   "source": [
    "results_df = pd.DataFrame(results)\n",
    "target_df = pd.DataFrame(target_array[-699:])"
   ]
  },
  {
   "cell_type": "code",
   "execution_count": 42,
   "metadata": {},
   "outputs": [],
   "source": [
    "test_df = pd.concat([results_df,target_df],axis='columns')"
   ]
  },
  {
   "cell_type": "code",
   "execution_count": 44,
   "metadata": {},
   "outputs": [],
   "source": [
    "test_df.columns=['pred','real']"
   ]
  },
  {
   "cell_type": "code",
   "execution_count": 45,
   "metadata": {},
   "outputs": [
    {
     "data": {
      "text/html": [
       "<div>\n",
       "<style scoped>\n",
       "    .dataframe tbody tr th:only-of-type {\n",
       "        vertical-align: middle;\n",
       "    }\n",
       "\n",
       "    .dataframe tbody tr th {\n",
       "        vertical-align: top;\n",
       "    }\n",
       "\n",
       "    .dataframe thead th {\n",
       "        text-align: right;\n",
       "    }\n",
       "</style>\n",
       "<table border=\"1\" class=\"dataframe\">\n",
       "  <thead>\n",
       "    <tr style=\"text-align: right;\">\n",
       "      <th></th>\n",
       "      <th>pred</th>\n",
       "      <th>real</th>\n",
       "    </tr>\n",
       "  </thead>\n",
       "  <tbody>\n",
       "    <tr>\n",
       "      <th>pred</th>\n",
       "      <td>1.000000</td>\n",
       "      <td>0.206554</td>\n",
       "    </tr>\n",
       "    <tr>\n",
       "      <th>real</th>\n",
       "      <td>0.206554</td>\n",
       "      <td>1.000000</td>\n",
       "    </tr>\n",
       "  </tbody>\n",
       "</table>\n",
       "</div>"
      ],
      "text/plain": [
       "          pred      real\n",
       "pred  1.000000  0.206554\n",
       "real  0.206554  1.000000"
      ]
     },
     "execution_count": 45,
     "metadata": {},
     "output_type": "execute_result"
    }
   ],
   "source": [
    "test_df.corr()"
   ]
  },
  {
   "cell_type": "code",
   "execution_count": 49,
   "metadata": {},
   "outputs": [
    {
     "data": {
      "text/plain": [
       "314"
      ]
     },
     "execution_count": 49,
     "metadata": {},
     "output_type": "execute_result"
    }
   ],
   "source": [
    "len(test_df[test_df.real==0])"
   ]
  },
  {
   "cell_type": "code",
   "execution_count": 52,
   "metadata": {},
   "outputs": [
    {
     "name": "stdout",
     "output_type": "stream",
     "text": [
      "Probability of Win : 0.55\n"
     ]
    }
   ],
   "source": [
    "print(f'Probability of Win : {round(385/699,2)}')"
   ]
  },
  {
   "cell_type": "code",
   "execution_count": 70,
   "metadata": {},
   "outputs": [],
   "source": [
    "def mapper(num):\n",
    "    if num> .55:\n",
    "        return 1\n",
    "    else:\n",
    "        return 0"
   ]
  },
  {
   "cell_type": "code",
   "execution_count": 71,
   "metadata": {},
   "outputs": [],
   "source": [
    "test_df['mapped']=test_df.pred.apply(lambda x: mapper(x))"
   ]
  },
  {
   "cell_type": "code",
   "execution_count": 72,
   "metadata": {},
   "outputs": [
    {
     "data": {
      "text/html": [
       "<div>\n",
       "<style scoped>\n",
       "    .dataframe tbody tr th:only-of-type {\n",
       "        vertical-align: middle;\n",
       "    }\n",
       "\n",
       "    .dataframe tbody tr th {\n",
       "        vertical-align: top;\n",
       "    }\n",
       "\n",
       "    .dataframe thead th {\n",
       "        text-align: right;\n",
       "    }\n",
       "</style>\n",
       "<table border=\"1\" class=\"dataframe\">\n",
       "  <thead>\n",
       "    <tr style=\"text-align: right;\">\n",
       "      <th></th>\n",
       "      <th>pred</th>\n",
       "      <th>real</th>\n",
       "      <th>mapped</th>\n",
       "    </tr>\n",
       "  </thead>\n",
       "  <tbody>\n",
       "    <tr>\n",
       "      <th>pred</th>\n",
       "      <td>1.000000</td>\n",
       "      <td>0.206554</td>\n",
       "      <td>0.792163</td>\n",
       "    </tr>\n",
       "    <tr>\n",
       "      <th>real</th>\n",
       "      <td>0.206554</td>\n",
       "      <td>1.000000</td>\n",
       "      <td>0.179724</td>\n",
       "    </tr>\n",
       "    <tr>\n",
       "      <th>mapped</th>\n",
       "      <td>0.792163</td>\n",
       "      <td>0.179724</td>\n",
       "      <td>1.000000</td>\n",
       "    </tr>\n",
       "  </tbody>\n",
       "</table>\n",
       "</div>"
      ],
      "text/plain": [
       "            pred      real    mapped\n",
       "pred    1.000000  0.206554  0.792163\n",
       "real    0.206554  1.000000  0.179724\n",
       "mapped  0.792163  0.179724  1.000000"
      ]
     },
     "execution_count": 72,
     "metadata": {},
     "output_type": "execute_result"
    }
   ],
   "source": [
    "test_df.corr()"
   ]
  },
  {
   "cell_type": "code",
   "execution_count": 56,
   "metadata": {},
   "outputs": [
    {
     "data": {
      "text/html": [
       "<div>\n",
       "<style scoped>\n",
       "    .dataframe tbody tr th:only-of-type {\n",
       "        vertical-align: middle;\n",
       "    }\n",
       "\n",
       "    .dataframe tbody tr th {\n",
       "        vertical-align: top;\n",
       "    }\n",
       "\n",
       "    .dataframe thead th {\n",
       "        text-align: right;\n",
       "    }\n",
       "</style>\n",
       "<table border=\"1\" class=\"dataframe\">\n",
       "  <thead>\n",
       "    <tr style=\"text-align: right;\">\n",
       "      <th></th>\n",
       "      <th>pred</th>\n",
       "      <th>real</th>\n",
       "      <th>mapped</th>\n",
       "    </tr>\n",
       "  </thead>\n",
       "  <tbody>\n",
       "    <tr>\n",
       "      <th>pred</th>\n",
       "      <td>1.000000</td>\n",
       "      <td>0.206554</td>\n",
       "      <td>0.727859</td>\n",
       "    </tr>\n",
       "    <tr>\n",
       "      <th>real</th>\n",
       "      <td>0.206554</td>\n",
       "      <td>1.000000</td>\n",
       "      <td>0.167683</td>\n",
       "    </tr>\n",
       "    <tr>\n",
       "      <th>mapped</th>\n",
       "      <td>0.727859</td>\n",
       "      <td>0.167683</td>\n",
       "      <td>1.000000</td>\n",
       "    </tr>\n",
       "  </tbody>\n",
       "</table>\n",
       "</div>"
      ],
      "text/plain": [
       "            pred      real    mapped\n",
       "pred    1.000000  0.206554  0.727859\n",
       "real    0.206554  1.000000  0.167683\n",
       "mapped  0.727859  0.167683  1.000000"
      ]
     },
     "execution_count": 56,
     "metadata": {},
     "output_type": "execute_result"
    }
   ],
   "source": [
    "test_df.corr()"
   ]
  },
  {
   "cell_type": "code",
   "execution_count": null,
   "metadata": {},
   "outputs": [],
   "source": []
  }
 ],
 "metadata": {
  "kernelspec": {
   "display_name": "Python 3",
   "language": "python",
   "name": "python3"
  },
  "language_info": {
   "codemirror_mode": {
    "name": "ipython",
    "version": 3
   },
   "file_extension": ".py",
   "mimetype": "text/x-python",
   "name": "python",
   "nbconvert_exporter": "python",
   "pygments_lexer": "ipython3",
   "version": "3.7.1"
  }
 },
 "nbformat": 4,
 "nbformat_minor": 4
}
