{
 "cells": [
  {
   "cell_type": "markdown",
   "metadata": {},
   "source": [
    "# NBA Matchup Predictor"
   ]
  },
  {
   "cell_type": "code",
   "execution_count": 80,
   "metadata": {},
   "outputs": [],
   "source": [
    "import pandas as pd\n",
    "import numpy as np\n",
    "from numpy.random import seed\n",
    "seed(1)\n",
    "\n",
    "from tensorflow import random\n",
    "from tensorflow.keras.models import Sequential\n",
    "from tensorflow.keras.layers import Dense, Dropout\n",
    "\n",
    "import matplotlib.pyplot as plt\n",
    "import hvplot.pandas\n",
    "%matplotlib inline\n",
    "\n",
    "random.set_seed(12)"
   ]
  },
  {
   "cell_type": "code",
   "execution_count": 85,
   "metadata": {},
   "outputs": [],
   "source": [
    "features = pd.read_csv('../Resources/training_data_features.csv')\n",
    "target = pd.read_csv('../Resources/training_data_target.csv')"
   ]
  },
  {
   "cell_type": "code",
   "execution_count": 52,
   "metadata": {},
   "outputs": [],
   "source": [
    "from sklearn.preprocessing import StandardScaler"
   ]
  },
  {
   "cell_type": "markdown",
   "metadata": {},
   "source": [
    "## Define Scaler"
   ]
  },
  {
   "cell_type": "code",
   "execution_count": 53,
   "metadata": {},
   "outputs": [],
   "source": [
    "# define standard scaler\n",
    "standard_scaler = StandardScaler()\n",
    "#standard_scaler.fit_transform()"
   ]
  },
  {
   "cell_type": "markdown",
   "metadata": {},
   "source": [
    "## Prepare Data"
   ]
  },
  {
   "cell_type": "markdown",
   "metadata": {},
   "source": [
    "### Features "
   ]
  },
  {
   "cell_type": "code",
   "execution_count": 6,
   "metadata": {},
   "outputs": [
    {
     "data": {
      "text/html": [
       "<div>\n",
       "<style scoped>\n",
       "    .dataframe tbody tr th:only-of-type {\n",
       "        vertical-align: middle;\n",
       "    }\n",
       "\n",
       "    .dataframe tbody tr th {\n",
       "        vertical-align: top;\n",
       "    }\n",
       "\n",
       "    .dataframe thead th {\n",
       "        text-align: right;\n",
       "    }\n",
       "</style>\n",
       "<table border=\"1\" class=\"dataframe\">\n",
       "  <thead>\n",
       "    <tr style=\"text-align: right;\">\n",
       "      <th></th>\n",
       "      <th>Unnamed: 0</th>\n",
       "      <th>Age</th>\n",
       "      <th>G</th>\n",
       "      <th>MP</th>\n",
       "      <th>PER</th>\n",
       "      <th>TS%</th>\n",
       "      <th>3PAr</th>\n",
       "      <th>FTr</th>\n",
       "      <th>ORB%</th>\n",
       "      <th>DRB%</th>\n",
       "      <th>...</th>\n",
       "      <th>made_free_throws</th>\n",
       "      <th>attempted_free_throws</th>\n",
       "      <th>offensive_rebounds</th>\n",
       "      <th>defensive_rebounds</th>\n",
       "      <th>assists</th>\n",
       "      <th>steals</th>\n",
       "      <th>blocks</th>\n",
       "      <th>turnovers</th>\n",
       "      <th>personal_fouls</th>\n",
       "      <th>game_score</th>\n",
       "    </tr>\n",
       "  </thead>\n",
       "  <tbody>\n",
       "    <tr>\n",
       "      <th>0</th>\n",
       "      <td>0</td>\n",
       "      <td>19.0</td>\n",
       "      <td>43.0</td>\n",
       "      <td>574.0</td>\n",
       "      <td>5.3</td>\n",
       "      <td>0.440</td>\n",
       "      <td>0.627</td>\n",
       "      <td>0.068</td>\n",
       "      <td>4.2</td>\n",
       "      <td>15.6</td>\n",
       "      <td>...</td>\n",
       "      <td>0.0</td>\n",
       "      <td>0.0</td>\n",
       "      <td>0.25</td>\n",
       "      <td>2.5</td>\n",
       "      <td>2.0</td>\n",
       "      <td>0.0</td>\n",
       "      <td>0.25</td>\n",
       "      <td>1.0</td>\n",
       "      <td>2.0</td>\n",
       "      <td>1.825</td>\n",
       "    </tr>\n",
       "    <tr>\n",
       "      <th>1</th>\n",
       "      <td>1</td>\n",
       "      <td>25.0</td>\n",
       "      <td>67.0</td>\n",
       "      <td>1183.0</td>\n",
       "      <td>10.4</td>\n",
       "      <td>0.531</td>\n",
       "      <td>0.717</td>\n",
       "      <td>0.109</td>\n",
       "      <td>2.1</td>\n",
       "      <td>7.8</td>\n",
       "      <td>...</td>\n",
       "      <td>0.0</td>\n",
       "      <td>0.0</td>\n",
       "      <td>0.00</td>\n",
       "      <td>0.8</td>\n",
       "      <td>0.4</td>\n",
       "      <td>0.0</td>\n",
       "      <td>0.00</td>\n",
       "      <td>0.6</td>\n",
       "      <td>1.4</td>\n",
       "      <td>2.360</td>\n",
       "    </tr>\n",
       "  </tbody>\n",
       "</table>\n",
       "<p>2 rows × 58 columns</p>\n",
       "</div>"
      ],
      "text/plain": [
       "   Unnamed: 0   Age     G      MP   PER    TS%   3PAr    FTr  ORB%  DRB%  ...  \\\n",
       "0           0  19.0  43.0   574.0   5.3  0.440  0.627  0.068   4.2  15.6  ...   \n",
       "1           1  25.0  67.0  1183.0  10.4  0.531  0.717  0.109   2.1   7.8  ...   \n",
       "\n",
       "   made_free_throws  attempted_free_throws  offensive_rebounds  \\\n",
       "0               0.0                    0.0                0.25   \n",
       "1               0.0                    0.0                0.00   \n",
       "\n",
       "   defensive_rebounds  assists  steals  blocks  turnovers  personal_fouls  \\\n",
       "0                 2.5      2.0     0.0    0.25        1.0             2.0   \n",
       "1                 0.8      0.4     0.0    0.00        0.6             1.4   \n",
       "\n",
       "   game_score  \n",
       "0       1.825  \n",
       "1       2.360  \n",
       "\n",
       "[2 rows x 58 columns]"
      ]
     },
     "execution_count": 6,
     "metadata": {},
     "output_type": "execute_result"
    }
   ],
   "source": [
    "features.head(2)"
   ]
  },
  {
   "cell_type": "code",
   "execution_count": 103,
   "metadata": {},
   "outputs": [],
   "source": [
    "features = pd.read_csv('../Resources/training_data_features.csv')\n",
    "\n",
    "features.fillna(0, inplace=True)\n",
    "\n",
    "features.drop(features.columns[0], axis=1, inplace=True)"
   ]
  },
  {
   "cell_type": "markdown",
   "metadata": {},
   "source": [
    "### Remove Confounding Features"
   ]
  },
  {
   "cell_type": "code",
   "execution_count": 88,
   "metadata": {},
   "outputs": [
    {
     "data": {
      "text/html": [
       "<div>\n",
       "<style scoped>\n",
       "    .dataframe tbody tr th:only-of-type {\n",
       "        vertical-align: middle;\n",
       "    }\n",
       "\n",
       "    .dataframe tbody tr th {\n",
       "        vertical-align: top;\n",
       "    }\n",
       "\n",
       "    .dataframe thead th {\n",
       "        text-align: right;\n",
       "    }\n",
       "</style>\n",
       "<table border=\"1\" class=\"dataframe\">\n",
       "  <thead>\n",
       "    <tr style=\"text-align: right;\">\n",
       "      <th></th>\n",
       "      <th>Age</th>\n",
       "      <th>G</th>\n",
       "      <th>MP</th>\n",
       "      <th>PER</th>\n",
       "      <th>TS%</th>\n",
       "      <th>3PAr</th>\n",
       "      <th>FTr</th>\n",
       "      <th>ORB%</th>\n",
       "      <th>DRB%</th>\n",
       "      <th>TRB%</th>\n",
       "      <th>...</th>\n",
       "      <th>made_free_throws</th>\n",
       "      <th>attempted_free_throws</th>\n",
       "      <th>offensive_rebounds</th>\n",
       "      <th>defensive_rebounds</th>\n",
       "      <th>assists</th>\n",
       "      <th>steals</th>\n",
       "      <th>blocks</th>\n",
       "      <th>turnovers</th>\n",
       "      <th>personal_fouls</th>\n",
       "      <th>game_score</th>\n",
       "    </tr>\n",
       "  </thead>\n",
       "  <tbody>\n",
       "    <tr>\n",
       "      <th>0</th>\n",
       "      <td>19.0</td>\n",
       "      <td>43.0</td>\n",
       "      <td>574.0</td>\n",
       "      <td>5.3</td>\n",
       "      <td>0.440</td>\n",
       "      <td>0.627</td>\n",
       "      <td>0.068</td>\n",
       "      <td>4.2</td>\n",
       "      <td>15.6</td>\n",
       "      <td>9.7</td>\n",
       "      <td>...</td>\n",
       "      <td>0.0</td>\n",
       "      <td>0.0</td>\n",
       "      <td>0.25</td>\n",
       "      <td>2.5</td>\n",
       "      <td>2.0</td>\n",
       "      <td>0.0</td>\n",
       "      <td>0.25</td>\n",
       "      <td>1.0</td>\n",
       "      <td>2.0</td>\n",
       "      <td>1.825</td>\n",
       "    </tr>\n",
       "    <tr>\n",
       "      <th>1</th>\n",
       "      <td>25.0</td>\n",
       "      <td>67.0</td>\n",
       "      <td>1183.0</td>\n",
       "      <td>10.4</td>\n",
       "      <td>0.531</td>\n",
       "      <td>0.717</td>\n",
       "      <td>0.109</td>\n",
       "      <td>2.1</td>\n",
       "      <td>7.8</td>\n",
       "      <td>4.8</td>\n",
       "      <td>...</td>\n",
       "      <td>0.0</td>\n",
       "      <td>0.0</td>\n",
       "      <td>0.00</td>\n",
       "      <td>0.8</td>\n",
       "      <td>0.4</td>\n",
       "      <td>0.0</td>\n",
       "      <td>0.00</td>\n",
       "      <td>0.6</td>\n",
       "      <td>1.4</td>\n",
       "      <td>2.360</td>\n",
       "    </tr>\n",
       "  </tbody>\n",
       "</table>\n",
       "<p>2 rows × 57 columns</p>\n",
       "</div>"
      ],
      "text/plain": [
       "    Age     G      MP   PER    TS%   3PAr    FTr  ORB%  DRB%  TRB%  ...  \\\n",
       "0  19.0  43.0   574.0   5.3  0.440  0.627  0.068   4.2  15.6   9.7  ...   \n",
       "1  25.0  67.0  1183.0  10.4  0.531  0.717  0.109   2.1   7.8   4.8  ...   \n",
       "\n",
       "   made_free_throws  attempted_free_throws  offensive_rebounds  \\\n",
       "0               0.0                    0.0                0.25   \n",
       "1               0.0                    0.0                0.00   \n",
       "\n",
       "   defensive_rebounds  assists  steals  blocks  turnovers  personal_fouls  \\\n",
       "0                 2.5      2.0     0.0    0.25        1.0             2.0   \n",
       "1                 0.8      0.4     0.0    0.00        0.6             1.4   \n",
       "\n",
       "   game_score  \n",
       "0       1.825  \n",
       "1       2.360  \n",
       "\n",
       "[2 rows x 57 columns]"
      ]
     },
     "execution_count": 88,
     "metadata": {},
     "output_type": "execute_result"
    }
   ],
   "source": [
    "features.head(2)"
   ]
  },
  {
   "cell_type": "code",
   "execution_count": 104,
   "metadata": {},
   "outputs": [],
   "source": [
    "features.drop(columns=['USG%','%FGM','%FGA','%PTS'], inplace=True)"
   ]
  },
  {
   "cell_type": "code",
   "execution_count": 105,
   "metadata": {},
   "outputs": [],
   "source": [
    "scaled_df = pd.DataFrame(standard_scaler.fit_transform(features))\n",
    "feature_array = scaled_df.to_numpy()"
   ]
  },
  {
   "cell_type": "code",
   "execution_count": 113,
   "metadata": {},
   "outputs": [],
   "source": [
    "feature_array = feature_array.reshape((2328,265))"
   ]
  },
  {
   "cell_type": "code",
   "execution_count": 114,
   "metadata": {},
   "outputs": [
    {
     "data": {
      "text/plain": [
       "(2328, 265)"
      ]
     },
     "execution_count": 114,
     "metadata": {},
     "output_type": "execute_result"
    }
   ],
   "source": [
    "feature_array.shape"
   ]
  },
  {
   "cell_type": "markdown",
   "metadata": {},
   "source": [
    "### Target"
   ]
  },
  {
   "cell_type": "code",
   "execution_count": 61,
   "metadata": {},
   "outputs": [
    {
     "data": {
      "text/html": [
       "<div>\n",
       "<style scoped>\n",
       "    .dataframe tbody tr th:only-of-type {\n",
       "        vertical-align: middle;\n",
       "    }\n",
       "\n",
       "    .dataframe tbody tr th {\n",
       "        vertical-align: top;\n",
       "    }\n",
       "\n",
       "    .dataframe thead th {\n",
       "        text-align: right;\n",
       "    }\n",
       "</style>\n",
       "<table border=\"1\" class=\"dataframe\">\n",
       "  <thead>\n",
       "    <tr style=\"text-align: right;\">\n",
       "      <th></th>\n",
       "      <th>Unnamed: 0</th>\n",
       "      <th>game_id</th>\n",
       "      <th>outcomes</th>\n",
       "    </tr>\n",
       "  </thead>\n",
       "  <tbody>\n",
       "    <tr>\n",
       "      <th>0</th>\n",
       "      <td>0</td>\n",
       "      <td>7400</td>\n",
       "      <td>LOSS</td>\n",
       "    </tr>\n",
       "    <tr>\n",
       "      <th>1</th>\n",
       "      <td>1</td>\n",
       "      <td>7401</td>\n",
       "      <td>LOSS</td>\n",
       "    </tr>\n",
       "  </tbody>\n",
       "</table>\n",
       "</div>"
      ],
      "text/plain": [
       "   Unnamed: 0  game_id outcomes\n",
       "0           0     7400     LOSS\n",
       "1           1     7401     LOSS"
      ]
     },
     "execution_count": 61,
     "metadata": {},
     "output_type": "execute_result"
    }
   ],
   "source": [
    "target.head(2)"
   ]
  },
  {
   "cell_type": "code",
   "execution_count": 62,
   "metadata": {},
   "outputs": [
    {
     "data": {
      "text/html": [
       "<div>\n",
       "<style scoped>\n",
       "    .dataframe tbody tr th:only-of-type {\n",
       "        vertical-align: middle;\n",
       "    }\n",
       "\n",
       "    .dataframe tbody tr th {\n",
       "        vertical-align: top;\n",
       "    }\n",
       "\n",
       "    .dataframe thead th {\n",
       "        text-align: right;\n",
       "    }\n",
       "</style>\n",
       "<table border=\"1\" class=\"dataframe\">\n",
       "  <thead>\n",
       "    <tr style=\"text-align: right;\">\n",
       "      <th></th>\n",
       "      <th>Unnamed: 0</th>\n",
       "      <th>game_id</th>\n",
       "      <th>outcomes</th>\n",
       "    </tr>\n",
       "  </thead>\n",
       "  <tbody>\n",
       "    <tr>\n",
       "      <th>0</th>\n",
       "      <td>0</td>\n",
       "      <td>7400</td>\n",
       "      <td>0</td>\n",
       "    </tr>\n",
       "    <tr>\n",
       "      <th>1</th>\n",
       "      <td>1</td>\n",
       "      <td>7401</td>\n",
       "      <td>0</td>\n",
       "    </tr>\n",
       "  </tbody>\n",
       "</table>\n",
       "</div>"
      ],
      "text/plain": [
       "   Unnamed: 0  game_id  outcomes\n",
       "0           0     7400         0\n",
       "1           1     7401         0"
      ]
     },
     "execution_count": 62,
     "metadata": {},
     "output_type": "execute_result"
    }
   ],
   "source": [
    "target.outcomes = target.outcomes.str.replace('LOSS','0')\n",
    "target.outcomes = target.outcomes.str.replace('WIN','1')\n",
    "target.outcomes = target.outcomes.astype('int')\n",
    "target.head(2)"
   ]
  },
  {
   "cell_type": "code",
   "execution_count": 63,
   "metadata": {},
   "outputs": [
    {
     "data": {
      "text/plain": [
       "(2328, 1)"
      ]
     },
     "execution_count": 63,
     "metadata": {},
     "output_type": "execute_result"
    }
   ],
   "source": [
    "target_array = target[['outcomes']].to_numpy()\n",
    "target_array.shape"
   ]
  },
  {
   "cell_type": "markdown",
   "metadata": {},
   "source": [
    "## Define X_train, y_train, X_test, y_test"
   ]
  },
  {
   "cell_type": "code",
   "execution_count": null,
   "metadata": {},
   "outputs": [],
   "source": [
    "split = int(.7*len(X))\n",
    "X_train = X[:split]\n",
    "X_test = X[split:]\n",
    "y_train = y[:split]\n",
    "y_test =y[split:]\n"
   ]
  },
  {
   "cell_type": "markdown",
   "metadata": {},
   "source": [
    "## Make Model 1 - Simple Model"
   ]
  },
  {
   "cell_type": "code",
   "execution_count": 116,
   "metadata": {},
   "outputs": [],
   "source": [
    "# specify number of units\n",
    "number_units = 50\n",
    "#batch_input_shape = (3,5,57)\n",
    "dropout = .1"
   ]
  },
  {
   "cell_type": "code",
   "execution_count": 127,
   "metadata": {},
   "outputs": [
    {
     "name": "stdout",
     "output_type": "stream",
     "text": [
      "Model: \"sequential_29\"\n",
      "_________________________________________________________________\n",
      "Layer (type)                 Output Shape              Param #   \n",
      "=================================================================\n",
      "dense_57 (Dense)             (None, 50)                13300     \n",
      "_________________________________________________________________\n",
      "dropout_25 (Dropout)         (None, 50)                0         \n",
      "_________________________________________________________________\n",
      "dense_58 (Dense)             (None, 50)                2550      \n",
      "_________________________________________________________________\n",
      "dense_59 (Dense)             (None, 1)                 51        \n",
      "=================================================================\n",
      "Total params: 15,901\n",
      "Trainable params: 15,901\n",
      "Non-trainable params: 0\n",
      "_________________________________________________________________\n"
     ]
    }
   ],
   "source": [
    "# Define model_1\n",
    "\n",
    "model_1 = Sequential()\n",
    "model_1.add(Dense(units=number_units,input_dim=(265)))\n",
    "model_1.add(Dropout(dropout))\n",
    "model_1.add(Dense(units=number_units))\n",
    "model_1.add(Dense(1))\n",
    "model_1.compile(optimizer='adam', loss='binary_crossentropy', metrics=['accuracy'])\n",
    "model_1.summary()"
   ]
  },
  {
   "cell_type": "code",
   "execution_count": 110,
   "metadata": {},
   "outputs": [
    {
     "name": "stdout",
     "output_type": "stream",
     "text": [
      "(2328, 5, 53) (2328, 1)\n"
     ]
    }
   ],
   "source": [
    "print(feature_array.shape, target_array.shape)"
   ]
  },
  {
   "cell_type": "code",
   "execution_count": 128,
   "metadata": {},
   "outputs": [
    {
     "name": "stdout",
     "output_type": "stream",
     "text": [
      "Train on 1629 samples, validate on 699 samples\n",
      "Epoch 1/30\n",
      "1629/1629 [==============================] - 2s 1ms/sample - loss: 5.5550 - accuracy: 0.5813 - val_loss: 5.3199 - val_accuracy: 0.6195\n",
      "Epoch 2/30\n",
      "1629/1629 [==============================] - 0s 114us/sample - loss: 5.4184 - accuracy: 0.6077 - val_loss: 5.7306 - val_accuracy: 0.5908\n",
      "Epoch 3/30\n",
      "1629/1629 [==============================] - 0s 95us/sample - loss: 5.7191 - accuracy: 0.5948 - val_loss: 5.9549 - val_accuracy: 0.5765\n",
      "Epoch 4/30\n",
      "1629/1629 [==============================] - 0s 77us/sample - loss: 5.8451 - accuracy: 0.5838 - val_loss: 5.5616 - val_accuracy: 0.6066\n",
      "Epoch 5/30\n",
      "1629/1629 [==============================] - 0s 71us/sample - loss: 5.6693 - accuracy: 0.5924 - val_loss: 6.2667 - val_accuracy: 0.5608\n",
      "Epoch 6/30\n",
      "1629/1629 [==============================] - 0s 73us/sample - loss: 5.7429 - accuracy: 0.5887 - val_loss: 6.1088 - val_accuracy: 0.5765\n",
      "Epoch 7/30\n",
      "1629/1629 [==============================] - 0s 77us/sample - loss: 5.7273 - accuracy: 0.5998 - val_loss: 5.4077 - val_accuracy: 0.6338\n",
      "Epoch 8/30\n",
      "1629/1629 [==============================] - 0s 83us/sample - loss: 5.4941 - accuracy: 0.6157 - val_loss: 5.5713 - val_accuracy: 0.6109\n",
      "Epoch 9/30\n",
      "1629/1629 [==============================] - 0s 110us/sample - loss: 5.9048 - accuracy: 0.5850 - val_loss: 6.5307 - val_accuracy: 0.5494\n",
      "Epoch 10/30\n",
      "1629/1629 [==============================] - 0s 89us/sample - loss: 6.0215 - accuracy: 0.5807 - val_loss: 5.7503 - val_accuracy: 0.6123\n",
      "Epoch 11/30\n",
      "1629/1629 [==============================] - 0s 77us/sample - loss: 5.9841 - accuracy: 0.5912 - val_loss: 5.9659 - val_accuracy: 0.5980\n",
      "Epoch 12/30\n",
      "1629/1629 [==============================] - 0s 77us/sample - loss: 5.9763 - accuracy: 0.5985 - val_loss: 5.7827 - val_accuracy: 0.6109\n",
      "Epoch 13/30\n",
      "1629/1629 [==============================] - 0s 77us/sample - loss: 5.9157 - accuracy: 0.6028 - val_loss: 5.7273 - val_accuracy: 0.6166\n",
      "Epoch 14/30\n",
      "1629/1629 [==============================] - 0s 77us/sample - loss: 5.7846 - accuracy: 0.6083 - val_loss: 5.7069 - val_accuracy: 0.6109\n",
      "Epoch 15/30\n",
      "1629/1629 [==============================] - 0s 76us/sample - loss: 5.7033 - accuracy: 0.6114 - val_loss: 5.8196 - val_accuracy: 0.6109\n",
      "Epoch 16/30\n",
      "1629/1629 [==============================] - 0s 96us/sample - loss: 5.5967 - accuracy: 0.6206 - val_loss: 5.8021 - val_accuracy: 0.6080\n",
      "Epoch 17/30\n",
      "1629/1629 [==============================] - 0s 112us/sample - loss: 5.6093 - accuracy: 0.6255 - val_loss: 5.7499 - val_accuracy: 0.6023\n",
      "Epoch 18/30\n",
      "1629/1629 [==============================] - 0s 98us/sample - loss: 5.5373 - accuracy: 0.6298 - val_loss: 5.8914 - val_accuracy: 0.5966\n",
      "Epoch 19/30\n",
      "1629/1629 [==============================] - 0s 94us/sample - loss: 5.7551 - accuracy: 0.6163 - val_loss: 5.3687 - val_accuracy: 0.6395\n",
      "Epoch 20/30\n",
      "1629/1629 [==============================] - 0s 83us/sample - loss: 5.7974 - accuracy: 0.6157 - val_loss: 5.4181 - val_accuracy: 0.6323\n",
      "Epoch 21/30\n",
      "1629/1629 [==============================] - 0s 81us/sample - loss: 5.7275 - accuracy: 0.6237 - val_loss: 5.5322 - val_accuracy: 0.6237\n",
      "Epoch 22/30\n",
      "1629/1629 [==============================] - 0s 99us/sample - loss: 5.6795 - accuracy: 0.6249 - val_loss: 5.4208 - val_accuracy: 0.6352\n",
      "Epoch 23/30\n",
      "1629/1629 [==============================] - 0s 83us/sample - loss: 5.6438 - accuracy: 0.6219 - val_loss: 5.4563 - val_accuracy: 0.6338\n",
      "Epoch 24/30\n",
      "1629/1629 [==============================] - 0s 108us/sample - loss: 5.5690 - accuracy: 0.6292 - val_loss: 5.4592 - val_accuracy: 0.6309\n",
      "Epoch 25/30\n",
      "1629/1629 [==============================] - 0s 91us/sample - loss: 5.5400 - accuracy: 0.6311 - val_loss: 5.3024 - val_accuracy: 0.6466\n",
      "Epoch 26/30\n",
      "1629/1629 [==============================] - 0s 81us/sample - loss: 5.6362 - accuracy: 0.6262 - val_loss: 5.3252 - val_accuracy: 0.6409\n",
      "Epoch 27/30\n",
      "1629/1629 [==============================] - 0s 83us/sample - loss: 5.8305 - accuracy: 0.6102 - val_loss: 5.7039 - val_accuracy: 0.6166\n",
      "Epoch 28/30\n",
      "1629/1629 [==============================] - 0s 83us/sample - loss: 5.8561 - accuracy: 0.6096 - val_loss: 5.7539 - val_accuracy: 0.6209\n",
      "Epoch 29/30\n",
      "1629/1629 [==============================] - 0s 124us/sample - loss: 5.8468 - accuracy: 0.6133 - val_loss: 5.7176 - val_accuracy: 0.6209\n",
      "Epoch 30/30\n",
      "1629/1629 [==============================] - 0s 107us/sample - loss: 5.7699 - accuracy: 0.6157 - val_loss: 5.6716 - val_accuracy: 0.6223\n"
     ]
    }
   ],
   "source": [
    "model1 = model_1.fit(feature_array,target_array, validation_split=.3, epochs=30)"
   ]
  },
  {
   "cell_type": "code",
   "execution_count": 129,
   "metadata": {},
   "outputs": [
    {
     "data": {
      "image/png": "[encoded data removed]",
      "text/plain": [
       "<Figure size 432x288 with 1 Axes>"
      ]
     },
     "metadata": {
      "needs_background": "light"
     },
     "output_type": "display_data"
    }
   ],
   "source": [
    "plt.plot(model1.history[\"loss\"])\n",
    "plt.plot(model1.history[\"val_loss\"])\n",
    "\n",
    "plt.legend([\"loss\", \"validation loss\"])\n",
    "plt.show()"
   ]
  },
  {
   "cell_type": "code",
   "execution_count": 130,
   "metadata": {},
   "outputs": [
    {
     "data": {
      "image/png": "[encoded data removed]",
      "text/plain": [
       "<Figure size 432x288 with 1 Axes>"
      ]
     },
     "metadata": {
      "needs_background": "light"
     },
     "output_type": "display_data"
    }
   ],
   "source": [
    "plt.plot(model1.history[\"accuracy\"])\n",
    "plt.plot(model1.history[\"val_accuracy\"])\n",
    "\n",
    "plt.legend([\"accuracy\", \"validation accuracy\"])\n",
    "plt.show()"
   ]
  },
  {
   "cell_type": "code",
   "execution_count": null,
   "metadata": {},
   "outputs": [],
   "source": []
  }
 ],
 "metadata": {
  "kernelspec": {
   "display_name": "Python 3",
   "language": "python",
   "name": "python3"
  },
  "language_info": {
   "codemirror_mode": {
    "name": "ipython",
    "version": 3
   },
   "file_extension": ".py",
   "mimetype": "text/x-python",
   "name": "python",
   "nbconvert_exporter": "python",
   "pygments_lexer": "ipython3",
   "version": "3.7.3"
  }
 },
 "nbformat": 4,
 "nbformat_minor": 4
}
