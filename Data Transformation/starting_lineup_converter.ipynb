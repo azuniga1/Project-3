{
 "cells": [
  {
   "cell_type": "markdown",
   "metadata": {},
   "source": [
    "# Starting Lineup Converter"
   ]
  },
  {
   "cell_type": "code",
   "execution_count": 6,
   "metadata": {},
   "outputs": [],
   "source": [
    "import pandas as pd\n",
    "import numpy as np\n",
    "import sys\n",
    "sys.path.append('../Scripts')\n",
    "import starting_lineup_functions as slfx"
   ]
  },
  {
   "cell_type": "markdown",
   "metadata": {},
   "source": [
    "## Make **'PLAYER_DICT'**"
   ]
  },
  {
   "cell_type": "code",
   "execution_count": 13,
   "metadata": {},
   "outputs": [],
   "source": [
    "players = pd.read_csv('../Resources/active_players.csv')\n",
    "players.index = players['Lineup_name']\n",
    "players.drop(columns=['Lineup_name'], inplace=True)"
   ]
  },
  {
   "cell_type": "code",
   "execution_count": 15,
   "metadata": {},
   "outputs": [],
   "source": [
    "players = players[['name']]\n",
    "players.columns = ['player_name']\n"
   ]
  },
  {
   "cell_type": "code",
   "execution_count": 22,
   "metadata": {},
   "outputs": [
    {
     "data": {
      "text/html": [
       "<div>\n",
       "<style scoped>\n",
       "    .dataframe tbody tr th:only-of-type {\n",
       "        vertical-align: middle;\n",
       "    }\n",
       "\n",
       "    .dataframe tbody tr th {\n",
       "        vertical-align: top;\n",
       "    }\n",
       "\n",
       "    .dataframe thead th {\n",
       "        text-align: right;\n",
       "    }\n",
       "</style>\n",
       "<table border=\"1\" class=\"dataframe\">\n",
       "  <thead>\n",
       "    <tr style=\"text-align: right;\">\n",
       "      <th></th>\n",
       "      <th>player_name</th>\n",
       "    </tr>\n",
       "  </thead>\n",
       "  <tbody>\n",
       "    <tr>\n",
       "      <th>count</th>\n",
       "      <td>1237</td>\n",
       "    </tr>\n",
       "    <tr>\n",
       "      <th>unique</th>\n",
       "      <td>1233</td>\n",
       "    </tr>\n",
       "    <tr>\n",
       "      <th>top</th>\n",
       "      <td>Chris Johnson</td>\n",
       "    </tr>\n",
       "    <tr>\n",
       "      <th>freq</th>\n",
       "      <td>2</td>\n",
       "    </tr>\n",
       "  </tbody>\n",
       "</table>\n",
       "</div>"
      ],
      "text/plain": [
       "          player_name\n",
       "count            1237\n",
       "unique           1233\n",
       "top     Chris Johnson\n",
       "freq                2"
      ]
     },
     "execution_count": 22,
     "metadata": {},
     "output_type": "execute_result"
    }
   ],
   "source": [
    "players.describe()"
   ]
  },
  {
   "cell_type": "code",
   "execution_count": null,
   "metadata": {},
   "outputs": [],
   "source": []
  },
  {
   "cell_type": "code",
   "execution_count": 17,
   "metadata": {},
   "outputs": [
    {
     "name": "stderr",
     "output_type": "stream",
     "text": [
      "C:\\Users\\ekuo651\\Anaconda3\\lib\\site-packages\\ipykernel_launcher.py:1: UserWarning: DataFrame columns are not unique, some columns will be omitted.\n",
      "  \"\"\"Entry point for launching an IPython kernel.\n"
     ]
    }
   ],
   "source": [
    "PLAYER_DICT = players.T.to_dict('list')"
   ]
  },
  {
   "cell_type": "code",
   "execution_count": 1,
   "metadata": {},
   "outputs": [
    {
     "name": "stderr",
     "output_type": "stream",
     "text": [
      "../Scripts\\starting_lineup_functions.py:11: UserWarning: DataFrame columns are not unique, some columns will be omitted.\n",
      "  PLAYER_DICT = players.T.to_dict('list')\n"
     ]
    }
   ],
   "source": [
    "import sys\n",
    "sys.path.append('../Scripts')\n",
    "import starting_lineup_functions as slfx"
   ]
  },
  {
   "cell_type": "code",
   "execution_count": 4,
   "metadata": {},
   "outputs": [
    {
     "data": {
      "text/plain": [
       "{'ATLANTA_HAWKS': ['ATLANTA'],\n",
       " 'BOSTON_CELTICS': ['BOSTON'],\n",
       " 'BROOKLYN_NETS': ['BROOKLYN'],\n",
       " 'CHARLOTTE_HORNETS': ['CHARLOTTE'],\n",
       " 'CHICAGO_BULLS': ['CHICAGO'],\n",
       " 'CLEVELAND_CAVALIERS': ['CLEVELAND'],\n",
       " 'DALLAS_MAVERICKS': ['DALLAS'],\n",
       " 'DENVER_NUGGETS': ['DENVER'],\n",
       " 'DETROIT_PISTONS': ['DETROIT'],\n",
       " 'GOLDEN_STATE_WARRIORS': ['GOLDEN STATE'],\n",
       " 'HOUSTON_ROCKETS': ['HOUSTON'],\n",
       " 'INDIANA_PACERS': ['INDIANA'],\n",
       " 'LOS_ANGELES_CLIPPERS': ['LA CLIPPERS'],\n",
       " 'LOS_ANGELES_LAKERS': ['LA LAKERS'],\n",
       " 'MEMPHIS_GRIZZLIES': ['MEMPHIS'],\n",
       " 'MIAMI_HEAT': ['MIAMI'],\n",
       " 'MILWAUKEE_BUCKS': ['MILWAUKEE'],\n",
       " 'MINNESOTA_TIMBERWOLVES': ['MINNESOTA'],\n",
       " 'NEW_ORLEANS_PELICANS': ['NEW ORLEANS'],\n",
       " 'NEW_YORK_KNICKS': ['NEW YORK'],\n",
       " 'OKLAHOMA_CITY_THUNDER': ['OKLAHOMA CITY'],\n",
       " 'ORLANDO_MAGIC': ['ORLANDO'],\n",
       " 'PHILADELPHIA_76ERS': ['PHILADELPHIA'],\n",
       " 'PHOENIX_SUNS': ['PHOENIX'],\n",
       " 'PORTLAND_TRAIL_BLAZERS': ['PORTLAND'],\n",
       " 'SACRAMENTO_KINGS': ['SACRAMENTO'],\n",
       " 'SAN_ANTONIO_SPURS': ['SAN ANTONIO'],\n",
       " 'TORONTO_RAPTORS': ['TORONTO'],\n",
       " 'UTAH_JAZZ': ['UTAH'],\n",
       " 'WASHINGTON_WIZARDS': ['WASHINGTON']}"
      ]
     },
     "execution_count": 4,
     "metadata": {},
     "output_type": "execute_result"
    }
   ],
   "source": [
    "slfx.CURR_DICT"
   ]
  },
  {
   "cell_type": "markdown",
   "metadata": {},
   "source": [
    "## Make **'starter_fetcher'**"
   ]
  },
  {
   "cell_type": "code",
   "execution_count": 284,
   "metadata": {},
   "outputs": [
    {
     "data": {
      "text/html": [
       "<div>\n",
       "<style scoped>\n",
       "    .dataframe tbody tr th:only-of-type {\n",
       "        vertical-align: middle;\n",
       "    }\n",
       "\n",
       "    .dataframe tbody tr th {\n",
       "        vertical-align: top;\n",
       "    }\n",
       "\n",
       "    .dataframe thead th {\n",
       "        text-align: right;\n",
       "    }\n",
       "</style>\n",
       "<table border=\"1\" class=\"dataframe\">\n",
       "  <thead>\n",
       "    <tr style=\"text-align: right;\">\n",
       "      <th></th>\n",
       "      <th>Unnamed: 0</th>\n",
       "      <th>TEAM</th>\n",
       "      <th>PG</th>\n",
       "      <th>SG</th>\n",
       "      <th>SF</th>\n",
       "      <th>PF</th>\n",
       "      <th>C</th>\n",
       "    </tr>\n",
       "  </thead>\n",
       "  <tbody>\n",
       "    <tr>\n",
       "      <th>0</th>\n",
       "      <td>0</td>\n",
       "      <td>Atlanta</td>\n",
       "      <td>T. Young</td>\n",
       "      <td>K. Huerter</td>\n",
       "      <td>D. Hunter</td>\n",
       "      <td>J. Collins</td>\n",
       "      <td>C. Capela</td>\n",
       "    </tr>\n",
       "    <tr>\n",
       "      <th>1</th>\n",
       "      <td>1</td>\n",
       "      <td>Boston</td>\n",
       "      <td>K. Walker</td>\n",
       "      <td>J. Brown</td>\n",
       "      <td>J. Tatum</td>\n",
       "      <td>G. Hayward</td>\n",
       "      <td>D. Theis</td>\n",
       "    </tr>\n",
       "    <tr>\n",
       "      <th>2</th>\n",
       "      <td>2</td>\n",
       "      <td>Brooklyn</td>\n",
       "      <td>K. Irving</td>\n",
       "      <td>J. Harris</td>\n",
       "      <td>C. LeVert</td>\n",
       "      <td>T. Prince</td>\n",
       "      <td>J. Allen</td>\n",
       "    </tr>\n",
       "    <tr>\n",
       "      <th>3</th>\n",
       "      <td>3</td>\n",
       "      <td>Charlotte</td>\n",
       "      <td>D. Graham</td>\n",
       "      <td>T. Rozier</td>\n",
       "      <td>M. Bridges</td>\n",
       "      <td>P. Washington</td>\n",
       "      <td>C. Zeller</td>\n",
       "    </tr>\n",
       "    <tr>\n",
       "      <th>4</th>\n",
       "      <td>4</td>\n",
       "      <td>Chicago</td>\n",
       "      <td>T. Satoransky</td>\n",
       "      <td>Z. LaVine</td>\n",
       "      <td>K. Dunn</td>\n",
       "      <td>L. Markkanen</td>\n",
       "      <td>L. Kornet</td>\n",
       "    </tr>\n",
       "  </tbody>\n",
       "</table>\n",
       "</div>"
      ],
      "text/plain": [
       "   Unnamed: 0       TEAM             PG          SG          SF  \\\n",
       "0           0    Atlanta       T. Young  K. Huerter   D. Hunter   \n",
       "1           1     Boston      K. Walker    J. Brown    J. Tatum   \n",
       "2           2   Brooklyn      K. Irving   J. Harris   C. LeVert   \n",
       "3           3  Charlotte      D. Graham   T. Rozier  M. Bridges   \n",
       "4           4    Chicago  T. Satoransky   Z. LaVine     K. Dunn   \n",
       "\n",
       "              PF          C  \n",
       "0     J. Collins  C. Capela  \n",
       "1     G. Hayward   D. Theis  \n",
       "2      T. Prince   J. Allen  \n",
       "3  P. Washington  C. Zeller  \n",
       "4   L. Markkanen  L. Kornet  "
      ]
     },
     "execution_count": 284,
     "metadata": {},
     "output_type": "execute_result"
    }
   ],
   "source": [
    "starting_lineup = pd.read_csv('../Resources/sample_lineup.csv')\n",
    "starting_lineup.head()"
   ]
  },
  {
   "cell_type": "code",
   "execution_count": 198,
   "metadata": {},
   "outputs": [],
   "source": [
    "starting_lineup.TEAM = starting_lineup.TEAM.str.upper()"
   ]
  },
  {
   "cell_type": "code",
   "execution_count": 193,
   "metadata": {},
   "outputs": [],
   "source": [
    "starting_lineup.index = starting_lineup.TEAM\n",
    "starting_lineup = starting_lineup[['PG','SG', 'SF','PF','C']]"
   ]
  },
  {
   "cell_type": "code",
   "execution_count": 199,
   "metadata": {},
   "outputs": [
    {
     "data": {
      "text/html": [
       "<div>\n",
       "<style scoped>\n",
       "    .dataframe tbody tr th:only-of-type {\n",
       "        vertical-align: middle;\n",
       "    }\n",
       "\n",
       "    .dataframe tbody tr th {\n",
       "        vertical-align: top;\n",
       "    }\n",
       "\n",
       "    .dataframe thead th {\n",
       "        text-align: right;\n",
       "    }\n",
       "</style>\n",
       "<table border=\"1\" class=\"dataframe\">\n",
       "  <thead>\n",
       "    <tr style=\"text-align: right;\">\n",
       "      <th></th>\n",
       "      <th>Unnamed: 0</th>\n",
       "      <th>TEAM</th>\n",
       "      <th>PG</th>\n",
       "      <th>SG</th>\n",
       "      <th>SF</th>\n",
       "      <th>PF</th>\n",
       "      <th>C</th>\n",
       "    </tr>\n",
       "  </thead>\n",
       "  <tbody>\n",
       "    <tr>\n",
       "      <th>0</th>\n",
       "      <td>0</td>\n",
       "      <td>ATLANTA</td>\n",
       "      <td>T. Young</td>\n",
       "      <td>K. Huerter</td>\n",
       "      <td>D. Hunter</td>\n",
       "      <td>J. Collins</td>\n",
       "      <td>C. Capela</td>\n",
       "    </tr>\n",
       "    <tr>\n",
       "      <th>1</th>\n",
       "      <td>1</td>\n",
       "      <td>BOSTON</td>\n",
       "      <td>K. Walker</td>\n",
       "      <td>J. Brown</td>\n",
       "      <td>J. Tatum</td>\n",
       "      <td>G. Hayward</td>\n",
       "      <td>D. Theis</td>\n",
       "    </tr>\n",
       "    <tr>\n",
       "      <th>2</th>\n",
       "      <td>2</td>\n",
       "      <td>BROOKLYN</td>\n",
       "      <td>K. Irving</td>\n",
       "      <td>J. Harris</td>\n",
       "      <td>C. LeVert</td>\n",
       "      <td>T. Prince</td>\n",
       "      <td>J. Allen</td>\n",
       "    </tr>\n",
       "    <tr>\n",
       "      <th>3</th>\n",
       "      <td>3</td>\n",
       "      <td>CHARLOTTE</td>\n",
       "      <td>D. Graham</td>\n",
       "      <td>T. Rozier</td>\n",
       "      <td>M. Bridges</td>\n",
       "      <td>P. Washington</td>\n",
       "      <td>C. Zeller</td>\n",
       "    </tr>\n",
       "    <tr>\n",
       "      <th>4</th>\n",
       "      <td>4</td>\n",
       "      <td>CHICAGO</td>\n",
       "      <td>T. Satoransky</td>\n",
       "      <td>Z. LaVine</td>\n",
       "      <td>K. Dunn</td>\n",
       "      <td>L. Markkanen</td>\n",
       "      <td>L. Kornet</td>\n",
       "    </tr>\n",
       "  </tbody>\n",
       "</table>\n",
       "</div>"
      ],
      "text/plain": [
       "   Unnamed: 0       TEAM             PG          SG          SF  \\\n",
       "0           0    ATLANTA       T. Young  K. Huerter   D. Hunter   \n",
       "1           1     BOSTON      K. Walker    J. Brown    J. Tatum   \n",
       "2           2   BROOKLYN      K. Irving   J. Harris   C. LeVert   \n",
       "3           3  CHARLOTTE      D. Graham   T. Rozier  M. Bridges   \n",
       "4           4    CHICAGO  T. Satoransky   Z. LaVine     K. Dunn   \n",
       "\n",
       "              PF          C  \n",
       "0     J. Collins  C. Capela  \n",
       "1     G. Hayward   D. Theis  \n",
       "2      T. Prince   J. Allen  \n",
       "3  P. Washington  C. Zeller  \n",
       "4   L. Markkanen  L. Kornet  "
      ]
     },
     "execution_count": 199,
     "metadata": {},
     "output_type": "execute_result"
    }
   ],
   "source": [
    "starting_lineup.head()"
   ]
  },
  {
   "cell_type": "code",
   "execution_count": 106,
   "metadata": {},
   "outputs": [],
   "source": [
    "starting_lineup = starting_lineup.T"
   ]
  },
  {
   "cell_type": "markdown",
   "metadata": {},
   "source": [
    "## Make **'CURR_DICT'**"
   ]
  },
  {
   "cell_type": "code",
   "execution_count": 138,
   "metadata": {},
   "outputs": [],
   "source": [
    "import sys\n",
    "sys.path.append('../Scripts')\n",
    "\n",
    "import scheduling_functions as sfx"
   ]
  },
  {
   "cell_type": "code",
   "execution_count": 139,
   "metadata": {},
   "outputs": [
    {
     "data": {
      "text/html": [
       "<div>\n",
       "<style scoped>\n",
       "    .dataframe tbody tr th:only-of-type {\n",
       "        vertical-align: middle;\n",
       "    }\n",
       "\n",
       "    .dataframe tbody tr th {\n",
       "        vertical-align: top;\n",
       "    }\n",
       "\n",
       "    .dataframe thead th {\n",
       "        text-align: right;\n",
       "    }\n",
       "</style>\n",
       "<table border=\"1\" class=\"dataframe\">\n",
       "  <thead>\n",
       "    <tr style=\"text-align: right;\">\n",
       "      <th></th>\n",
       "      <th>date1</th>\n",
       "      <th>date2</th>\n",
       "      <th>away</th>\n",
       "      <th>home</th>\n",
       "      <th>away_team_score</th>\n",
       "      <th>home_team_score</th>\n",
       "      <th>game_number</th>\n",
       "      <th>game_id</th>\n",
       "    </tr>\n",
       "  </thead>\n",
       "  <tbody>\n",
       "    <tr>\n",
       "      <th>0</th>\n",
       "      <td>2012-10-30</td>\n",
       "      <td>2012-10-29</td>\n",
       "      <td>WASHINGTON_WIZARDS</td>\n",
       "      <td>CLEVELAND_CAVALIERS</td>\n",
       "      <td>84.0</td>\n",
       "      <td>94.0</td>\n",
       "      <td>0</td>\n",
       "      <td>0</td>\n",
       "    </tr>\n",
       "    <tr>\n",
       "      <th>1</th>\n",
       "      <td>2012-10-31</td>\n",
       "      <td>2012-10-30</td>\n",
       "      <td>BOSTON_CELTICS</td>\n",
       "      <td>MIAMI_HEAT</td>\n",
       "      <td>107.0</td>\n",
       "      <td>120.0</td>\n",
       "      <td>1</td>\n",
       "      <td>1</td>\n",
       "    </tr>\n",
       "    <tr>\n",
       "      <th>2</th>\n",
       "      <td>2012-10-31</td>\n",
       "      <td>2012-10-30</td>\n",
       "      <td>DALLAS_MAVERICKS</td>\n",
       "      <td>LOS_ANGELES_LAKERS</td>\n",
       "      <td>99.0</td>\n",
       "      <td>91.0</td>\n",
       "      <td>2</td>\n",
       "      <td>2</td>\n",
       "    </tr>\n",
       "    <tr>\n",
       "      <th>3</th>\n",
       "      <td>2012-10-31</td>\n",
       "      <td>2012-10-30</td>\n",
       "      <td>INDIANA_PACERS</td>\n",
       "      <td>TORONTO_RAPTORS</td>\n",
       "      <td>90.0</td>\n",
       "      <td>88.0</td>\n",
       "      <td>3</td>\n",
       "      <td>3</td>\n",
       "    </tr>\n",
       "    <tr>\n",
       "      <th>4</th>\n",
       "      <td>2012-10-31</td>\n",
       "      <td>2012-10-30</td>\n",
       "      <td>DENVER_NUGGETS</td>\n",
       "      <td>PHILADELPHIA_76ERS</td>\n",
       "      <td>75.0</td>\n",
       "      <td>84.0</td>\n",
       "      <td>4</td>\n",
       "      <td>4</td>\n",
       "    </tr>\n",
       "  </tbody>\n",
       "</table>\n",
       "</div>"
      ],
      "text/plain": [
       "        date1       date2                away                 home  \\\n",
       "0  2012-10-30  2012-10-29  WASHINGTON_WIZARDS  CLEVELAND_CAVALIERS   \n",
       "1  2012-10-31  2012-10-30      BOSTON_CELTICS           MIAMI_HEAT   \n",
       "2  2012-10-31  2012-10-30    DALLAS_MAVERICKS   LOS_ANGELES_LAKERS   \n",
       "3  2012-10-31  2012-10-30      INDIANA_PACERS      TORONTO_RAPTORS   \n",
       "4  2012-10-31  2012-10-30      DENVER_NUGGETS   PHILADELPHIA_76ERS   \n",
       "\n",
       "   away_team_score  home_team_score game_number game_id  \n",
       "0             84.0             94.0           0       0  \n",
       "1            107.0            120.0           1       1  \n",
       "2             99.0             91.0           2       2  \n",
       "3             90.0             88.0           3       3  \n",
       "4             75.0             84.0           4       4  "
      ]
     },
     "execution_count": 139,
     "metadata": {},
     "output_type": "execute_result"
    }
   ],
   "source": [
    "schedule = pd.read_csv('../Resources/game_schedule_13-current.csv')\n",
    "clean_schedule = sfx.get_encoded_schedule(schedule)\n",
    "clean_schedule.head()"
   ]
  },
  {
   "cell_type": "code",
   "execution_count": 266,
   "metadata": {},
   "outputs": [],
   "source": [
    "team = clean_schedule[['away','home']].copy()\n",
    "team.drop(columns=['home'],inplace=True)\n",
    "team.drop_duplicates(inplace=True)\n",
    "team.drop([29], inplace=True)\n",
    "team.drop([31], inplace=True)\n"
   ]
  },
  {
   "cell_type": "code",
   "execution_count": 267,
   "metadata": {},
   "outputs": [],
   "source": [
    "curr_dict_index = list(team.away)\n",
    "curr_dict_index.sort()\n",
    "curr_dict_values = list(starting_lineup.TEAM)\n",
    "curr_dict = pd.DataFrame(curr_dict_values, index=curr_dict_index, columns=['team_name'])\n",
    "\n",
    "CURR_DICT = curr_dict.T.to_dict('list')"
   ]
  },
  {
   "cell_type": "code",
   "execution_count": 286,
   "metadata": {},
   "outputs": [
    {
     "data": {
      "text/plain": [
       "{'ATLANTA_HAWKS': ['ATLANTA'],\n",
       " 'BOSTON_CELTICS': ['BOSTON'],\n",
       " 'BROOKLYN_NETS': ['BROOKLYN'],\n",
       " 'CHARLOTTE_HORNETS': ['CHARLOTTE'],\n",
       " 'CHICAGO_BULLS': ['CHICAGO'],\n",
       " 'CLEVELAND_CAVALIERS': ['CLEVELAND'],\n",
       " 'DALLAS_MAVERICKS': ['DALLAS'],\n",
       " 'DENVER_NUGGETS': ['DENVER'],\n",
       " 'DETROIT_PISTONS': ['DETROIT'],\n",
       " 'GOLDEN_STATE_WARRIORS': ['GOLDEN STATE'],\n",
       " 'HOUSTON_ROCKETS': ['HOUSTON'],\n",
       " 'INDIANA_PACERS': ['INDIANA'],\n",
       " 'LOS_ANGELES_CLIPPERS': ['LA CLIPPERS'],\n",
       " 'LOS_ANGELES_LAKERS': ['LA LAKERS'],\n",
       " 'MEMPHIS_GRIZZLIES': ['MEMPHIS'],\n",
       " 'MIAMI_HEAT': ['MIAMI'],\n",
       " 'MILWAUKEE_BUCKS': ['MILWAUKEE'],\n",
       " 'MINNESOTA_TIMBERWOLVES': ['MINNESOTA'],\n",
       " 'NEW_ORLEANS_PELICANS': ['NEW ORLEANS'],\n",
       " 'NEW_YORK_KNICKS': ['NEW YORK'],\n",
       " 'OKLAHOMA_CITY_THUNDER': ['OKLAHOMA CITY'],\n",
       " 'ORLANDO_MAGIC': ['ORLANDO'],\n",
       " 'PHILADELPHIA_76ERS': ['PHILADELPHIA'],\n",
       " 'PHOENIX_SUNS': ['PHOENIX'],\n",
       " 'PORTLAND_TRAIL_BLAZERS': ['PORTLAND'],\n",
       " 'SACRAMENTO_KINGS': ['SACRAMENTO'],\n",
       " 'SAN_ANTONIO_SPURS': ['SAN ANTONIO'],\n",
       " 'TORONTO_RAPTORS': ['TORONTO'],\n",
       " 'UTAH_JAZZ': ['UTAH'],\n",
       " 'WASHINGTON_WIZARDS': ['WASHINGTON']}"
      ]
     },
     "execution_count": 286,
     "metadata": {},
     "output_type": "execute_result"
    }
   ],
   "source": [
    "CURR_DICT"
   ]
  },
  {
   "cell_type": "markdown",
   "metadata": {},
   "source": [
    "## Make **'PAST_DICT'**"
   ]
  },
  {
   "cell_type": "code",
   "execution_count": 280,
   "metadata": {},
   "outputs": [],
   "source": [
    "team = clean_schedule[['away','home']].copy()\n",
    "team.drop(columns=['home'],inplace=True)\n",
    "team.drop_duplicates(inplace=True)\n",
    "past_dict_index = list(team.away)\n",
    "\n",
    "past_dict_index.sort()\n",
    "\n",
    "\n",
    "past_dict_values = ['ATL','BKN','BOS','CHB','CHA','CHI','CLE','DAL','DEN','DET','GSW','HOU',\n",
    "                   'IND','LAC','LAL','MEM','MIA','MIL','MIN','NOP','NOP','NYK','OKC','ORL',\n",
    "                   'PHI','PHX','POR','SAC','SAS','TOR','UTA','WAS']\n",
    "\n",
    "past_dict = pd.DataFrame(past_dict_values, index=past_dict_index, columns=['team_abbr'])"
   ]
  },
  {
   "cell_type": "code",
   "execution_count": 281,
   "metadata": {},
   "outputs": [
    {
     "data": {
      "text/plain": [
       "{'ATLANTA_HAWKS': ['ATL'],\n",
       " 'BOSTON_CELTICS': ['BKN'],\n",
       " 'BROOKLYN_NETS': ['BOS'],\n",
       " 'CHARLOTTE_BOBCATS': ['CHB'],\n",
       " 'CHARLOTTE_HORNETS': ['CHA'],\n",
       " 'CHICAGO_BULLS': ['CHI'],\n",
       " 'CLEVELAND_CAVALIERS': ['CLE'],\n",
       " 'DALLAS_MAVERICKS': ['DAL'],\n",
       " 'DENVER_NUGGETS': ['DEN'],\n",
       " 'DETROIT_PISTONS': ['DET'],\n",
       " 'GOLDEN_STATE_WARRIORS': ['GSW'],\n",
       " 'HOUSTON_ROCKETS': ['HOU'],\n",
       " 'INDIANA_PACERS': ['IND'],\n",
       " 'LOS_ANGELES_CLIPPERS': ['LAC'],\n",
       " 'LOS_ANGELES_LAKERS': ['LAL'],\n",
       " 'MEMPHIS_GRIZZLIES': ['MEM'],\n",
       " 'MIAMI_HEAT': ['MIA'],\n",
       " 'MILWAUKEE_BUCKS': ['MIL'],\n",
       " 'MINNESOTA_TIMBERWOLVES': ['MIN'],\n",
       " 'NEW_ORLEANS_HORNETS': ['NOP'],\n",
       " 'NEW_ORLEANS_PELICANS': ['NOP'],\n",
       " 'NEW_YORK_KNICKS': ['NYK'],\n",
       " 'OKLAHOMA_CITY_THUNDER': ['OKC'],\n",
       " 'ORLANDO_MAGIC': ['ORL'],\n",
       " 'PHILADELPHIA_76ERS': ['PHI'],\n",
       " 'PHOENIX_SUNS': ['PHX'],\n",
       " 'PORTLAND_TRAIL_BLAZERS': ['POR'],\n",
       " 'SACRAMENTO_KINGS': ['SAC'],\n",
       " 'SAN_ANTONIO_SPURS': ['SAS'],\n",
       " 'TORONTO_RAPTORS': ['TOR'],\n",
       " 'UTAH_JAZZ': ['UTA'],\n",
       " 'WASHINGTON_WIZARDS': ['WAS']}"
      ]
     },
     "execution_count": 281,
     "metadata": {},
     "output_type": "execute_result"
    }
   ],
   "source": [
    "PAST_DICT = past_dict.T.to_dict('list')\n",
    "PAST_DICT"
   ]
  },
  {
   "cell_type": "markdown",
   "metadata": {},
   "source": [
    "## Testing out the dictionaries"
   ]
  },
  {
   "cell_type": "code",
   "execution_count": 283,
   "metadata": {},
   "outputs": [],
   "source": [
    "import starting_lineup_functions as starters"
   ]
  },
  {
   "cell_type": "code",
   "execution_count": 18,
   "metadata": {},
   "outputs": [],
   "source": [
    "def lineup_name_converter(string):\n",
    "    name = PLAYER_DICT[string]\n",
    "    return name\n",
    "\n",
    "def schedule_past_team_converter(string):\n",
    "    name = PAST_DICT[string]\n",
    "    return name\n",
    "\n",
    "def schedule_curr_team_converter(string):\n",
    "    name = CURR_DICT[string]\n",
    "    return name"
   ]
  },
  {
   "cell_type": "code",
   "execution_count": 289,
   "metadata": {},
   "outputs": [
    {
     "data": {
      "text/plain": [
       "['UTAH']"
      ]
     },
     "execution_count": 289,
     "metadata": {},
     "output_type": "execute_result"
    }
   ],
   "source": [
    "starters.starter_fetcher(starting_lineup, schedule_curr_team_converter('UTAH_JAZZ'))"
   ]
  },
  {
   "cell_type": "code",
   "execution_count": 292,
   "metadata": {},
   "outputs": [],
   "source": [
    "todays_starters = starters.starter_fetcher(starting_lineup,'UTAH')"
   ]
  },
  {
   "cell_type": "code",
   "execution_count": 294,
   "metadata": {},
   "outputs": [
    {
     "data": {
      "text/plain": [
       "['Mike Conley']"
      ]
     },
     "execution_count": 294,
     "metadata": {},
     "output_type": "execute_result"
    }
   ],
   "source": [
    "lineup_name_converter(todays_starters[0])"
   ]
  },
  {
   "cell_type": "code",
   "execution_count": 20,
   "metadata": {},
   "outputs": [
    {
     "data": {
      "text/plain": [
       "['Dean Wade']"
      ]
     },
     "execution_count": 20,
     "metadata": {},
     "output_type": "execute_result"
    }
   ],
   "source": [
    "lineup_name_converter('D. Wade')"
   ]
  },
  {
   "cell_type": "code",
   "execution_count": null,
   "metadata": {},
   "outputs": [],
   "source": []
  }
 ],
 "metadata": {
  "kernelspec": {
   "display_name": "Python 3",
   "language": "python",
   "name": "python3"
  },
  "language_info": {
   "codemirror_mode": {
    "name": "ipython",
    "version": 3
   },
   "file_extension": ".py",
   "mimetype": "text/x-python",
   "name": "python",
   "nbconvert_exporter": "python",
   "pygments_lexer": "ipython3",
   "version": "3.7.3"
  }
 },
 "nbformat": 4,
 "nbformat_minor": 4
}
