{
 "cells": [
  {
   "cell_type": "markdown",
   "metadata": {},
   "source": [
    "# **Compile Training Set**"
   ]
  },
  {
   "cell_type": "code",
   "execution_count": 4,
   "metadata": {},
   "outputs": [],
   "source": [
    "import pandas as pd\n",
    "from datetime import *"
   ]
  },
  {
   "cell_type": "code",
   "execution_count": 41,
   "metadata": {},
   "outputs": [],
   "source": [
    "import sys\n",
    "sys.path.insert(1, '../Scripts') #path\n",
    "\n",
    "from schedule_to_slugs import *\n",
    "from game_match import *"
   ]
  },
  {
   "cell_type": "code",
   "execution_count": 67,
   "metadata": {},
   "outputs": [],
   "source": [
    "import seaborn as sns\n",
    "import matplotlib\n",
    "import matplotlib.pyplot as plt\n",
    "%matplotlib inline"
   ]
  },
  {
   "cell_type": "code",
   "execution_count": 89,
   "metadata": {},
   "outputs": [],
   "source": [
    "encoded_box_scores = pd.read_csv('../Resources/encoded_box_scores.csv')\n",
    "advanced_stats = pd.read_csv('../Resources/adv_stats_all_slug.csv')\n",
    "usage_stats = pd.read_csv('../Resources/all_usage_clean.csv')"
   ]
  },
  {
   "cell_type": "code",
   "execution_count": 109,
   "metadata": {},
   "outputs": [
    {
     "data": {
      "text/plain": [
       "Index(['Unnamed: 0', 'slug', 'name', 'Team', 'Location', 'Opponent', 'Outcome',\n",
       "       'seconds_played', 'made_field_goals', 'attempted_field_goals',\n",
       "       'made_three_point_field_goals', 'attempted_three_point_field_goals',\n",
       "       'made_free_throws', 'attempted_free_throws', 'offensive_rebounds',\n",
       "       'defensive_rebounds', 'assists', 'steals', 'blocks', 'turnovers',\n",
       "       'personal_fouls', 'game_score', 'date', 'game_id', 'spread'],\n",
       "      dtype='object')"
      ]
     },
     "execution_count": 109,
     "metadata": {},
     "output_type": "execute_result"
    }
   ],
   "source": [
    "encoded_box_scores.columns"
   ]
  },
  {
   "cell_type": "code",
   "execution_count": 110,
   "metadata": {},
   "outputs": [
    {
     "data": {
      "text/plain": [
       "15"
      ]
     },
     "execution_count": 110,
     "metadata": {},
     "output_type": "execute_result"
    }
   ],
   "source": [
    "head_to_head_cols = ['seconds_played', 'made_field_goals', 'attempted_field_goals',\n",
    "       'made_three_point_field_goals', 'attempted_three_point_field_goals',\n",
    "       'made_free_throws', 'attempted_free_throws', 'offensive_rebounds',\n",
    "       'defensive_rebounds', 'assists', 'steals', 'blocks', 'turnovers',\n",
    "       'personal_fouls', 'game_score']\n",
    "len(head_to_head_cols)"
   ]
  },
  {
   "cell_type": "markdown",
   "metadata": {},
   "source": [
    "## Function to convert date to past season's year"
   ]
  },
  {
   "cell_type": "code",
   "execution_count": 38,
   "metadata": {},
   "outputs": [],
   "source": [
    "def date_to_season(date):\n",
    "    date = pd.to_datetime(date)\n",
    "    if date.month <7:\n",
    "        return date.year-1\n",
    "    else:\n",
    "        return date.year"
   ]
  },
  {
   "cell_type": "code",
   "execution_count": 40,
   "metadata": {},
   "outputs": [
    {
     "data": {
      "text/plain": [
       "2014"
      ]
     },
     "execution_count": 40,
     "metadata": {},
     "output_type": "execute_result"
    }
   ],
   "source": [
    "date_to_season('2014-12-01')"
   ]
  },
  {
   "cell_type": "markdown",
   "metadata": {},
   "source": [
    "## Making the target vector"
   ]
  },
  {
   "cell_type": "code",
   "execution_count": 36,
   "metadata": {},
   "outputs": [
    {
     "name": "stdout",
     "output_type": "stream",
     "text": [
      "7400\n",
      "7799\n",
      "7882\n",
      "9111\n",
      "9215\n",
      "9912\n"
     ]
    }
   ],
   "source": [
    "set1 = [i for i in range(7400,7800)]\n",
    "print(set1[0])\n",
    "print(set1[-1])\n",
    "set2 = [i for i in range(7882,9112)]\n",
    "print(set2[0])\n",
    "print(set2[-1])\n",
    "set3 = [i for i in range(9215,9913)]\n",
    "print(set3[0])\n",
    "print(set3[-1])\n"
   ]
  },
  {
   "cell_type": "code",
   "execution_count": 37,
   "metadata": {},
   "outputs": [
    {
     "name": "stdout",
     "output_type": "stream",
     "text": [
      "7400 7882 9912\n"
     ]
    }
   ],
   "source": [
    "game_ids = set1+set2+set3\n",
    "print(game_ids[0],game_ids[400],game_ids[-1])"
   ]
  },
  {
   "cell_type": "code",
   "execution_count": 43,
   "metadata": {},
   "outputs": [
    {
     "data": {
      "text/plain": [
       "2328"
      ]
     },
     "execution_count": 43,
     "metadata": {},
     "output_type": "execute_result"
    }
   ],
   "source": [
    "len(game_ids)"
   ]
  },
  {
   "cell_type": "code",
   "execution_count": 212,
   "metadata": {},
   "outputs": [
    {
     "data": {
      "text/html": [
       "<div>\n",
       "<style scoped>\n",
       "    .dataframe tbody tr th:only-of-type {\n",
       "        vertical-align: middle;\n",
       "    }\n",
       "\n",
       "    .dataframe tbody tr th {\n",
       "        vertical-align: top;\n",
       "    }\n",
       "\n",
       "    .dataframe thead th {\n",
       "        text-align: right;\n",
       "    }\n",
       "</style>\n",
       "<table border=\"1\" class=\"dataframe\">\n",
       "  <thead>\n",
       "    <tr style=\"text-align: right;\">\n",
       "      <th></th>\n",
       "      <th>Unnamed: 0</th>\n",
       "      <th>date</th>\n",
       "      <th>Team</th>\n",
       "      <th>Player1</th>\n",
       "      <th>Player2</th>\n",
       "      <th>Player3</th>\n",
       "      <th>Player4</th>\n",
       "      <th>Player5</th>\n",
       "      <th>game_id</th>\n",
       "      <th>Location</th>\n",
       "      <th>Outcome</th>\n",
       "      <th>spread</th>\n",
       "    </tr>\n",
       "  </thead>\n",
       "  <tbody>\n",
       "    <tr>\n",
       "      <th>13051</th>\n",
       "      <td>14021</td>\n",
       "      <td>2018-02-11</td>\n",
       "      <td>TOR</td>\n",
       "      <td>O. Anunoby</td>\n",
       "      <td>D. DeRozan</td>\n",
       "      <td>S. Ibaka</td>\n",
       "      <td>K. Lowry</td>\n",
       "      <td>J. Valančiūnas</td>\n",
       "      <td>7401</td>\n",
       "      <td>AWAY</td>\n",
       "      <td>WIN</td>\n",
       "      <td>20.0</td>\n",
       "    </tr>\n",
       "    <tr>\n",
       "      <th>13055</th>\n",
       "      <td>17152</td>\n",
       "      <td>2018-02-11</td>\n",
       "      <td>CHO</td>\n",
       "      <td>N. Batum</td>\n",
       "      <td>D. Howard</td>\n",
       "      <td>M. Kidd-Gilchrist</td>\n",
       "      <td>K. Walker</td>\n",
       "      <td>M. Williams</td>\n",
       "      <td>7401</td>\n",
       "      <td>HOME</td>\n",
       "      <td>LOSS</td>\n",
       "      <td>20.0</td>\n",
       "    </tr>\n",
       "  </tbody>\n",
       "</table>\n",
       "</div>"
      ],
      "text/plain": [
       "       Unnamed: 0        date Team     Player1     Player2            Player3  \\\n",
       "13051       14021  2018-02-11  TOR  O. Anunoby  D. DeRozan           S. Ibaka   \n",
       "13055       17152  2018-02-11  CHO    N. Batum   D. Howard  M. Kidd-Gilchrist   \n",
       "\n",
       "         Player4         Player5  game_id Location Outcome  spread  \n",
       "13051   K. Lowry  J. Valančiūnas     7401     AWAY     WIN    20.0  \n",
       "13055  K. Walker     M. Williams     7401     HOME    LOSS    20.0  "
      ]
     },
     "execution_count": 212,
     "metadata": {},
     "output_type": "execute_result"
    }
   ],
   "source": [
    "schedule_lineup[schedule_lineup.game_id==7401]"
   ]
  },
  {
   "cell_type": "code",
   "execution_count": 197,
   "metadata": {},
   "outputs": [],
   "source": [
    "def outcome_finder(game_id):\n",
    "    outcome = schedule_lineup[(schedule_lineup.game_id==game_id) & (schedule_lineup.Location=='HOME')].iat[0,10]\n",
    "    return outcome"
   ]
  },
  {
   "cell_type": "code",
   "execution_count": 198,
   "metadata": {},
   "outputs": [
    {
     "data": {
      "text/plain": [
       "'WIN'"
      ]
     },
     "execution_count": 198,
     "metadata": {},
     "output_type": "execute_result"
    }
   ],
   "source": [
    "outcome_finder(3803)"
   ]
  },
  {
   "cell_type": "code",
   "execution_count": 209,
   "metadata": {},
   "outputs": [],
   "source": [
    "outcomes = [outcome_finder(game_id) for game_id in game_ids]"
   ]
  },
  {
   "cell_type": "code",
   "execution_count": 210,
   "metadata": {},
   "outputs": [
    {
     "data": {
      "text/html": [
       "<div>\n",
       "<style scoped>\n",
       "    .dataframe tbody tr th:only-of-type {\n",
       "        vertical-align: middle;\n",
       "    }\n",
       "\n",
       "    .dataframe tbody tr th {\n",
       "        vertical-align: top;\n",
       "    }\n",
       "\n",
       "    .dataframe thead th {\n",
       "        text-align: right;\n",
       "    }\n",
       "</style>\n",
       "<table border=\"1\" class=\"dataframe\">\n",
       "  <thead>\n",
       "    <tr style=\"text-align: right;\">\n",
       "      <th></th>\n",
       "      <th>game_id</th>\n",
       "      <th>outcomes</th>\n",
       "    </tr>\n",
       "  </thead>\n",
       "  <tbody>\n",
       "    <tr>\n",
       "      <th>0</th>\n",
       "      <td>7400</td>\n",
       "      <td>LOSS</td>\n",
       "    </tr>\n",
       "    <tr>\n",
       "      <th>1</th>\n",
       "      <td>7401</td>\n",
       "      <td>LOSS</td>\n",
       "    </tr>\n",
       "  </tbody>\n",
       "</table>\n",
       "</div>"
      ],
      "text/plain": [
       "   game_id outcomes\n",
       "0     7400     LOSS\n",
       "1     7401     LOSS"
      ]
     },
     "execution_count": 210,
     "metadata": {},
     "output_type": "execute_result"
    }
   ],
   "source": [
    "target_df = pd.DataFrame(list(zip(game_ids,outcomes)), columns=['game_id','outcomes'])\n",
    "target_df.head(2)"
   ]
  },
  {
   "cell_type": "code",
   "execution_count": 213,
   "metadata": {},
   "outputs": [],
   "source": [
    "target_df.to_csv('../Resources/training_data_target.csv')"
   ]
  },
  {
   "cell_type": "markdown",
   "metadata": {},
   "source": [
    "# Get ```adv_stats``` "
   ]
  },
  {
   "cell_type": "code",
   "execution_count": 42,
   "metadata": {},
   "outputs": [],
   "source": [
    "lineups = [home_lineup_slugs(game_id) for game_id in game_ids]"
   ]
  },
  {
   "cell_type": "code",
   "execution_count": 44,
   "metadata": {},
   "outputs": [
    {
     "data": {
      "text/plain": [
       "2328"
      ]
     },
     "execution_count": 44,
     "metadata": {},
     "output_type": "execute_result"
    }
   ],
   "source": [
    "len(lineups)"
   ]
  },
  {
   "cell_type": "code",
   "execution_count": 45,
   "metadata": {},
   "outputs": [
    {
     "data": {
      "text/plain": [
       "[['bendedr01', 'danietr01', 'jacksjo02', 'paytoel01', 'warretj01'],\n",
       " ['batumni01', 'howardw01', 'kiddgmi01', 'walkeke02', 'willima02'],\n",
       " ['bazemke01', 'dedmode01', 'ilyaser01', 'schrode01', 'princta02']]"
      ]
     },
     "execution_count": 45,
     "metadata": {},
     "output_type": "execute_result"
    }
   ],
   "source": [
    "lineups[:3]"
   ]
  },
  {
   "cell_type": "code",
   "execution_count": 46,
   "metadata": {},
   "outputs": [
    {
     "data": {
      "text/plain": [
       "['bendedr01', 'danietr01', 'jacksjo02', 'paytoel01', 'warretj01']"
      ]
     },
     "execution_count": 46,
     "metadata": {},
     "output_type": "execute_result"
    }
   ],
   "source": [
    "home_lineup_slugs(7400)"
   ]
  },
  {
   "cell_type": "code",
   "execution_count": 47,
   "metadata": {},
   "outputs": [],
   "source": [
    "flattened_lineups = [y for x in lineups for y in x]\n",
    "#y for x in list_of_lists for y in x"
   ]
  },
  {
   "cell_type": "code",
   "execution_count": 48,
   "metadata": {},
   "outputs": [
    {
     "data": {
      "text/plain": [
       "['bendedr01',\n",
       " 'danietr01',\n",
       " 'jacksjo02',\n",
       " 'paytoel01',\n",
       " 'warretj01',\n",
       " 'batumni01',\n",
       " 'howardw01',\n",
       " 'kiddgmi01',\n",
       " 'walkeke02',\n",
       " 'willima02',\n",
       " 'bazemke01',\n",
       " 'dedmode01',\n",
       " 'ilyaser01',\n",
       " 'schrode01',\n",
       " 'princta02']"
      ]
     },
     "execution_count": 48,
     "metadata": {},
     "output_type": "execute_result"
    }
   ],
   "source": [
    "flattened_lineups[:15]"
   ]
  },
  {
   "cell_type": "code",
   "execution_count": 49,
   "metadata": {},
   "outputs": [
    {
     "data": {
      "text/plain": [
       "11640"
      ]
     },
     "execution_count": 49,
     "metadata": {},
     "output_type": "execute_result"
    }
   ],
   "source": [
    "len(flattened_lineups)"
   ]
  },
  {
   "cell_type": "code",
   "execution_count": 59,
   "metadata": {},
   "outputs": [],
   "source": [
    "dates_of_games = [get_date(game_id) for game_id in game_ids]"
   ]
  },
  {
   "cell_type": "code",
   "execution_count": 79,
   "metadata": {},
   "outputs": [],
   "source": [
    "season_year = [date_to_season(date) for date in dates_of_games]"
   ]
  },
  {
   "cell_type": "code",
   "execution_count": 80,
   "metadata": {},
   "outputs": [],
   "source": [
    "from itertools import repeat"
   ]
  },
  {
   "cell_type": "code",
   "execution_count": 82,
   "metadata": {},
   "outputs": [],
   "source": [
    "season_year_expanded = [x for year in season_year for x in repeat(year, 5)]"
   ]
  },
  {
   "cell_type": "code",
   "execution_count": 84,
   "metadata": {},
   "outputs": [
    {
     "data": {
      "text/plain": [
       "11640"
      ]
     },
     "execution_count": 84,
     "metadata": {},
     "output_type": "execute_result"
    }
   ],
   "source": [
    "len(season_year_expanded)"
   ]
  },
  {
   "cell_type": "code",
   "execution_count": 91,
   "metadata": {},
   "outputs": [],
   "source": [
    "players_years = pd.DataFrame(list(zip(flattened_lineups,season_year_expanded)), columns = ['slug','Year'])"
   ]
  },
  {
   "cell_type": "code",
   "execution_count": 92,
   "metadata": {},
   "outputs": [
    {
     "data": {
      "text/html": [
       "<div>\n",
       "<style scoped>\n",
       "    .dataframe tbody tr th:only-of-type {\n",
       "        vertical-align: middle;\n",
       "    }\n",
       "\n",
       "    .dataframe tbody tr th {\n",
       "        vertical-align: top;\n",
       "    }\n",
       "\n",
       "    .dataframe thead th {\n",
       "        text-align: right;\n",
       "    }\n",
       "</style>\n",
       "<table border=\"1\" class=\"dataframe\">\n",
       "  <thead>\n",
       "    <tr style=\"text-align: right;\">\n",
       "      <th></th>\n",
       "      <th>slug</th>\n",
       "      <th>Year</th>\n",
       "    </tr>\n",
       "  </thead>\n",
       "  <tbody>\n",
       "    <tr>\n",
       "      <th>0</th>\n",
       "      <td>bendedr01</td>\n",
       "      <td>2017</td>\n",
       "    </tr>\n",
       "    <tr>\n",
       "      <th>1</th>\n",
       "      <td>danietr01</td>\n",
       "      <td>2017</td>\n",
       "    </tr>\n",
       "    <tr>\n",
       "      <th>2</th>\n",
       "      <td>jacksjo02</td>\n",
       "      <td>2017</td>\n",
       "    </tr>\n",
       "    <tr>\n",
       "      <th>3</th>\n",
       "      <td>paytoel01</td>\n",
       "      <td>2017</td>\n",
       "    </tr>\n",
       "    <tr>\n",
       "      <th>4</th>\n",
       "      <td>warretj01</td>\n",
       "      <td>2017</td>\n",
       "    </tr>\n",
       "  </tbody>\n",
       "</table>\n",
       "</div>"
      ],
      "text/plain": [
       "        slug  Year\n",
       "0  bendedr01  2017\n",
       "1  danietr01  2017\n",
       "2  jacksjo02  2017\n",
       "3  paytoel01  2017\n",
       "4  warretj01  2017"
      ]
     },
     "execution_count": 92,
     "metadata": {},
     "output_type": "execute_result"
    }
   ],
   "source": [
    "players_years.head()"
   ]
  },
  {
   "cell_type": "code",
   "execution_count": 94,
   "metadata": {},
   "outputs": [
    {
     "data": {
      "text/html": [
       "<div>\n",
       "<style scoped>\n",
       "    .dataframe tbody tr th:only-of-type {\n",
       "        vertical-align: middle;\n",
       "    }\n",
       "\n",
       "    .dataframe tbody tr th {\n",
       "        vertical-align: top;\n",
       "    }\n",
       "\n",
       "    .dataframe thead th {\n",
       "        text-align: right;\n",
       "    }\n",
       "</style>\n",
       "<table border=\"1\" class=\"dataframe\">\n",
       "  <thead>\n",
       "    <tr style=\"text-align: right;\">\n",
       "      <th></th>\n",
       "      <th>Unnamed: 0</th>\n",
       "      <th>Player</th>\n",
       "      <th>Pos</th>\n",
       "      <th>Age</th>\n",
       "      <th>Tm</th>\n",
       "      <th>G</th>\n",
       "      <th>MP</th>\n",
       "      <th>PER</th>\n",
       "      <th>TS%</th>\n",
       "      <th>3PAr</th>\n",
       "      <th>...</th>\n",
       "      <th>USG%</th>\n",
       "      <th>OWS</th>\n",
       "      <th>DWS</th>\n",
       "      <th>WS</th>\n",
       "      <th>WS/48</th>\n",
       "      <th>OBPM</th>\n",
       "      <th>BPM</th>\n",
       "      <th>VORP</th>\n",
       "      <th>Year</th>\n",
       "      <th>slug</th>\n",
       "    </tr>\n",
       "  </thead>\n",
       "  <tbody>\n",
       "    <tr>\n",
       "      <th>0</th>\n",
       "      <td>0</td>\n",
       "      <td>Quincy Acy</td>\n",
       "      <td>PF</td>\n",
       "      <td>22</td>\n",
       "      <td>TOR</td>\n",
       "      <td>29</td>\n",
       "      <td>342</td>\n",
       "      <td>15.9</td>\n",
       "      <td>0.632</td>\n",
       "      <td>0.027</td>\n",
       "      <td>...</td>\n",
       "      <td>14.7</td>\n",
       "      <td>0.7</td>\n",
       "      <td>0.4</td>\n",
       "      <td>1.1</td>\n",
       "      <td>0.157</td>\n",
       "      <td>-0.6</td>\n",
       "      <td>0.7</td>\n",
       "      <td>0.2</td>\n",
       "      <td>2013</td>\n",
       "      <td>acyqu01</td>\n",
       "    </tr>\n",
       "    <tr>\n",
       "      <th>1</th>\n",
       "      <td>1</td>\n",
       "      <td>Jeff Adrien</td>\n",
       "      <td>PF</td>\n",
       "      <td>26</td>\n",
       "      <td>CHA</td>\n",
       "      <td>52</td>\n",
       "      <td>713</td>\n",
       "      <td>13.4</td>\n",
       "      <td>0.493</td>\n",
       "      <td>0.012</td>\n",
       "      <td>...</td>\n",
       "      <td>15.6</td>\n",
       "      <td>0.5</td>\n",
       "      <td>0.4</td>\n",
       "      <td>1.0</td>\n",
       "      <td>0.064</td>\n",
       "      <td>-3.0</td>\n",
       "      <td>-3.3</td>\n",
       "      <td>-0.2</td>\n",
       "      <td>2013</td>\n",
       "      <td>adrieje01</td>\n",
       "    </tr>\n",
       "  </tbody>\n",
       "</table>\n",
       "<p>2 rows × 28 columns</p>\n",
       "</div>"
      ],
      "text/plain": [
       "   Unnamed: 0       Player Pos  Age   Tm   G   MP   PER    TS%   3PAr  ...  \\\n",
       "0           0   Quincy Acy  PF   22  TOR  29  342  15.9  0.632  0.027  ...   \n",
       "1           1  Jeff Adrien  PF   26  CHA  52  713  13.4  0.493  0.012  ...   \n",
       "\n",
       "   USG%  OWS  DWS   WS  WS/48  OBPM  BPM  VORP  Year       slug  \n",
       "0  14.7  0.7  0.4  1.1  0.157  -0.6  0.7   0.2  2013    acyqu01  \n",
       "1  15.6  0.5  0.4  1.0  0.064  -3.0 -3.3  -0.2  2013  adrieje01  \n",
       "\n",
       "[2 rows x 28 columns]"
      ]
     },
     "execution_count": 94,
     "metadata": {},
     "output_type": "execute_result"
    }
   ],
   "source": [
    "advanced_stats.head(2)"
   ]
  },
  {
   "cell_type": "code",
   "execution_count": 96,
   "metadata": {},
   "outputs": [],
   "source": [
    "adv_stats = advanced_stats.copy()\n",
    "adv_stats = adv_stats.drop(adv_stats.columns[:3],axis=1)"
   ]
  },
  {
   "cell_type": "code",
   "execution_count": 98,
   "metadata": {},
   "outputs": [],
   "source": [
    "adv_stats.drop(columns = ['Tm'], inplace= True)"
   ]
  },
  {
   "cell_type": "code",
   "execution_count": 99,
   "metadata": {},
   "outputs": [
    {
     "name": "stdout",
     "output_type": "stream",
     "text": [
      "11640\n"
     ]
    },
    {
     "data": {
      "text/html": [
       "<div>\n",
       "<style scoped>\n",
       "    .dataframe tbody tr th:only-of-type {\n",
       "        vertical-align: middle;\n",
       "    }\n",
       "\n",
       "    .dataframe tbody tr th {\n",
       "        vertical-align: top;\n",
       "    }\n",
       "\n",
       "    .dataframe thead th {\n",
       "        text-align: right;\n",
       "    }\n",
       "</style>\n",
       "<table border=\"1\" class=\"dataframe\">\n",
       "  <thead>\n",
       "    <tr style=\"text-align: right;\">\n",
       "      <th></th>\n",
       "      <th>slug</th>\n",
       "      <th>Year</th>\n",
       "      <th>Age</th>\n",
       "      <th>G</th>\n",
       "      <th>MP</th>\n",
       "      <th>PER</th>\n",
       "      <th>TS%</th>\n",
       "      <th>3PAr</th>\n",
       "      <th>FTr</th>\n",
       "      <th>ORB%</th>\n",
       "      <th>...</th>\n",
       "      <th>BLK%</th>\n",
       "      <th>TOV%</th>\n",
       "      <th>USG%</th>\n",
       "      <th>OWS</th>\n",
       "      <th>DWS</th>\n",
       "      <th>WS</th>\n",
       "      <th>WS/48</th>\n",
       "      <th>OBPM</th>\n",
       "      <th>BPM</th>\n",
       "      <th>VORP</th>\n",
       "    </tr>\n",
       "  </thead>\n",
       "  <tbody>\n",
       "    <tr>\n",
       "      <th>0</th>\n",
       "      <td>bendedr01</td>\n",
       "      <td>2017</td>\n",
       "      <td>19.0</td>\n",
       "      <td>43.0</td>\n",
       "      <td>574.0</td>\n",
       "      <td>5.3</td>\n",
       "      <td>0.440</td>\n",
       "      <td>0.627</td>\n",
       "      <td>0.068</td>\n",
       "      <td>4.2</td>\n",
       "      <td>...</td>\n",
       "      <td>3.1</td>\n",
       "      <td>16.2</td>\n",
       "      <td>14.4</td>\n",
       "      <td>-0.7</td>\n",
       "      <td>0.3</td>\n",
       "      <td>-0.3</td>\n",
       "      <td>-0.029</td>\n",
       "      <td>-4.0</td>\n",
       "      <td>-4.3</td>\n",
       "      <td>-0.3</td>\n",
       "    </tr>\n",
       "    <tr>\n",
       "      <th>1</th>\n",
       "      <td>danietr01</td>\n",
       "      <td>2017</td>\n",
       "      <td>25.0</td>\n",
       "      <td>67.0</td>\n",
       "      <td>1183.0</td>\n",
       "      <td>10.4</td>\n",
       "      <td>0.531</td>\n",
       "      <td>0.717</td>\n",
       "      <td>0.109</td>\n",
       "      <td>2.1</td>\n",
       "      <td>...</td>\n",
       "      <td>0.3</td>\n",
       "      <td>8.0</td>\n",
       "      <td>21.7</td>\n",
       "      <td>0.5</td>\n",
       "      <td>0.8</td>\n",
       "      <td>1.3</td>\n",
       "      <td>0.051</td>\n",
       "      <td>0.4</td>\n",
       "      <td>-3.1</td>\n",
       "      <td>-0.3</td>\n",
       "    </tr>\n",
       "    <tr>\n",
       "      <th>2</th>\n",
       "      <td>jacksjo02</td>\n",
       "      <td>2017</td>\n",
       "      <td>NaN</td>\n",
       "      <td>NaN</td>\n",
       "      <td>NaN</td>\n",
       "      <td>NaN</td>\n",
       "      <td>NaN</td>\n",
       "      <td>NaN</td>\n",
       "      <td>NaN</td>\n",
       "      <td>NaN</td>\n",
       "      <td>...</td>\n",
       "      <td>NaN</td>\n",
       "      <td>NaN</td>\n",
       "      <td>NaN</td>\n",
       "      <td>NaN</td>\n",
       "      <td>NaN</td>\n",
       "      <td>NaN</td>\n",
       "      <td>NaN</td>\n",
       "      <td>NaN</td>\n",
       "      <td>NaN</td>\n",
       "      <td>NaN</td>\n",
       "    </tr>\n",
       "    <tr>\n",
       "      <th>3</th>\n",
       "      <td>paytoel01</td>\n",
       "      <td>2017</td>\n",
       "      <td>22.0</td>\n",
       "      <td>82.0</td>\n",
       "      <td>2412.0</td>\n",
       "      <td>17.2</td>\n",
       "      <td>0.520</td>\n",
       "      <td>0.160</td>\n",
       "      <td>0.231</td>\n",
       "      <td>3.9</td>\n",
       "      <td>...</td>\n",
       "      <td>1.3</td>\n",
       "      <td>15.0</td>\n",
       "      <td>21.6</td>\n",
       "      <td>2.4</td>\n",
       "      <td>2.0</td>\n",
       "      <td>4.4</td>\n",
       "      <td>0.088</td>\n",
       "      <td>0.7</td>\n",
       "      <td>0.9</td>\n",
       "      <td>1.7</td>\n",
       "    </tr>\n",
       "    <tr>\n",
       "      <th>4</th>\n",
       "      <td>warretj01</td>\n",
       "      <td>2017</td>\n",
       "      <td>23.0</td>\n",
       "      <td>66.0</td>\n",
       "      <td>2048.0</td>\n",
       "      <td>15.6</td>\n",
       "      <td>0.539</td>\n",
       "      <td>0.120</td>\n",
       "      <td>0.189</td>\n",
       "      <td>6.5</td>\n",
       "      <td>...</td>\n",
       "      <td>1.5</td>\n",
       "      <td>6.1</td>\n",
       "      <td>19.2</td>\n",
       "      <td>3.0</td>\n",
       "      <td>1.1</td>\n",
       "      <td>4.1</td>\n",
       "      <td>0.096</td>\n",
       "      <td>0.2</td>\n",
       "      <td>-0.3</td>\n",
       "      <td>0.9</td>\n",
       "    </tr>\n",
       "  </tbody>\n",
       "</table>\n",
       "<p>5 rows × 24 columns</p>\n",
       "</div>"
      ],
      "text/plain": [
       "        slug  Year   Age     G      MP   PER    TS%   3PAr    FTr  ORB%  ...  \\\n",
       "0  bendedr01  2017  19.0  43.0   574.0   5.3  0.440  0.627  0.068   4.2  ...   \n",
       "1  danietr01  2017  25.0  67.0  1183.0  10.4  0.531  0.717  0.109   2.1  ...   \n",
       "2  jacksjo02  2017   NaN   NaN     NaN   NaN    NaN    NaN    NaN   NaN  ...   \n",
       "3  paytoel01  2017  22.0  82.0  2412.0  17.2  0.520  0.160  0.231   3.9  ...   \n",
       "4  warretj01  2017  23.0  66.0  2048.0  15.6  0.539  0.120  0.189   6.5  ...   \n",
       "\n",
       "   BLK%  TOV%  USG%  OWS  DWS   WS  WS/48  OBPM  BPM  VORP  \n",
       "0   3.1  16.2  14.4 -0.7  0.3 -0.3 -0.029  -4.0 -4.3  -0.3  \n",
       "1   0.3   8.0  21.7  0.5  0.8  1.3  0.051   0.4 -3.1  -0.3  \n",
       "2   NaN   NaN   NaN  NaN  NaN  NaN    NaN   NaN  NaN   NaN  \n",
       "3   1.3  15.0  21.6  2.4  2.0  4.4  0.088   0.7  0.9   1.7  \n",
       "4   1.5   6.1  19.2  3.0  1.1  4.1  0.096   0.2 -0.3   0.9  \n",
       "\n",
       "[5 rows x 24 columns]"
      ]
     },
     "execution_count": 99,
     "metadata": {},
     "output_type": "execute_result"
    }
   ],
   "source": [
    "advanced_stats_lineup = pd.merge(players_years,adv_stats,on=['slug','Year'], how='left')\n",
    "print(len(advanced_stats_lineup))\n",
    "advanced_stats_lineup.head()"
   ]
  },
  {
   "cell_type": "code",
   "execution_count": 116,
   "metadata": {},
   "outputs": [],
   "source": [
    "advanced_stats.fillna(0,inplace=True)"
   ]
  },
  {
   "cell_type": "markdown",
   "metadata": {},
   "source": [
    "# Get ```all_usage_clean```"
   ]
  },
  {
   "cell_type": "code",
   "execution_count": 103,
   "metadata": {},
   "outputs": [],
   "source": [
    "usage_stats.drop(usage_stats.columns[0], axis=1,inplace=True)"
   ]
  },
  {
   "cell_type": "code",
   "execution_count": 105,
   "metadata": {},
   "outputs": [],
   "source": [
    "usage_stats.drop(columns=['stats_id','player','number'], inplace=True)"
   ]
  },
  {
   "cell_type": "code",
   "execution_count": 107,
   "metadata": {},
   "outputs": [],
   "source": [
    "players_years.columns = ['slug','year']"
   ]
  },
  {
   "cell_type": "code",
   "execution_count": 106,
   "metadata": {},
   "outputs": [
    {
     "data": {
      "text/html": [
       "<div>\n",
       "<style scoped>\n",
       "    .dataframe tbody tr th:only-of-type {\n",
       "        vertical-align: middle;\n",
       "    }\n",
       "\n",
       "    .dataframe tbody tr th {\n",
       "        vertical-align: top;\n",
       "    }\n",
       "\n",
       "    .dataframe thead th {\n",
       "        text-align: right;\n",
       "    }\n",
       "</style>\n",
       "<table border=\"1\" class=\"dataframe\">\n",
       "  <thead>\n",
       "    <tr style=\"text-align: right;\">\n",
       "      <th></th>\n",
       "      <th>GP</th>\n",
       "      <th>MIN</th>\n",
       "      <th>USG%</th>\n",
       "      <th>%FGM</th>\n",
       "      <th>%FGA</th>\n",
       "      <th>%3PM</th>\n",
       "      <th>%3PA</th>\n",
       "      <th>%FTM</th>\n",
       "      <th>%FTA</th>\n",
       "      <th>%OREB</th>\n",
       "      <th>...</th>\n",
       "      <th>%AST</th>\n",
       "      <th>%TOV</th>\n",
       "      <th>%STL</th>\n",
       "      <th>%BLK</th>\n",
       "      <th>%BLKA</th>\n",
       "      <th>%PF</th>\n",
       "      <th>%PFD</th>\n",
       "      <th>%PTS</th>\n",
       "      <th>year</th>\n",
       "      <th>slug</th>\n",
       "    </tr>\n",
       "  </thead>\n",
       "  <tbody>\n",
       "    <tr>\n",
       "      <th>0</th>\n",
       "      <td>9.0</td>\n",
       "      <td>144.0</td>\n",
       "      <td>13.9</td>\n",
       "      <td>14.4</td>\n",
       "      <td>15.7</td>\n",
       "      <td>25.0</td>\n",
       "      <td>31.3</td>\n",
       "      <td>3.6</td>\n",
       "      <td>5.3</td>\n",
       "      <td>3.6</td>\n",
       "      <td>...</td>\n",
       "      <td>13.8</td>\n",
       "      <td>14.8</td>\n",
       "      <td>18.5</td>\n",
       "      <td>0.0</td>\n",
       "      <td>11.1</td>\n",
       "      <td>15.3</td>\n",
       "      <td>0.0</td>\n",
       "      <td>13.4</td>\n",
       "      <td>2002</td>\n",
       "      <td>jacksja02</td>\n",
       "    </tr>\n",
       "    <tr>\n",
       "      <th>1</th>\n",
       "      <td>10.0</td>\n",
       "      <td>126.0</td>\n",
       "      <td>19.9</td>\n",
       "      <td>17.3</td>\n",
       "      <td>21.7</td>\n",
       "      <td>57.9</td>\n",
       "      <td>56.4</td>\n",
       "      <td>3.4</td>\n",
       "      <td>4.9</td>\n",
       "      <td>2.7</td>\n",
       "      <td>...</td>\n",
       "      <td>35.3</td>\n",
       "      <td>34.4</td>\n",
       "      <td>36.0</td>\n",
       "      <td>0.0</td>\n",
       "      <td>0.0</td>\n",
       "      <td>14.0</td>\n",
       "      <td>0.0</td>\n",
       "      <td>17.2</td>\n",
       "      <td>2003</td>\n",
       "      <td>hardati02</td>\n",
       "    </tr>\n",
       "    <tr>\n",
       "      <th>2</th>\n",
       "      <td>68.0</td>\n",
       "      <td>1022.0</td>\n",
       "      <td>18.7</td>\n",
       "      <td>20.3</td>\n",
       "      <td>19.3</td>\n",
       "      <td>0.0</td>\n",
       "      <td>2.6</td>\n",
       "      <td>21.1</td>\n",
       "      <td>21.9</td>\n",
       "      <td>36.6</td>\n",
       "      <td>...</td>\n",
       "      <td>10.2</td>\n",
       "      <td>18.9</td>\n",
       "      <td>9.2</td>\n",
       "      <td>16.8</td>\n",
       "      <td>35.3</td>\n",
       "      <td>26.2</td>\n",
       "      <td>0.0</td>\n",
       "      <td>19.6</td>\n",
       "      <td>2004</td>\n",
       "      <td>trentga02</td>\n",
       "    </tr>\n",
       "    <tr>\n",
       "      <th>3</th>\n",
       "      <td>18.0</td>\n",
       "      <td>261.0</td>\n",
       "      <td>16.3</td>\n",
       "      <td>12.2</td>\n",
       "      <td>17.8</td>\n",
       "      <td>26.3</td>\n",
       "      <td>36.4</td>\n",
       "      <td>14.2</td>\n",
       "      <td>12.2</td>\n",
       "      <td>11.4</td>\n",
       "      <td>...</td>\n",
       "      <td>23.1</td>\n",
       "      <td>13.7</td>\n",
       "      <td>17.1</td>\n",
       "      <td>0.0</td>\n",
       "      <td>7.7</td>\n",
       "      <td>16.3</td>\n",
       "      <td>0.0</td>\n",
       "      <td>13.2</td>\n",
       "      <td>2004</td>\n",
       "      <td>ricegl02</td>\n",
       "    </tr>\n",
       "    <tr>\n",
       "      <th>4</th>\n",
       "      <td>9.0</td>\n",
       "      <td>158.0</td>\n",
       "      <td>26.4</td>\n",
       "      <td>30.9</td>\n",
       "      <td>28.9</td>\n",
       "      <td>11.8</td>\n",
       "      <td>13.0</td>\n",
       "      <td>33.3</td>\n",
       "      <td>29.5</td>\n",
       "      <td>9.3</td>\n",
       "      <td>...</td>\n",
       "      <td>13.1</td>\n",
       "      <td>14.3</td>\n",
       "      <td>18.2</td>\n",
       "      <td>13.0</td>\n",
       "      <td>31.8</td>\n",
       "      <td>26.4</td>\n",
       "      <td>0.0</td>\n",
       "      <td>30.3</td>\n",
       "      <td>2005</td>\n",
       "      <td>robingl02</td>\n",
       "    </tr>\n",
       "  </tbody>\n",
       "</table>\n",
       "<p>5 rows × 22 columns</p>\n",
       "</div>"
      ],
      "text/plain": [
       "     GP     MIN  USG%  %FGM  %FGA  %3PM  %3PA  %FTM  %FTA  %OREB  ...  %AST  \\\n",
       "0   9.0   144.0  13.9  14.4  15.7  25.0  31.3   3.6   5.3    3.6  ...  13.8   \n",
       "1  10.0   126.0  19.9  17.3  21.7  57.9  56.4   3.4   4.9    2.7  ...  35.3   \n",
       "2  68.0  1022.0  18.7  20.3  19.3   0.0   2.6  21.1  21.9   36.6  ...  10.2   \n",
       "3  18.0   261.0  16.3  12.2  17.8  26.3  36.4  14.2  12.2   11.4  ...  23.1   \n",
       "4   9.0   158.0  26.4  30.9  28.9  11.8  13.0  33.3  29.5    9.3  ...  13.1   \n",
       "\n",
       "   %TOV  %STL  %BLK  %BLKA   %PF  %PFD  %PTS  year       slug  \n",
       "0  14.8  18.5   0.0   11.1  15.3   0.0  13.4  2002  jacksja02  \n",
       "1  34.4  36.0   0.0    0.0  14.0   0.0  17.2  2003  hardati02  \n",
       "2  18.9   9.2  16.8   35.3  26.2   0.0  19.6  2004  trentga02  \n",
       "3  13.7  17.1   0.0    7.7  16.3   0.0  13.2  2004   ricegl02  \n",
       "4  14.3  18.2  13.0   31.8  26.4   0.0  30.3  2005  robingl02  \n",
       "\n",
       "[5 rows x 22 columns]"
      ]
     },
     "execution_count": 106,
     "metadata": {},
     "output_type": "execute_result"
    }
   ],
   "source": [
    "usage_stats.head()"
   ]
  },
  {
   "cell_type": "code",
   "execution_count": 108,
   "metadata": {},
   "outputs": [
    {
     "data": {
      "text/html": [
       "<div>\n",
       "<style scoped>\n",
       "    .dataframe tbody tr th:only-of-type {\n",
       "        vertical-align: middle;\n",
       "    }\n",
       "\n",
       "    .dataframe tbody tr th {\n",
       "        vertical-align: top;\n",
       "    }\n",
       "\n",
       "    .dataframe thead th {\n",
       "        text-align: right;\n",
       "    }\n",
       "</style>\n",
       "<table border=\"1\" class=\"dataframe\">\n",
       "  <thead>\n",
       "    <tr style=\"text-align: right;\">\n",
       "      <th></th>\n",
       "      <th>slug</th>\n",
       "      <th>year</th>\n",
       "      <th>GP</th>\n",
       "      <th>MIN</th>\n",
       "      <th>USG%</th>\n",
       "      <th>%FGM</th>\n",
       "      <th>%FGA</th>\n",
       "      <th>%3PM</th>\n",
       "      <th>%3PA</th>\n",
       "      <th>%FTM</th>\n",
       "      <th>...</th>\n",
       "      <th>%DREB</th>\n",
       "      <th>%REB</th>\n",
       "      <th>%AST</th>\n",
       "      <th>%TOV</th>\n",
       "      <th>%STL</th>\n",
       "      <th>%BLK</th>\n",
       "      <th>%BLKA</th>\n",
       "      <th>%PF</th>\n",
       "      <th>%PFD</th>\n",
       "      <th>%PTS</th>\n",
       "    </tr>\n",
       "  </thead>\n",
       "  <tbody>\n",
       "    <tr>\n",
       "      <th>0</th>\n",
       "      <td>bendedr01</td>\n",
       "      <td>2017</td>\n",
       "      <td>43.0</td>\n",
       "      <td>574.0</td>\n",
       "      <td>14.5</td>\n",
       "      <td>12.3</td>\n",
       "      <td>15.6</td>\n",
       "      <td>27.2</td>\n",
       "      <td>32.9</td>\n",
       "      <td>1.8</td>\n",
       "      <td>...</td>\n",
       "      <td>20.3</td>\n",
       "      <td>19.4</td>\n",
       "      <td>10.5</td>\n",
       "      <td>18.2</td>\n",
       "      <td>11.9</td>\n",
       "      <td>36.7</td>\n",
       "      <td>4.2</td>\n",
       "      <td>22.8</td>\n",
       "      <td>6.2</td>\n",
       "      <td>11.6</td>\n",
       "    </tr>\n",
       "    <tr>\n",
       "      <th>1</th>\n",
       "      <td>danietr01</td>\n",
       "      <td>2017</td>\n",
       "      <td>67.0</td>\n",
       "      <td>1183.0</td>\n",
       "      <td>20.3</td>\n",
       "      <td>20.7</td>\n",
       "      <td>23.4</td>\n",
       "      <td>50.4</td>\n",
       "      <td>45.8</td>\n",
       "      <td>9.5</td>\n",
       "      <td>...</td>\n",
       "      <td>9.9</td>\n",
       "      <td>9.3</td>\n",
       "      <td>8.9</td>\n",
       "      <td>13.8</td>\n",
       "      <td>11.0</td>\n",
       "      <td>4.1</td>\n",
       "      <td>10.8</td>\n",
       "      <td>15.5</td>\n",
       "      <td>12.5</td>\n",
       "      <td>21.9</td>\n",
       "    </tr>\n",
       "    <tr>\n",
       "      <th>2</th>\n",
       "      <td>jacksjo02</td>\n",
       "      <td>2017</td>\n",
       "      <td>NaN</td>\n",
       "      <td>NaN</td>\n",
       "      <td>NaN</td>\n",
       "      <td>NaN</td>\n",
       "      <td>NaN</td>\n",
       "      <td>NaN</td>\n",
       "      <td>NaN</td>\n",
       "      <td>NaN</td>\n",
       "      <td>...</td>\n",
       "      <td>NaN</td>\n",
       "      <td>NaN</td>\n",
       "      <td>NaN</td>\n",
       "      <td>NaN</td>\n",
       "      <td>NaN</td>\n",
       "      <td>NaN</td>\n",
       "      <td>NaN</td>\n",
       "      <td>NaN</td>\n",
       "      <td>NaN</td>\n",
       "      <td>NaN</td>\n",
       "    </tr>\n",
       "    <tr>\n",
       "      <th>3</th>\n",
       "      <td>paytoel01</td>\n",
       "      <td>2017</td>\n",
       "      <td>82.0</td>\n",
       "      <td>2412.0</td>\n",
       "      <td>21.1</td>\n",
       "      <td>21.1</td>\n",
       "      <td>20.5</td>\n",
       "      <td>10.1</td>\n",
       "      <td>12.3</td>\n",
       "      <td>18.2</td>\n",
       "      <td>...</td>\n",
       "      <td>17.5</td>\n",
       "      <td>17.4</td>\n",
       "      <td>45.1</td>\n",
       "      <td>28.8</td>\n",
       "      <td>23.8</td>\n",
       "      <td>15.5</td>\n",
       "      <td>36.2</td>\n",
       "      <td>18.6</td>\n",
       "      <td>20.9</td>\n",
       "      <td>19.8</td>\n",
       "    </tr>\n",
       "    <tr>\n",
       "      <th>4</th>\n",
       "      <td>warretj01</td>\n",
       "      <td>2017</td>\n",
       "      <td>66.0</td>\n",
       "      <td>2048.0</td>\n",
       "      <td>18.8</td>\n",
       "      <td>23.2</td>\n",
       "      <td>21.3</td>\n",
       "      <td>9.2</td>\n",
       "      <td>10.9</td>\n",
       "      <td>13.1</td>\n",
       "      <td>...</td>\n",
       "      <td>15.3</td>\n",
       "      <td>17.7</td>\n",
       "      <td>8.9</td>\n",
       "      <td>9.2</td>\n",
       "      <td>21.7</td>\n",
       "      <td>18.8</td>\n",
       "      <td>17.1</td>\n",
       "      <td>16.9</td>\n",
       "      <td>12.6</td>\n",
       "      <td>20.4</td>\n",
       "    </tr>\n",
       "  </tbody>\n",
       "</table>\n",
       "<p>5 rows × 22 columns</p>\n",
       "</div>"
      ],
      "text/plain": [
       "        slug  year    GP     MIN  USG%  %FGM  %FGA  %3PM  %3PA  %FTM  ...  \\\n",
       "0  bendedr01  2017  43.0   574.0  14.5  12.3  15.6  27.2  32.9   1.8  ...   \n",
       "1  danietr01  2017  67.0  1183.0  20.3  20.7  23.4  50.4  45.8   9.5  ...   \n",
       "2  jacksjo02  2017   NaN     NaN   NaN   NaN   NaN   NaN   NaN   NaN  ...   \n",
       "3  paytoel01  2017  82.0  2412.0  21.1  21.1  20.5  10.1  12.3  18.2  ...   \n",
       "4  warretj01  2017  66.0  2048.0  18.8  23.2  21.3   9.2  10.9  13.1  ...   \n",
       "\n",
       "   %DREB  %REB  %AST  %TOV  %STL  %BLK  %BLKA   %PF  %PFD  %PTS  \n",
       "0   20.3  19.4  10.5  18.2  11.9  36.7    4.2  22.8   6.2  11.6  \n",
       "1    9.9   9.3   8.9  13.8  11.0   4.1   10.8  15.5  12.5  21.9  \n",
       "2    NaN   NaN   NaN   NaN   NaN   NaN    NaN   NaN   NaN   NaN  \n",
       "3   17.5  17.4  45.1  28.8  23.8  15.5   36.2  18.6  20.9  19.8  \n",
       "4   15.3  17.7   8.9   9.2  21.7  18.8   17.1  16.9  12.6  20.4  \n",
       "\n",
       "[5 rows x 22 columns]"
      ]
     },
     "execution_count": 108,
     "metadata": {},
     "output_type": "execute_result"
    }
   ],
   "source": [
    "usage_lineup = pd.merge(players_years,usage_stats, on=['slug','year'], how='left')\n",
    "len(usage_lineup)\n",
    "usage_lineup.head()"
   ]
  },
  {
   "cell_type": "code",
   "execution_count": 118,
   "metadata": {},
   "outputs": [],
   "source": [
    "usage_lineup.fillna(0, inplace=True)"
   ]
  },
  {
   "cell_type": "markdown",
   "metadata": {},
   "source": [
    "# Get ```game_match``` stats"
   ]
  },
  {
   "cell_type": "code",
   "execution_count": 17,
   "metadata": {},
   "outputs": [],
   "source": [
    "part_1 = pd.read_csv('../Resources/games_7400_7799.csv')\n",
    "part_2 = pd.read_csv('../Resources/games_7882_7899.csv')\n",
    "part_3 = pd.read_csv('../Resources/games_7900-8399.csv')\n",
    "part_4 = pd.read_csv('../Resources/games_8400_8899.csv')\n",
    "part_5 = pd.read_csv('../Resources/games_8900_9111.csv')\n",
    "part_6 = pd.read_csv('../Resources/games_9215_9912.csv')"
   ]
  },
  {
   "cell_type": "code",
   "execution_count": 22,
   "metadata": {},
   "outputs": [
    {
     "data": {
      "text/html": [
       "<div>\n",
       "<style scoped>\n",
       "    .dataframe tbody tr th:only-of-type {\n",
       "        vertical-align: middle;\n",
       "    }\n",
       "\n",
       "    .dataframe tbody tr th {\n",
       "        vertical-align: top;\n",
       "    }\n",
       "\n",
       "    .dataframe thead th {\n",
       "        text-align: right;\n",
       "    }\n",
       "</style>\n",
       "<table border=\"1\" class=\"dataframe\">\n",
       "  <thead>\n",
       "    <tr style=\"text-align: right;\">\n",
       "      <th></th>\n",
       "      <th>Unnamed: 0</th>\n",
       "      <th>0</th>\n",
       "      <th>1</th>\n",
       "      <th>2</th>\n",
       "      <th>3</th>\n",
       "      <th>4</th>\n",
       "      <th>5</th>\n",
       "      <th>6</th>\n",
       "      <th>7</th>\n",
       "      <th>8</th>\n",
       "      <th>...</th>\n",
       "      <th>12</th>\n",
       "      <th>13</th>\n",
       "      <th>14</th>\n",
       "      <th>15</th>\n",
       "      <th>16</th>\n",
       "      <th>17</th>\n",
       "      <th>18</th>\n",
       "      <th>19</th>\n",
       "      <th>20</th>\n",
       "      <th>21</th>\n",
       "    </tr>\n",
       "  </thead>\n",
       "  <tbody>\n",
       "    <tr>\n",
       "      <th>0</th>\n",
       "      <td>0</td>\n",
       "      <td>997.750000</td>\n",
       "      <td>1.0</td>\n",
       "      <td>3.250000</td>\n",
       "      <td>1.000000</td>\n",
       "      <td>2.75</td>\n",
       "      <td>0.0</td>\n",
       "      <td>0.000000</td>\n",
       "      <td>0.250000</td>\n",
       "      <td>2.5</td>\n",
       "      <td>...</td>\n",
       "      <td>1.000000</td>\n",
       "      <td>2.0</td>\n",
       "      <td>1.825</td>\n",
       "      <td>NaN</td>\n",
       "      <td>NaN</td>\n",
       "      <td>NaN</td>\n",
       "      <td>NaN</td>\n",
       "      <td>NaN</td>\n",
       "      <td>NaN</td>\n",
       "      <td>NaN</td>\n",
       "    </tr>\n",
       "    <tr>\n",
       "      <th>1</th>\n",
       "      <td>1</td>\n",
       "      <td>786.400000</td>\n",
       "      <td>1.6</td>\n",
       "      <td>3.200000</td>\n",
       "      <td>1.400000</td>\n",
       "      <td>3.00</td>\n",
       "      <td>0.0</td>\n",
       "      <td>0.000000</td>\n",
       "      <td>0.000000</td>\n",
       "      <td>0.8</td>\n",
       "      <td>...</td>\n",
       "      <td>0.600000</td>\n",
       "      <td>1.4</td>\n",
       "      <td>2.360</td>\n",
       "      <td>NaN</td>\n",
       "      <td>NaN</td>\n",
       "      <td>NaN</td>\n",
       "      <td>NaN</td>\n",
       "      <td>NaN</td>\n",
       "      <td>NaN</td>\n",
       "      <td>NaN</td>\n",
       "    </tr>\n",
       "    <tr>\n",
       "      <th>2</th>\n",
       "      <td>2</td>\n",
       "      <td>1167.000000</td>\n",
       "      <td>6.0</td>\n",
       "      <td>8.500000</td>\n",
       "      <td>1.500000</td>\n",
       "      <td>3.00</td>\n",
       "      <td>1.5</td>\n",
       "      <td>2.000000</td>\n",
       "      <td>0.000000</td>\n",
       "      <td>1.5</td>\n",
       "      <td>...</td>\n",
       "      <td>1.500000</td>\n",
       "      <td>2.0</td>\n",
       "      <td>10.600</td>\n",
       "      <td>NaN</td>\n",
       "      <td>NaN</td>\n",
       "      <td>NaN</td>\n",
       "      <td>NaN</td>\n",
       "      <td>NaN</td>\n",
       "      <td>NaN</td>\n",
       "      <td>NaN</td>\n",
       "    </tr>\n",
       "    <tr>\n",
       "      <th>3</th>\n",
       "      <td>3</td>\n",
       "      <td>1743.333333</td>\n",
       "      <td>5.0</td>\n",
       "      <td>12.333333</td>\n",
       "      <td>0.666667</td>\n",
       "      <td>2.00</td>\n",
       "      <td>2.0</td>\n",
       "      <td>3.333333</td>\n",
       "      <td>0.666667</td>\n",
       "      <td>2.0</td>\n",
       "      <td>...</td>\n",
       "      <td>2.666667</td>\n",
       "      <td>1.0</td>\n",
       "      <td>9.200</td>\n",
       "      <td>NaN</td>\n",
       "      <td>NaN</td>\n",
       "      <td>NaN</td>\n",
       "      <td>NaN</td>\n",
       "      <td>NaN</td>\n",
       "      <td>NaN</td>\n",
       "      <td>NaN</td>\n",
       "    </tr>\n",
       "    <tr>\n",
       "      <th>4</th>\n",
       "      <td>4</td>\n",
       "      <td>1752.200000</td>\n",
       "      <td>6.0</td>\n",
       "      <td>14.000000</td>\n",
       "      <td>0.600000</td>\n",
       "      <td>1.80</td>\n",
       "      <td>2.0</td>\n",
       "      <td>2.600000</td>\n",
       "      <td>1.800000</td>\n",
       "      <td>2.6</td>\n",
       "      <td>...</td>\n",
       "      <td>0.800000</td>\n",
       "      <td>2.4</td>\n",
       "      <td>10.100</td>\n",
       "      <td>NaN</td>\n",
       "      <td>NaN</td>\n",
       "      <td>NaN</td>\n",
       "      <td>NaN</td>\n",
       "      <td>NaN</td>\n",
       "      <td>NaN</td>\n",
       "      <td>NaN</td>\n",
       "    </tr>\n",
       "  </tbody>\n",
       "</table>\n",
       "<p>5 rows × 23 columns</p>\n",
       "</div>"
      ],
      "text/plain": [
       "   Unnamed: 0            0    1          2         3     4    5         6  \\\n",
       "0           0   997.750000  1.0   3.250000  1.000000  2.75  0.0  0.000000   \n",
       "1           1   786.400000  1.6   3.200000  1.400000  3.00  0.0  0.000000   \n",
       "2           2  1167.000000  6.0   8.500000  1.500000  3.00  1.5  2.000000   \n",
       "3           3  1743.333333  5.0  12.333333  0.666667  2.00  2.0  3.333333   \n",
       "4           4  1752.200000  6.0  14.000000  0.600000  1.80  2.0  2.600000   \n",
       "\n",
       "          7    8  ...        12   13      14  15  16  17  18  19  20  21  \n",
       "0  0.250000  2.5  ...  1.000000  2.0   1.825 NaN NaN NaN NaN NaN NaN NaN  \n",
       "1  0.000000  0.8  ...  0.600000  1.4   2.360 NaN NaN NaN NaN NaN NaN NaN  \n",
       "2  0.000000  1.5  ...  1.500000  2.0  10.600 NaN NaN NaN NaN NaN NaN NaN  \n",
       "3  0.666667  2.0  ...  2.666667  1.0   9.200 NaN NaN NaN NaN NaN NaN NaN  \n",
       "4  1.800000  2.6  ...  0.800000  2.4  10.100 NaN NaN NaN NaN NaN NaN NaN  \n",
       "\n",
       "[5 rows x 23 columns]"
      ]
     },
     "execution_count": 22,
     "metadata": {},
     "output_type": "execute_result"
    }
   ],
   "source": [
    "part_1.head()"
   ]
  },
  {
   "cell_type": "code",
   "execution_count": 136,
   "metadata": {},
   "outputs": [],
   "source": [
    "head_to_head = pd.concat([part_1,part_2,part_3,part_4,part_5,part_6],axis='rows').reset_index()"
   ]
  },
  {
   "cell_type": "code",
   "execution_count": 20,
   "metadata": {},
   "outputs": [],
   "source": [
    "head_to_head2 = pd.concat([part_1,part_2,part_3,part_4,part_5,part_6],axis='rows').reset_index()"
   ]
  },
  {
   "cell_type": "code",
   "execution_count": 137,
   "metadata": {},
   "outputs": [],
   "source": [
    "head_to_head.drop(head_to_head.columns[:2],axis=1, inplace=True)\n",
    "head_to_head.dropna(axis=1, how='all', inplace=True)"
   ]
  },
  {
   "cell_type": "code",
   "execution_count": 138,
   "metadata": {},
   "outputs": [
    {
     "data": {
      "text/plain": [
       "2328.0"
      ]
     },
     "execution_count": 138,
     "metadata": {},
     "output_type": "execute_result"
    }
   ],
   "source": [
    "len(head_to_head)/5"
   ]
  },
  {
   "cell_type": "code",
   "execution_count": 145,
   "metadata": {},
   "outputs": [],
   "source": [
    "head_to_head.index = flattened_lineups"
   ]
  },
  {
   "cell_type": "code",
   "execution_count": 139,
   "metadata": {},
   "outputs": [],
   "source": [
    "head_to_head.fillna(0, inplace=True)"
   ]
  },
  {
   "cell_type": "code",
   "execution_count": 140,
   "metadata": {},
   "outputs": [],
   "source": [
    "head_to_head.columns = head_to_head_cols"
   ]
  },
  {
   "cell_type": "code",
   "execution_count": 146,
   "metadata": {},
   "outputs": [
    {
     "data": {
      "text/html": [
       "<div>\n",
       "<style scoped>\n",
       "    .dataframe tbody tr th:only-of-type {\n",
       "        vertical-align: middle;\n",
       "    }\n",
       "\n",
       "    .dataframe tbody tr th {\n",
       "        vertical-align: top;\n",
       "    }\n",
       "\n",
       "    .dataframe thead th {\n",
       "        text-align: right;\n",
       "    }\n",
       "</style>\n",
       "<table border=\"1\" class=\"dataframe\">\n",
       "  <thead>\n",
       "    <tr style=\"text-align: right;\">\n",
       "      <th></th>\n",
       "      <th>seconds_played</th>\n",
       "      <th>made_field_goals</th>\n",
       "      <th>attempted_field_goals</th>\n",
       "      <th>made_three_point_field_goals</th>\n",
       "      <th>attempted_three_point_field_goals</th>\n",
       "      <th>made_free_throws</th>\n",
       "      <th>attempted_free_throws</th>\n",
       "      <th>offensive_rebounds</th>\n",
       "      <th>defensive_rebounds</th>\n",
       "      <th>assists</th>\n",
       "      <th>steals</th>\n",
       "      <th>blocks</th>\n",
       "      <th>turnovers</th>\n",
       "      <th>personal_fouls</th>\n",
       "      <th>game_score</th>\n",
       "    </tr>\n",
       "  </thead>\n",
       "  <tbody>\n",
       "    <tr>\n",
       "      <th>bendedr01</th>\n",
       "      <td>997.750000</td>\n",
       "      <td>1.0</td>\n",
       "      <td>3.250000</td>\n",
       "      <td>1.000000</td>\n",
       "      <td>2.75</td>\n",
       "      <td>0.0</td>\n",
       "      <td>0.000000</td>\n",
       "      <td>0.250000</td>\n",
       "      <td>2.5</td>\n",
       "      <td>2.000000</td>\n",
       "      <td>0.000000</td>\n",
       "      <td>0.25</td>\n",
       "      <td>1.000000</td>\n",
       "      <td>2.0</td>\n",
       "      <td>1.825</td>\n",
       "    </tr>\n",
       "    <tr>\n",
       "      <th>danietr01</th>\n",
       "      <td>786.400000</td>\n",
       "      <td>1.6</td>\n",
       "      <td>3.200000</td>\n",
       "      <td>1.400000</td>\n",
       "      <td>3.00</td>\n",
       "      <td>0.0</td>\n",
       "      <td>0.000000</td>\n",
       "      <td>0.000000</td>\n",
       "      <td>0.8</td>\n",
       "      <td>0.400000</td>\n",
       "      <td>0.000000</td>\n",
       "      <td>0.00</td>\n",
       "      <td>0.600000</td>\n",
       "      <td>1.4</td>\n",
       "      <td>2.360</td>\n",
       "    </tr>\n",
       "    <tr>\n",
       "      <th>jacksjo02</th>\n",
       "      <td>1167.000000</td>\n",
       "      <td>6.0</td>\n",
       "      <td>8.500000</td>\n",
       "      <td>1.500000</td>\n",
       "      <td>3.00</td>\n",
       "      <td>1.5</td>\n",
       "      <td>2.000000</td>\n",
       "      <td>0.000000</td>\n",
       "      <td>1.5</td>\n",
       "      <td>1.000000</td>\n",
       "      <td>0.500000</td>\n",
       "      <td>0.00</td>\n",
       "      <td>1.500000</td>\n",
       "      <td>2.0</td>\n",
       "      <td>10.600</td>\n",
       "    </tr>\n",
       "    <tr>\n",
       "      <th>paytoel01</th>\n",
       "      <td>1743.333333</td>\n",
       "      <td>5.0</td>\n",
       "      <td>12.333333</td>\n",
       "      <td>0.666667</td>\n",
       "      <td>2.00</td>\n",
       "      <td>2.0</td>\n",
       "      <td>3.333333</td>\n",
       "      <td>0.666667</td>\n",
       "      <td>2.0</td>\n",
       "      <td>7.666667</td>\n",
       "      <td>0.333333</td>\n",
       "      <td>0.00</td>\n",
       "      <td>2.666667</td>\n",
       "      <td>1.0</td>\n",
       "      <td>9.200</td>\n",
       "    </tr>\n",
       "    <tr>\n",
       "      <th>warretj01</th>\n",
       "      <td>1752.200000</td>\n",
       "      <td>6.0</td>\n",
       "      <td>14.000000</td>\n",
       "      <td>0.600000</td>\n",
       "      <td>1.80</td>\n",
       "      <td>2.0</td>\n",
       "      <td>2.600000</td>\n",
       "      <td>1.800000</td>\n",
       "      <td>2.6</td>\n",
       "      <td>1.200000</td>\n",
       "      <td>1.600000</td>\n",
       "      <td>0.60</td>\n",
       "      <td>0.800000</td>\n",
       "      <td>2.4</td>\n",
       "      <td>10.100</td>\n",
       "    </tr>\n",
       "  </tbody>\n",
       "</table>\n",
       "</div>"
      ],
      "text/plain": [
       "           seconds_played  made_field_goals  attempted_field_goals  \\\n",
       "bendedr01      997.750000               1.0               3.250000   \n",
       "danietr01      786.400000               1.6               3.200000   \n",
       "jacksjo02     1167.000000               6.0               8.500000   \n",
       "paytoel01     1743.333333               5.0              12.333333   \n",
       "warretj01     1752.200000               6.0              14.000000   \n",
       "\n",
       "           made_three_point_field_goals  attempted_three_point_field_goals  \\\n",
       "bendedr01                      1.000000                               2.75   \n",
       "danietr01                      1.400000                               3.00   \n",
       "jacksjo02                      1.500000                               3.00   \n",
       "paytoel01                      0.666667                               2.00   \n",
       "warretj01                      0.600000                               1.80   \n",
       "\n",
       "           made_free_throws  attempted_free_throws  offensive_rebounds  \\\n",
       "bendedr01               0.0               0.000000            0.250000   \n",
       "danietr01               0.0               0.000000            0.000000   \n",
       "jacksjo02               1.5               2.000000            0.000000   \n",
       "paytoel01               2.0               3.333333            0.666667   \n",
       "warretj01               2.0               2.600000            1.800000   \n",
       "\n",
       "           defensive_rebounds   assists    steals  blocks  turnovers  \\\n",
       "bendedr01                 2.5  2.000000  0.000000    0.25   1.000000   \n",
       "danietr01                 0.8  0.400000  0.000000    0.00   0.600000   \n",
       "jacksjo02                 1.5  1.000000  0.500000    0.00   1.500000   \n",
       "paytoel01                 2.0  7.666667  0.333333    0.00   2.666667   \n",
       "warretj01                 2.6  1.200000  1.600000    0.60   0.800000   \n",
       "\n",
       "           personal_fouls  game_score  \n",
       "bendedr01             2.0       1.825  \n",
       "danietr01             1.4       2.360  \n",
       "jacksjo02             2.0      10.600  \n",
       "paytoel01             1.0       9.200  \n",
       "warretj01             2.4      10.100  "
      ]
     },
     "execution_count": 146,
     "metadata": {},
     "output_type": "execute_result"
    }
   ],
   "source": [
    "head_to_head.head()"
   ]
  },
  {
   "cell_type": "code",
   "execution_count": 141,
   "metadata": {},
   "outputs": [
    {
     "data": {
      "image/png": "[encoded data removed]",
      "text/plain": [
       "<Figure size 432x288 with 2 Axes>"
      ]
     },
     "metadata": {
      "needs_background": "light"
     },
     "output_type": "display_data"
    }
   ],
   "source": [
    "correlation = head_to_head.corr()\n",
    "heatmap_fig = plt.figure()\n",
    "heatmap = sns.heatmap(correlation)\n",
    "#    plt.close(heatmap_fig)"
   ]
  },
  {
   "cell_type": "code",
   "execution_count": 121,
   "metadata": {},
   "outputs": [
    {
     "name": "stdout",
     "output_type": "stream",
     "text": [
      "11640 11640 11640\n"
     ]
    }
   ],
   "source": [
    "print(len(advanced_stats_lineup),len(usage_lineup),len(head_to_head))"
   ]
  },
  {
   "cell_type": "code",
   "execution_count": 142,
   "metadata": {},
   "outputs": [
    {
     "name": "stdout",
     "output_type": "stream",
     "text": [
      "(11640, 24) (11640, 22) (11640, 15)\n"
     ]
    }
   ],
   "source": [
    "print(advanced_stats_lineup.shape,usage_lineup.shape,head_to_head.shape)"
   ]
  },
  {
   "cell_type": "code",
   "execution_count": 126,
   "metadata": {},
   "outputs": [
    {
     "name": "stdout",
     "output_type": "stream",
     "text": [
      "11640\n",
      "(11640, 46)\n"
     ]
    },
    {
     "data": {
      "text/html": [
       "<div>\n",
       "<style scoped>\n",
       "    .dataframe tbody tr th:only-of-type {\n",
       "        vertical-align: middle;\n",
       "    }\n",
       "\n",
       "    .dataframe tbody tr th {\n",
       "        vertical-align: top;\n",
       "    }\n",
       "\n",
       "    .dataframe thead th {\n",
       "        text-align: right;\n",
       "    }\n",
       "</style>\n",
       "<table border=\"1\" class=\"dataframe\">\n",
       "  <thead>\n",
       "    <tr style=\"text-align: right;\">\n",
       "      <th></th>\n",
       "      <th>slug</th>\n",
       "      <th>Year</th>\n",
       "      <th>Age</th>\n",
       "      <th>G</th>\n",
       "      <th>MP</th>\n",
       "      <th>PER</th>\n",
       "      <th>TS%</th>\n",
       "      <th>3PAr</th>\n",
       "      <th>FTr</th>\n",
       "      <th>ORB%</th>\n",
       "      <th>...</th>\n",
       "      <th>%DREB</th>\n",
       "      <th>%REB</th>\n",
       "      <th>%AST</th>\n",
       "      <th>%TOV</th>\n",
       "      <th>%STL</th>\n",
       "      <th>%BLK</th>\n",
       "      <th>%BLKA</th>\n",
       "      <th>%PF</th>\n",
       "      <th>%PFD</th>\n",
       "      <th>%PTS</th>\n",
       "    </tr>\n",
       "  </thead>\n",
       "  <tbody>\n",
       "    <tr>\n",
       "      <th>0</th>\n",
       "      <td>bendedr01</td>\n",
       "      <td>2017</td>\n",
       "      <td>19.0</td>\n",
       "      <td>43.0</td>\n",
       "      <td>574.0</td>\n",
       "      <td>5.3</td>\n",
       "      <td>0.440</td>\n",
       "      <td>0.627</td>\n",
       "      <td>0.068</td>\n",
       "      <td>4.2</td>\n",
       "      <td>...</td>\n",
       "      <td>20.3</td>\n",
       "      <td>19.4</td>\n",
       "      <td>10.5</td>\n",
       "      <td>18.2</td>\n",
       "      <td>11.9</td>\n",
       "      <td>36.7</td>\n",
       "      <td>4.2</td>\n",
       "      <td>22.8</td>\n",
       "      <td>6.2</td>\n",
       "      <td>11.6</td>\n",
       "    </tr>\n",
       "    <tr>\n",
       "      <th>1</th>\n",
       "      <td>danietr01</td>\n",
       "      <td>2017</td>\n",
       "      <td>25.0</td>\n",
       "      <td>67.0</td>\n",
       "      <td>1183.0</td>\n",
       "      <td>10.4</td>\n",
       "      <td>0.531</td>\n",
       "      <td>0.717</td>\n",
       "      <td>0.109</td>\n",
       "      <td>2.1</td>\n",
       "      <td>...</td>\n",
       "      <td>9.9</td>\n",
       "      <td>9.3</td>\n",
       "      <td>8.9</td>\n",
       "      <td>13.8</td>\n",
       "      <td>11.0</td>\n",
       "      <td>4.1</td>\n",
       "      <td>10.8</td>\n",
       "      <td>15.5</td>\n",
       "      <td>12.5</td>\n",
       "      <td>21.9</td>\n",
       "    </tr>\n",
       "  </tbody>\n",
       "</table>\n",
       "<p>2 rows × 46 columns</p>\n",
       "</div>"
      ],
      "text/plain": [
       "        slug  Year   Age     G      MP   PER    TS%   3PAr    FTr  ORB%  ...  \\\n",
       "0  bendedr01  2017  19.0  43.0   574.0   5.3  0.440  0.627  0.068   4.2  ...   \n",
       "1  danietr01  2017  25.0  67.0  1183.0  10.4  0.531  0.717  0.109   2.1  ...   \n",
       "\n",
       "   %DREB  %REB  %AST  %TOV  %STL  %BLK  %BLKA   %PF  %PFD  %PTS  \n",
       "0   20.3  19.4  10.5  18.2  11.9  36.7    4.2  22.8   6.2  11.6  \n",
       "1    9.9   9.3   8.9  13.8  11.0   4.1   10.8  15.5  12.5  21.9  \n",
       "\n",
       "[2 rows x 46 columns]"
      ]
     },
     "execution_count": 126,
     "metadata": {},
     "output_type": "execute_result"
    }
   ],
   "source": [
    "training_features = pd.concat([advanced_stats_lineup,usage_lineup], axis='columns')\n",
    "print(len(training_features))\n",
    "print(training_features.shape)\n",
    "training_features.head(2)"
   ]
  },
  {
   "cell_type": "code",
   "execution_count": 143,
   "metadata": {},
   "outputs": [
    {
     "name": "stdout",
     "output_type": "stream",
     "text": [
      "(11640, 61)\n"
     ]
    },
    {
     "data": {
      "text/html": [
       "<div>\n",
       "<style scoped>\n",
       "    .dataframe tbody tr th:only-of-type {\n",
       "        vertical-align: middle;\n",
       "    }\n",
       "\n",
       "    .dataframe tbody tr th {\n",
       "        vertical-align: top;\n",
       "    }\n",
       "\n",
       "    .dataframe thead th {\n",
       "        text-align: right;\n",
       "    }\n",
       "</style>\n",
       "<table border=\"1\" class=\"dataframe\">\n",
       "  <thead>\n",
       "    <tr style=\"text-align: right;\">\n",
       "      <th></th>\n",
       "      <th>slug</th>\n",
       "      <th>Year</th>\n",
       "      <th>Age</th>\n",
       "      <th>G</th>\n",
       "      <th>MP</th>\n",
       "      <th>PER</th>\n",
       "      <th>TS%</th>\n",
       "      <th>3PAr</th>\n",
       "      <th>FTr</th>\n",
       "      <th>ORB%</th>\n",
       "      <th>...</th>\n",
       "      <th>made_free_throws</th>\n",
       "      <th>attempted_free_throws</th>\n",
       "      <th>offensive_rebounds</th>\n",
       "      <th>defensive_rebounds</th>\n",
       "      <th>assists</th>\n",
       "      <th>steals</th>\n",
       "      <th>blocks</th>\n",
       "      <th>turnovers</th>\n",
       "      <th>personal_fouls</th>\n",
       "      <th>game_score</th>\n",
       "    </tr>\n",
       "  </thead>\n",
       "  <tbody>\n",
       "    <tr>\n",
       "      <th>0</th>\n",
       "      <td>bendedr01</td>\n",
       "      <td>2017</td>\n",
       "      <td>19.0</td>\n",
       "      <td>43.0</td>\n",
       "      <td>574.0</td>\n",
       "      <td>5.3</td>\n",
       "      <td>0.440</td>\n",
       "      <td>0.627</td>\n",
       "      <td>0.068</td>\n",
       "      <td>4.2</td>\n",
       "      <td>...</td>\n",
       "      <td>0.0</td>\n",
       "      <td>0.0</td>\n",
       "      <td>0.25</td>\n",
       "      <td>2.5</td>\n",
       "      <td>2.0</td>\n",
       "      <td>0.0</td>\n",
       "      <td>0.25</td>\n",
       "      <td>1.0</td>\n",
       "      <td>2.0</td>\n",
       "      <td>1.825</td>\n",
       "    </tr>\n",
       "    <tr>\n",
       "      <th>1</th>\n",
       "      <td>danietr01</td>\n",
       "      <td>2017</td>\n",
       "      <td>25.0</td>\n",
       "      <td>67.0</td>\n",
       "      <td>1183.0</td>\n",
       "      <td>10.4</td>\n",
       "      <td>0.531</td>\n",
       "      <td>0.717</td>\n",
       "      <td>0.109</td>\n",
       "      <td>2.1</td>\n",
       "      <td>...</td>\n",
       "      <td>0.0</td>\n",
       "      <td>0.0</td>\n",
       "      <td>0.00</td>\n",
       "      <td>0.8</td>\n",
       "      <td>0.4</td>\n",
       "      <td>0.0</td>\n",
       "      <td>0.00</td>\n",
       "      <td>0.6</td>\n",
       "      <td>1.4</td>\n",
       "      <td>2.360</td>\n",
       "    </tr>\n",
       "  </tbody>\n",
       "</table>\n",
       "<p>2 rows × 61 columns</p>\n",
       "</div>"
      ],
      "text/plain": [
       "        slug  Year   Age     G      MP   PER    TS%   3PAr    FTr  ORB%  ...  \\\n",
       "0  bendedr01  2017  19.0  43.0   574.0   5.3  0.440  0.627  0.068   4.2  ...   \n",
       "1  danietr01  2017  25.0  67.0  1183.0  10.4  0.531  0.717  0.109   2.1  ...   \n",
       "\n",
       "   made_free_throws  attempted_free_throws  offensive_rebounds  \\\n",
       "0               0.0                    0.0                0.25   \n",
       "1               0.0                    0.0                0.00   \n",
       "\n",
       "   defensive_rebounds  assists  steals  blocks  turnovers  personal_fouls  \\\n",
       "0                 2.5      2.0     0.0    0.25        1.0             2.0   \n",
       "1                 0.8      0.4     0.0    0.00        0.6             1.4   \n",
       "\n",
       "   game_score  \n",
       "0       1.825  \n",
       "1       2.360  \n",
       "\n",
       "[2 rows x 61 columns]"
      ]
     },
     "execution_count": 143,
     "metadata": {},
     "output_type": "execute_result"
    }
   ],
   "source": [
    "more_training_features = pd.concat([training_features,head_to_head], axis='columns')\n",
    "print(more_training_features.shape)\n",
    "more_training_features.head(2)"
   ]
  },
  {
   "cell_type": "code",
   "execution_count": 147,
   "metadata": {},
   "outputs": [],
   "source": [
    "training_set_features = more_training_features.copy()"
   ]
  },
  {
   "cell_type": "code",
   "execution_count": 150,
   "metadata": {},
   "outputs": [
    {
     "data": {
      "text/plain": [
       "Index(['slug', 'Year', 'Age', 'G', 'MP', 'PER', 'TS%', '3PAr', 'FTr', 'ORB%',\n",
       "       'DRB%', 'TRB%', 'AST%', 'STL%', 'BLK%', 'TOV%', 'USG%', 'OWS', 'DWS',\n",
       "       'WS', 'WS/48', 'OBPM', 'BPM', 'VORP', 'slug', 'year', 'GP', 'MIN',\n",
       "       'USG%', '%FGM', '%FGA', '%3PM', '%3PA', '%FTM', '%FTA', '%OREB',\n",
       "       '%DREB', '%REB', '%AST', '%TOV', '%STL', '%BLK', '%BLKA', '%PF', '%PFD',\n",
       "       '%PTS', 'seconds_played', 'made_field_goals', 'attempted_field_goals',\n",
       "       'made_three_point_field_goals', 'attempted_three_point_field_goals',\n",
       "       'made_free_throws', 'attempted_free_throws', 'offensive_rebounds',\n",
       "       'defensive_rebounds', 'assists', 'steals', 'blocks', 'turnovers',\n",
       "       'personal_fouls', 'game_score'],\n",
       "      dtype='object')"
      ]
     },
     "execution_count": 150,
     "metadata": {},
     "output_type": "execute_result"
    }
   ],
   "source": [
    "training_set_features.columns"
   ]
  },
  {
   "cell_type": "code",
   "execution_count": 152,
   "metadata": {},
   "outputs": [],
   "source": [
    "training_set_features.drop(columns = ['slug','year','slug','Year'], inplace=True)"
   ]
  },
  {
   "cell_type": "code",
   "execution_count": 188,
   "metadata": {},
   "outputs": [],
   "source": [
    "training_cols = ['Age',\n",
    " 'G',\n",
    " 'MP',\n",
    " 'PER',\n",
    " 'TS%',\n",
    " '3PAr',\n",
    " 'FTr',\n",
    " 'ORB%',\n",
    " 'DRB%',\n",
    " 'TRB%',\n",
    " 'AST%',\n",
    " 'STL%',\n",
    " 'BLK%',\n",
    " 'TOV%',\n",
    " 'USGA%',\n",
    " 'OWS',\n",
    " 'DWS',\n",
    " 'WS',\n",
    " 'WS/48',\n",
    " 'OBPM',\n",
    " 'BPM',\n",
    " 'VORP',\n",
    " 'GP',\n",
    " 'MIN',\n",
    " 'USG%',\n",
    " '%FGM',\n",
    " '%FGA',\n",
    " '%3PM',\n",
    " '%3PA',\n",
    " '%FTM',\n",
    " '%FTA',\n",
    " '%OREB',\n",
    " '%DREB',\n",
    " '%REB',\n",
    " '%AST',\n",
    " '%TOV',\n",
    " '%STL',\n",
    " '%BLK',\n",
    " '%BLKA',\n",
    " '%PF',\n",
    " '%PFD',\n",
    " '%PTS',\n",
    " 'seconds_played',\n",
    " 'made_field_goals',\n",
    " 'attempted_field_goals',\n",
    " 'made_three_point_field_goals',\n",
    " 'attempted_three_point_field_goals',\n",
    " 'made_free_throws',\n",
    " 'attempted_free_throws',\n",
    " 'offensive_rebounds',\n",
    " 'defensive_rebounds',\n",
    " 'assists',\n",
    " 'steals',\n",
    " 'blocks',\n",
    " 'turnovers',\n",
    " 'personal_fouls',\n",
    " 'game_score']"
   ]
  },
  {
   "cell_type": "code",
   "execution_count": 189,
   "metadata": {},
   "outputs": [],
   "source": [
    "training_set_features.columns = training_cols\n",
    "correlations = training_set_features.corr()"
   ]
  },
  {
   "cell_type": "code",
   "execution_count": 176,
   "metadata": {},
   "outputs": [],
   "source": [
    "def find_correlations(df):\n",
    "    for col in list(df.columns):\n",
    "        if len(df[df[col]>.9]) >1:\n",
    "            print(f'{col} has {len(df[df[col]>.9]-1)} highly correlated features.')\n",
    "            \n",
    "        else:\n",
    "            continue"
   ]
  },
  {
   "cell_type": "code",
   "execution_count": 190,
   "metadata": {},
   "outputs": [
    {
     "name": "stdout",
     "output_type": "stream",
     "text": [
      "DRB% has 2 highly correlated features.\n",
      "TRB% has 2 highly correlated features.\n",
      "OWS has 2 highly correlated features.\n",
      "WS has 3 highly correlated features.\n",
      "BPM has 2 highly correlated features.\n",
      "VORP has 3 highly correlated features.\n",
      "GP has 2 highly correlated features.\n",
      "MIN has 2 highly correlated features.\n",
      "USG% has 5 highly correlated features.\n",
      "%FGM has 4 highly correlated features.\n",
      "%FGA has 4 highly correlated features.\n",
      "%3PM has 2 highly correlated features.\n",
      "%3PA has 2 highly correlated features.\n",
      "%FTM has 3 highly correlated features.\n",
      "%FTA has 3 highly correlated features.\n",
      "%DREB has 2 highly correlated features.\n",
      "%REB has 2 highly correlated features.\n",
      "%TOV has 2 highly correlated features.\n",
      "%PFD has 3 highly correlated features.\n",
      "%PTS has 4 highly correlated features.\n",
      "made_field_goals has 3 highly correlated features.\n",
      "attempted_field_goals has 2 highly correlated features.\n",
      "made_three_point_field_goals has 2 highly correlated features.\n",
      "attempted_three_point_field_goals has 2 highly correlated features.\n",
      "made_free_throws has 2 highly correlated features.\n",
      "attempted_free_throws has 2 highly correlated features.\n",
      "game_score has 2 highly correlated features.\n"
     ]
    }
   ],
   "source": [
    "find_correlations(correlations)"
   ]
  },
  {
   "cell_type": "code",
   "execution_count": 194,
   "metadata": {},
   "outputs": [
    {
     "data": {
      "text/plain": [
       "USG%    1.000000\n",
       "%FGM    0.975557\n",
       "%FGA    0.993574\n",
       "%TOV    0.909795\n",
       "%PTS    0.985690\n",
       "Name: USG%, dtype: float64"
      ]
     },
     "execution_count": 194,
     "metadata": {},
     "output_type": "execute_result"
    }
   ],
   "source": [
    "correlations[correlations['USG%'] >.9]['USG%']"
   ]
  },
  {
   "cell_type": "code",
   "execution_count": 153,
   "metadata": {},
   "outputs": [
    {
     "data": {
      "image/png": "[encoded data removed]",
      "text/plain": [
       "<Figure size 432x288 with 2 Axes>"
      ]
     },
     "metadata": {
      "needs_background": "light"
     },
     "output_type": "display_data"
    }
   ],
   "source": [
    "correlation = training_set_features.corr()\n",
    "heatmap_fig = plt.figure()\n",
    "heatmap = sns.heatmap(correlation)"
   ]
  },
  {
   "cell_type": "code",
   "execution_count": 195,
   "metadata": {},
   "outputs": [],
   "source": [
    "training_set_features.to_csv('../Resources/training_data_features.csv')"
   ]
  },
  {
   "cell_type": "code",
   "execution_count": null,
   "metadata": {},
   "outputs": [],
   "source": []
  }
 ],
 "metadata": {
  "kernelspec": {
   "display_name": "Python 3",
   "language": "python",
   "name": "python3"
  },
  "language_info": {
   "codemirror_mode": {
    "name": "ipython",
    "version": 3
   },
   "file_extension": ".py",
   "mimetype": "text/x-python",
   "name": "python",
   "nbconvert_exporter": "python",
   "pygments_lexer": "ipython3",
   "version": "3.7.1"
  }
 },
 "nbformat": 4,
 "nbformat_minor": 4
}
