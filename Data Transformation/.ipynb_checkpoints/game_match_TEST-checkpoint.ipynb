{
 "cells": [
  {
   "cell_type": "markdown",
   "metadata": {},
   "source": [
    "# Game Matching"
   ]
  },
  {
   "cell_type": "code",
   "execution_count": 1,
   "metadata": {},
   "outputs": [],
   "source": [
    "import pandas as pd\n",
    "import numpy as np\n"
   ]
  },
  {
   "cell_type": "code",
   "execution_count": 31,
   "metadata": {},
   "outputs": [
    {
     "data": {
      "text/html": [
       "<div>\n",
       "<style scoped>\n",
       "    .dataframe tbody tr th:only-of-type {\n",
       "        vertical-align: middle;\n",
       "    }\n",
       "\n",
       "    .dataframe tbody tr th {\n",
       "        vertical-align: top;\n",
       "    }\n",
       "\n",
       "    .dataframe thead th {\n",
       "        text-align: right;\n",
       "    }\n",
       "</style>\n",
       "<table border=\"1\" class=\"dataframe\">\n",
       "  <thead>\n",
       "    <tr style=\"text-align: right;\">\n",
       "      <th></th>\n",
       "      <th>Unnamed: 0</th>\n",
       "      <th>Unnamed: 0.1</th>\n",
       "      <th>date</th>\n",
       "      <th>Team</th>\n",
       "      <th>Player1</th>\n",
       "      <th>Player2</th>\n",
       "      <th>Player3</th>\n",
       "      <th>Player4</th>\n",
       "      <th>Player5</th>\n",
       "      <th>game_id</th>\n",
       "      <th>Location</th>\n",
       "      <th>Outcome</th>\n",
       "      <th>spread</th>\n",
       "    </tr>\n",
       "  </thead>\n",
       "  <tbody>\n",
       "    <tr>\n",
       "      <th>0</th>\n",
       "      <td>29</td>\n",
       "      <td>29</td>\n",
       "      <td>2013-01-01</td>\n",
       "      <td>ATL</td>\n",
       "      <td>A. Horford</td>\n",
       "      <td>K. Korver</td>\n",
       "      <td>J. Smith</td>\n",
       "      <td>J. Teague</td>\n",
       "      <td>L. Williams</td>\n",
       "      <td>460.0</td>\n",
       "      <td>AWAY</td>\n",
       "      <td>WIN</td>\n",
       "      <td>9.0</td>\n",
       "    </tr>\n",
       "    <tr>\n",
       "      <th>1</th>\n",
       "      <td>30</td>\n",
       "      <td>30</td>\n",
       "      <td>2013-01-04</td>\n",
       "      <td>ATL</td>\n",
       "      <td>A. Horford</td>\n",
       "      <td>K. Korver</td>\n",
       "      <td>J. Smith</td>\n",
       "      <td>J. Teague</td>\n",
       "      <td>L. Williams</td>\n",
       "      <td>480.0</td>\n",
       "      <td>AWAY</td>\n",
       "      <td>LOSS</td>\n",
       "      <td>1.0</td>\n",
       "    </tr>\n",
       "  </tbody>\n",
       "</table>\n",
       "</div>"
      ],
      "text/plain": [
       "   Unnamed: 0  Unnamed: 0.1        date Team     Player1    Player2   Player3  \\\n",
       "0          29            29  2013-01-01  ATL  A. Horford  K. Korver  J. Smith   \n",
       "1          30            30  2013-01-04  ATL  A. Horford  K. Korver  J. Smith   \n",
       "\n",
       "     Player4      Player5  game_id Location Outcome  spread  \n",
       "0  J. Teague  L. Williams    460.0     AWAY     WIN     9.0  \n",
       "1  J. Teague  L. Williams    480.0     AWAY    LOSS     1.0  "
      ]
     },
     "execution_count": 31,
     "metadata": {},
     "output_type": "execute_result"
    }
   ],
   "source": [
    "schedule_lineup = pd.read_csv('../Resources/encoded_lineup.csv')\n",
    "schedule_lineup.head(2)"
   ]
  },
  {
   "cell_type": "code",
   "execution_count": 182,
   "metadata": {},
   "outputs": [],
   "source": [
    "encoded_box_scores = pd.read_csv('../Resources/encoded_box_scores.csv')"
   ]
  },
  {
   "cell_type": "markdown",
   "metadata": {},
   "source": [
    "### Drop unnecessary columns"
   ]
  },
  {
   "cell_type": "code",
   "execution_count": 32,
   "metadata": {},
   "outputs": [],
   "source": [
    "schedule_lineup.drop(schedule_lineup.columns[0:2], axis=1, inplace=True)"
   ]
  },
  {
   "cell_type": "code",
   "execution_count": 33,
   "metadata": {},
   "outputs": [
    {
     "data": {
      "text/plain": [
       "date         object\n",
       "Team         object\n",
       "Player1      object\n",
       "Player2      object\n",
       "Player3      object\n",
       "Player4      object\n",
       "Player5      object\n",
       "game_id     float64\n",
       "Location     object\n",
       "Outcome      object\n",
       "spread      float64\n",
       "dtype: object"
      ]
     },
     "execution_count": 33,
     "metadata": {},
     "output_type": "execute_result"
    }
   ],
   "source": [
    "schedule_lineup.dtypes"
   ]
  },
  {
   "cell_type": "code",
   "execution_count": 34,
   "metadata": {},
   "outputs": [],
   "source": [
    "schedule_lineup.date = pd.to_datetime(schedule_lineup.date)"
   ]
  },
  {
   "cell_type": "code",
   "execution_count": 35,
   "metadata": {},
   "outputs": [],
   "source": [
    "schedule_lineup.sort_values('date', ascending=True, inplace=True)"
   ]
  },
  {
   "cell_type": "code",
   "execution_count": 245,
   "metadata": {},
   "outputs": [],
   "source": [
    "schedule_lineup.game_id = schedule_lineup.game_id.astype('int')"
   ]
  },
  {
   "cell_type": "code",
   "execution_count": 268,
   "metadata": {},
   "outputs": [],
   "source": [
    "schedule_lineup.to_csv('../Resources/schedule_lineup.csv')"
   ]
  },
  {
   "cell_type": "code",
   "execution_count": 247,
   "metadata": {},
   "outputs": [
    {
     "data": {
      "text/html": [
       "<div>\n",
       "<style scoped>\n",
       "    .dataframe tbody tr th:only-of-type {\n",
       "        vertical-align: middle;\n",
       "    }\n",
       "\n",
       "    .dataframe tbody tr th {\n",
       "        vertical-align: top;\n",
       "    }\n",
       "\n",
       "    .dataframe thead th {\n",
       "        text-align: right;\n",
       "    }\n",
       "</style>\n",
       "<table border=\"1\" class=\"dataframe\">\n",
       "  <thead>\n",
       "    <tr style=\"text-align: right;\">\n",
       "      <th></th>\n",
       "      <th>date</th>\n",
       "      <th>Team</th>\n",
       "      <th>Player1</th>\n",
       "      <th>Player2</th>\n",
       "      <th>Player3</th>\n",
       "      <th>Player4</th>\n",
       "      <th>Player5</th>\n",
       "      <th>game_id</th>\n",
       "      <th>Location</th>\n",
       "      <th>Outcome</th>\n",
       "      <th>spread</th>\n",
       "    </tr>\n",
       "  </thead>\n",
       "  <tbody>\n",
       "    <tr>\n",
       "      <th>0</th>\n",
       "      <td>2013-01-01</td>\n",
       "      <td>ATL</td>\n",
       "      <td>A. Horford</td>\n",
       "      <td>K. Korver</td>\n",
       "      <td>J. Smith</td>\n",
       "      <td>J. Teague</td>\n",
       "      <td>L. Williams</td>\n",
       "      <td>460</td>\n",
       "      <td>AWAY</td>\n",
       "      <td>WIN</td>\n",
       "      <td>9.0</td>\n",
       "    </tr>\n",
       "    <tr>\n",
       "      <th>3803</th>\n",
       "      <td>2013-01-01</td>\n",
       "      <td>DET</td>\n",
       "      <td>B. Knight</td>\n",
       "      <td>J. Maxiell</td>\n",
       "      <td>G. Monroe</td>\n",
       "      <td>T. Prince</td>\n",
       "      <td>K. Singler</td>\n",
       "      <td>458</td>\n",
       "      <td>HOME</td>\n",
       "      <td>WIN</td>\n",
       "      <td>6.0</td>\n",
       "    </tr>\n",
       "    <tr>\n",
       "      <th>12503</th>\n",
       "      <td>2013-01-01</td>\n",
       "      <td>SAC</td>\n",
       "      <td>D. Cousins</td>\n",
       "      <td>F. García</td>\n",
       "      <td>J. Salmons</td>\n",
       "      <td>I. Thomas</td>\n",
       "      <td>J. Thompson</td>\n",
       "      <td>458</td>\n",
       "      <td>AWAY</td>\n",
       "      <td>LOSS</td>\n",
       "      <td>6.0</td>\n",
       "    </tr>\n",
       "    <tr>\n",
       "      <th>9242</th>\n",
       "      <td>2013-01-01</td>\n",
       "      <td>NYK</td>\n",
       "      <td>C. Anthony</td>\n",
       "      <td>R. Brewer</td>\n",
       "      <td>T. Chandler</td>\n",
       "      <td>J. Kidd</td>\n",
       "      <td>K. Thomas</td>\n",
       "      <td>459</td>\n",
       "      <td>HOME</td>\n",
       "      <td>LOSS</td>\n",
       "      <td>5.0</td>\n",
       "    </tr>\n",
       "    <tr>\n",
       "      <th>11958</th>\n",
       "      <td>2013-01-01</td>\n",
       "      <td>POR</td>\n",
       "      <td>L. Aldridge</td>\n",
       "      <td>N. Batum</td>\n",
       "      <td>J. Hickson</td>\n",
       "      <td>D. Lillard</td>\n",
       "      <td>W. Matthews</td>\n",
       "      <td>459</td>\n",
       "      <td>AWAY</td>\n",
       "      <td>WIN</td>\n",
       "      <td>5.0</td>\n",
       "    </tr>\n",
       "  </tbody>\n",
       "</table>\n",
       "</div>"
      ],
      "text/plain": [
       "            date Team      Player1     Player2      Player3     Player4  \\\n",
       "0     2013-01-01  ATL   A. Horford   K. Korver     J. Smith   J. Teague   \n",
       "3803  2013-01-01  DET    B. Knight  J. Maxiell    G. Monroe   T. Prince   \n",
       "12503 2013-01-01  SAC   D. Cousins   F. García   J. Salmons   I. Thomas   \n",
       "9242  2013-01-01  NYK   C. Anthony   R. Brewer  T. Chandler     J. Kidd   \n",
       "11958 2013-01-01  POR  L. Aldridge    N. Batum   J. Hickson  D. Lillard   \n",
       "\n",
       "           Player5  game_id Location Outcome  spread  \n",
       "0      L. Williams      460     AWAY     WIN     9.0  \n",
       "3803    K. Singler      458     HOME     WIN     6.0  \n",
       "12503  J. Thompson      458     AWAY    LOSS     6.0  \n",
       "9242     K. Thomas      459     HOME    LOSS     5.0  \n",
       "11958  W. Matthews      459     AWAY     WIN     5.0  "
      ]
     },
     "execution_count": 247,
     "metadata": {},
     "output_type": "execute_result"
    }
   ],
   "source": [
    "schedule_lineup.head()"
   ]
  },
  {
   "cell_type": "code",
   "execution_count": 243,
   "metadata": {},
   "outputs": [],
   "source": [
    "def todays_games(date):\n",
    "    todays_games = list(set(schedule_lineup[schedule_lineup.date==date]['game_id'].to_list()))\n",
    "    return todays_games"
   ]
  },
  {
   "cell_type": "code",
   "execution_count": 248,
   "metadata": {},
   "outputs": [
    {
     "data": {
      "text/plain": [
       "[1355, 1356, 1357, 1358, 1359, 1360]"
      ]
     },
     "execution_count": 248,
     "metadata": {},
     "output_type": "execute_result"
    }
   ],
   "source": [
    "todays_games('2013-11-03')"
   ]
  },
  {
   "cell_type": "code",
   "execution_count": 255,
   "metadata": {},
   "outputs": [],
   "source": [
    "def home_team_starters(game_id):\n",
    "    home_row = schedule_lineup[(schedule_lineup.game_id==game_id) & (schedule_lineup.Location == 'HOME')]\n",
    "    home_lineup = list(list(home_row.values)[0][2:7])\n",
    "    return home_lineup\n",
    "\n",
    "def away_team_starters(game_id):\n",
    "    away_row = schedule_lineup[(schedule_lineup.game_id==game_id) & (schedule_lineup.Location == 'AWAY')]\n",
    "    list_of_opponents = list(list(away_row.values)[0][2:7])\n",
    "    return list_of_opponents"
   ]
  },
  {
   "cell_type": "code",
   "execution_count": 254,
   "metadata": {},
   "outputs": [
    {
     "data": {
      "text/plain": [
       "['C. Billups', 'W. Bynum', 'A. Drummond', 'G. Monroe', 'J. Smith']"
      ]
     },
     "execution_count": 254,
     "metadata": {},
     "output_type": "execute_result"
    }
   ],
   "source": [
    "home_team_starters(1355)"
   ]
  },
  {
   "cell_type": "code",
   "execution_count": 256,
   "metadata": {},
   "outputs": [
    {
     "data": {
      "text/plain": [
       "['B. Bass', 'A. Bradley', 'V. Faverani', 'J. Green', 'G. Wallace']"
      ]
     },
     "execution_count": 256,
     "metadata": {},
     "output_type": "execute_result"
    }
   ],
   "source": [
    "away_team_starters(1355)"
   ]
  },
  {
   "cell_type": "code",
   "execution_count": null,
   "metadata": {},
   "outputs": [],
   "source": [
    "def "
   ]
  },
  {
   "cell_type": "code",
   "execution_count": null,
   "metadata": {},
   "outputs": [],
   "source": []
  },
  {
   "cell_type": "code",
   "execution_count": null,
   "metadata": {},
   "outputs": [],
   "source": []
  },
  {
   "cell_type": "code",
   "execution_count": null,
   "metadata": {},
   "outputs": [],
   "source": []
  },
  {
   "cell_type": "markdown",
   "metadata": {},
   "source": [
    "### Convert Lineup to Slug"
   ]
  },
  {
   "cell_type": "code",
   "execution_count": 159,
   "metadata": {},
   "outputs": [
    {
     "data": {
      "text/html": [
       "<div>\n",
       "<style scoped>\n",
       "    .dataframe tbody tr th:only-of-type {\n",
       "        vertical-align: middle;\n",
       "    }\n",
       "\n",
       "    .dataframe tbody tr th {\n",
       "        vertical-align: top;\n",
       "    }\n",
       "\n",
       "    .dataframe thead th {\n",
       "        text-align: right;\n",
       "    }\n",
       "</style>\n",
       "<table border=\"1\" class=\"dataframe\">\n",
       "  <thead>\n",
       "    <tr style=\"text-align: right;\">\n",
       "      <th></th>\n",
       "      <th>Unnamed: 0</th>\n",
       "      <th>name</th>\n",
       "      <th>slug</th>\n",
       "      <th>year</th>\n",
       "      <th>Team</th>\n",
       "      <th>Lineup_name</th>\n",
       "    </tr>\n",
       "  </thead>\n",
       "  <tbody>\n",
       "    <tr>\n",
       "      <th>0</th>\n",
       "      <td>0</td>\n",
       "      <td>Jeff Adrien</td>\n",
       "      <td>adrieje01</td>\n",
       "      <td>2012</td>\n",
       "      <td>HOUSTON_ROCKETS</td>\n",
       "      <td>J. Adrien</td>\n",
       "    </tr>\n",
       "    <tr>\n",
       "      <th>1</th>\n",
       "      <td>1</td>\n",
       "      <td>Arron Afflalo</td>\n",
       "      <td>afflaar01</td>\n",
       "      <td>2012</td>\n",
       "      <td>DENVER_NUGGETS</td>\n",
       "      <td>A. Afflalo</td>\n",
       "    </tr>\n",
       "  </tbody>\n",
       "</table>\n",
       "</div>"
      ],
      "text/plain": [
       "   Unnamed: 0           name       slug  year             Team Lineup_name\n",
       "0           0    Jeff Adrien  adrieje01  2012  HOUSTON_ROCKETS   J. Adrien\n",
       "1           1  Arron Afflalo  afflaar01  2012   DENVER_NUGGETS  A. Afflalo"
      ]
     },
     "execution_count": 159,
     "metadata": {},
     "output_type": "execute_result"
    }
   ],
   "source": [
    "name_all_formats = pd.read_csv('../Resources/players_year_lineupname.csv')\n",
    "name_all_formats.head(2)"
   ]
  },
  {
   "cell_type": "code",
   "execution_count": 160,
   "metadata": {},
   "outputs": [
    {
     "data": {
      "text/html": [
       "<div>\n",
       "<style scoped>\n",
       "    .dataframe tbody tr th:only-of-type {\n",
       "        vertical-align: middle;\n",
       "    }\n",
       "\n",
       "    .dataframe tbody tr th {\n",
       "        vertical-align: top;\n",
       "    }\n",
       "\n",
       "    .dataframe thead th {\n",
       "        text-align: right;\n",
       "    }\n",
       "</style>\n",
       "<table border=\"1\" class=\"dataframe\">\n",
       "  <thead>\n",
       "    <tr style=\"text-align: right;\">\n",
       "      <th></th>\n",
       "      <th>name</th>\n",
       "      <th>slug</th>\n",
       "      <th>year</th>\n",
       "      <th>Team</th>\n",
       "      <th>Lineup_name</th>\n",
       "    </tr>\n",
       "  </thead>\n",
       "  <tbody>\n",
       "    <tr>\n",
       "      <th>0</th>\n",
       "      <td>Jeff Adrien</td>\n",
       "      <td>adrieje01</td>\n",
       "      <td>2012</td>\n",
       "      <td>HOUSTON_ROCKETS</td>\n",
       "      <td>J. Adrien</td>\n",
       "    </tr>\n",
       "    <tr>\n",
       "      <th>1</th>\n",
       "      <td>Arron Afflalo</td>\n",
       "      <td>afflaar01</td>\n",
       "      <td>2012</td>\n",
       "      <td>DENVER_NUGGETS</td>\n",
       "      <td>A. Afflalo</td>\n",
       "    </tr>\n",
       "  </tbody>\n",
       "</table>\n",
       "</div>"
      ],
      "text/plain": [
       "            name       slug  year             Team Lineup_name\n",
       "0    Jeff Adrien  adrieje01  2012  HOUSTON_ROCKETS   J. Adrien\n",
       "1  Arron Afflalo  afflaar01  2012   DENVER_NUGGETS  A. Afflalo"
      ]
     },
     "execution_count": 160,
     "metadata": {},
     "output_type": "execute_result"
    }
   ],
   "source": [
    "name_all_formats.drop(name_all_formats.columns[0],axis=1, inplace=True)\n",
    "name_all_formats.drop_duplicates(inplace=True)\n",
    "name_all_formats.head(2)"
   ]
  },
  {
   "cell_type": "code",
   "execution_count": 166,
   "metadata": {},
   "outputs": [
    {
     "data": {
      "text/html": [
       "<div>\n",
       "<style scoped>\n",
       "    .dataframe tbody tr th:only-of-type {\n",
       "        vertical-align: middle;\n",
       "    }\n",
       "\n",
       "    .dataframe tbody tr th {\n",
       "        vertical-align: top;\n",
       "    }\n",
       "\n",
       "    .dataframe thead th {\n",
       "        text-align: right;\n",
       "    }\n",
       "</style>\n",
       "<table border=\"1\" class=\"dataframe\">\n",
       "  <thead>\n",
       "    <tr style=\"text-align: right;\">\n",
       "      <th></th>\n",
       "      <th>name</th>\n",
       "      <th>slug</th>\n",
       "      <th>year</th>\n",
       "      <th>Team</th>\n",
       "      <th>Lineup_name</th>\n",
       "    </tr>\n",
       "  </thead>\n",
       "  <tbody>\n",
       "    <tr>\n",
       "      <th>1552</th>\n",
       "      <td>Dwyane Wade</td>\n",
       "      <td>wadedw01</td>\n",
       "      <td>2014</td>\n",
       "      <td>MIAMI_HEAT</td>\n",
       "      <td>D. Wade</td>\n",
       "    </tr>\n",
       "  </tbody>\n",
       "</table>\n",
       "</div>"
      ],
      "text/plain": [
       "             name      slug  year        Team Lineup_name\n",
       "1552  Dwyane Wade  wadedw01  2014  MIAMI_HEAT     D. Wade"
      ]
     },
     "execution_count": 166,
     "metadata": {},
     "output_type": "execute_result"
    }
   ],
   "source": [
    "name_all_formats[(name_all_formats.Lineup_name =='D. Wade') & (name_all_formats.year == 2014)]"
   ]
  },
  {
   "cell_type": "code",
   "execution_count": 175,
   "metadata": {},
   "outputs": [],
   "source": [
    "team_to_abbr_dict = {'ATLANTA_HAWKS': 'ATL',\n",
    " 'BOSTON_CELTICS': 'BOS',\n",
    " 'BROOKLYN_NETS': 'BRK', \n",
    " 'NEW_JERSEY_NETS': 'BRK',                  \n",
    " 'CHARLOTTE_BOBCATS': 'CHO',\n",
    " 'CHARLOTTE_HORNETS': 'CHO',\n",
    " 'CHICAGO_BULLS': 'CHI',\n",
    " 'CLEVELAND_CAVALIERS': 'CLE',\n",
    " 'DALLAS_MAVERICKS': 'DAL',\n",
    " 'DENVER_NUGGETS': 'DEN',\n",
    " 'DETROIT_PISTONS': 'DET',\n",
    " 'GOLDEN_STATE_WARRIORS': 'GSW',\n",
    " 'HOUSTON_ROCKETS': 'HOU',\n",
    " 'INDIANA_PACERS': 'IND',\n",
    " 'LOS_ANGELES_CLIPPERS': 'LAC',\n",
    " 'LOS_ANGELES_LAKERS': 'LAL',\n",
    " 'MEMPHIS_GRIZZLIES': 'MEM',\n",
    " 'MIAMI_HEAT': 'MIA',\n",
    " 'MILWAUKEE_BUCKS': 'MIL',\n",
    " 'MINNESOTA_TIMBERWOLVES': 'MIN',\n",
    " 'NEW_ORLEANS_HORNETS': 'NOP',\n",
    " 'NEW_ORLEANS_PELICANS': 'NOP',\n",
    " 'NEW_YORK_KNICKS': 'NYK',\n",
    " 'OKLAHOMA_CITY_THUNDER': 'OKC',\n",
    " 'ORLANDO_MAGIC': 'ORL',\n",
    " 'PHILADELPHIA_76ERS': 'PHI',\n",
    " 'PHOENIX_SUNS': 'PHO',\n",
    " 'PORTLAND_TRAIL_BLAZERS': 'POR',\n",
    " 'SACRAMENTO_KINGS': 'SAC',\n",
    " 'SAN_ANTONIO_SPURS': 'SAS',\n",
    " 'TORONTO_RAPTORS': 'TOR',\n",
    " 'UTAH_JAZZ': 'UTA',\n",
    " 'WASHINGTON_WIZARDS': 'WAS'}"
   ]
  },
  {
   "cell_type": "code",
   "execution_count": 178,
   "metadata": {},
   "outputs": [],
   "source": [
    "name_all_formats.Team = name_all_formats.Team.apply(lambda x: team_to_abbr_dict[x])"
   ]
  },
  {
   "cell_type": "code",
   "execution_count": 266,
   "metadata": {},
   "outputs": [
    {
     "data": {
      "text/html": [
       "<div>\n",
       "<style scoped>\n",
       "    .dataframe tbody tr th:only-of-type {\n",
       "        vertical-align: middle;\n",
       "    }\n",
       "\n",
       "    .dataframe tbody tr th {\n",
       "        vertical-align: top;\n",
       "    }\n",
       "\n",
       "    .dataframe thead th {\n",
       "        text-align: right;\n",
       "    }\n",
       "</style>\n",
       "<table border=\"1\" class=\"dataframe\">\n",
       "  <thead>\n",
       "    <tr style=\"text-align: right;\">\n",
       "      <th></th>\n",
       "      <th>name</th>\n",
       "      <th>slug</th>\n",
       "      <th>year</th>\n",
       "      <th>Team</th>\n",
       "      <th>Lineup_name</th>\n",
       "    </tr>\n",
       "  </thead>\n",
       "  <tbody>\n",
       "    <tr>\n",
       "      <th>0</th>\n",
       "      <td>Jeff Adrien</td>\n",
       "      <td>adrieje01</td>\n",
       "      <td>2012</td>\n",
       "      <td>HOU</td>\n",
       "      <td>J. Adrien</td>\n",
       "    </tr>\n",
       "    <tr>\n",
       "      <th>1</th>\n",
       "      <td>Arron Afflalo</td>\n",
       "      <td>afflaar01</td>\n",
       "      <td>2012</td>\n",
       "      <td>DEN</td>\n",
       "      <td>A. Afflalo</td>\n",
       "    </tr>\n",
       "  </tbody>\n",
       "</table>\n",
       "</div>"
      ],
      "text/plain": [
       "            name       slug  year Team Lineup_name\n",
       "0    Jeff Adrien  adrieje01  2012  HOU   J. Adrien\n",
       "1  Arron Afflalo  afflaar01  2012  DEN  A. Afflalo"
      ]
     },
     "execution_count": 266,
     "metadata": {},
     "output_type": "execute_result"
    }
   ],
   "source": [
    "name_all_formats.head(2)"
   ]
  },
  {
   "cell_type": "code",
   "execution_count": 267,
   "metadata": {},
   "outputs": [],
   "source": [
    "name_all_formats.to_csv('../Resources/name_all_formats.csv')"
   ]
  },
  {
   "cell_type": "markdown",
   "metadata": {},
   "source": [
    "## Function to find ```slug``` given ```year```, ```team``` and ```lineup_name```"
   ]
  },
  {
   "cell_type": "code",
   "execution_count": 257,
   "metadata": {},
   "outputs": [],
   "source": [
    "# def slug_finder(year, team, lineup_name):\n",
    "#     slug = name_all_formats[(name_all_formats.year == year) & \n",
    "#                             (name_all_formats.Lineup_name==lineup_name) & \n",
    "#                             (name_all_formats.Team==team)].iat[0,1]\n",
    "#     return slug    "
   ]
  },
  {
   "cell_type": "code",
   "execution_count": 264,
   "metadata": {},
   "outputs": [],
   "source": [
    "def slug_finder(team, lineup_name):\n",
    "    slug = name_all_formats[(name_all_formats.Lineup_name==lineup_name) & \n",
    "                            (name_all_formats.Team==team)].iat[0,1]\n",
    "    return slug    "
   ]
  },
  {
   "cell_type": "code",
   "execution_count": 265,
   "metadata": {},
   "outputs": [
    {
     "data": {
      "text/plain": [
       "'smithjr01'"
      ]
     },
     "execution_count": 265,
     "metadata": {},
     "output_type": "execute_result"
    }
   ],
   "source": [
    "slug_finder('NYK','J. Smith')"
   ]
  },
  {
   "cell_type": "markdown",
   "metadata": {},
   "source": [
    "## Function to match games among given slugs"
   ]
  },
  {
   "cell_type": "code",
   "execution_count": 183,
   "metadata": {},
   "outputs": [
    {
     "data": {
      "text/html": [
       "<div>\n",
       "<style scoped>\n",
       "    .dataframe tbody tr th:only-of-type {\n",
       "        vertical-align: middle;\n",
       "    }\n",
       "\n",
       "    .dataframe tbody tr th {\n",
       "        vertical-align: top;\n",
       "    }\n",
       "\n",
       "    .dataframe thead th {\n",
       "        text-align: right;\n",
       "    }\n",
       "</style>\n",
       "<table border=\"1\" class=\"dataframe\">\n",
       "  <thead>\n",
       "    <tr style=\"text-align: right;\">\n",
       "      <th></th>\n",
       "      <th>Unnamed: 0</th>\n",
       "      <th>slug</th>\n",
       "      <th>name</th>\n",
       "      <th>Team</th>\n",
       "      <th>Location</th>\n",
       "      <th>Opponent</th>\n",
       "      <th>Outcome</th>\n",
       "      <th>seconds_played</th>\n",
       "      <th>made_field_goals</th>\n",
       "      <th>attempted_field_goals</th>\n",
       "      <th>...</th>\n",
       "      <th>defensive_rebounds</th>\n",
       "      <th>assists</th>\n",
       "      <th>steals</th>\n",
       "      <th>blocks</th>\n",
       "      <th>turnovers</th>\n",
       "      <th>personal_fouls</th>\n",
       "      <th>game_score</th>\n",
       "      <th>date</th>\n",
       "      <th>game_id</th>\n",
       "      <th>spread</th>\n",
       "    </tr>\n",
       "  </thead>\n",
       "  <tbody>\n",
       "    <tr>\n",
       "      <th>0</th>\n",
       "      <td>0</td>\n",
       "      <td>anthoca01</td>\n",
       "      <td>Carmelo Anthony</td>\n",
       "      <td>NEW_YORK_KNICKS</td>\n",
       "      <td>HOME</td>\n",
       "      <td>PORTLAND_TRAIL_BLAZERS</td>\n",
       "      <td>LOSS</td>\n",
       "      <td>2472.0</td>\n",
       "      <td>14.0</td>\n",
       "      <td>24.0</td>\n",
       "      <td>...</td>\n",
       "      <td>5.0</td>\n",
       "      <td>4.0</td>\n",
       "      <td>1.0</td>\n",
       "      <td>0.0</td>\n",
       "      <td>2.0</td>\n",
       "      <td>3.0</td>\n",
       "      <td>36.5</td>\n",
       "      <td>2013-01-01</td>\n",
       "      <td>459</td>\n",
       "      <td>5</td>\n",
       "    </tr>\n",
       "    <tr>\n",
       "      <th>1</th>\n",
       "      <td>1</td>\n",
       "      <td>smithjr01</td>\n",
       "      <td>J.R. Smith</td>\n",
       "      <td>NEW_YORK_KNICKS</td>\n",
       "      <td>HOME</td>\n",
       "      <td>PORTLAND_TRAIL_BLAZERS</td>\n",
       "      <td>LOSS</td>\n",
       "      <td>2413.0</td>\n",
       "      <td>10.0</td>\n",
       "      <td>22.0</td>\n",
       "      <td>...</td>\n",
       "      <td>8.0</td>\n",
       "      <td>5.0</td>\n",
       "      <td>3.0</td>\n",
       "      <td>0.0</td>\n",
       "      <td>2.0</td>\n",
       "      <td>2.0</td>\n",
       "      <td>24.0</td>\n",
       "      <td>2013-01-01</td>\n",
       "      <td>459</td>\n",
       "      <td>5</td>\n",
       "    </tr>\n",
       "  </tbody>\n",
       "</table>\n",
       "<p>2 rows × 25 columns</p>\n",
       "</div>"
      ],
      "text/plain": [
       "   Unnamed: 0       slug             name             Team Location  \\\n",
       "0           0  anthoca01  Carmelo Anthony  NEW_YORK_KNICKS     HOME   \n",
       "1           1  smithjr01       J.R. Smith  NEW_YORK_KNICKS     HOME   \n",
       "\n",
       "                 Opponent Outcome  seconds_played  made_field_goals  \\\n",
       "0  PORTLAND_TRAIL_BLAZERS    LOSS          2472.0              14.0   \n",
       "1  PORTLAND_TRAIL_BLAZERS    LOSS          2413.0              10.0   \n",
       "\n",
       "   attempted_field_goals  ...  defensive_rebounds  assists  steals  blocks  \\\n",
       "0                   24.0  ...                 5.0      4.0     1.0     0.0   \n",
       "1                   22.0  ...                 8.0      5.0     3.0     0.0   \n",
       "\n",
       "   turnovers  personal_fouls  game_score        date  game_id  spread  \n",
       "0        2.0             3.0        36.5  2013-01-01      459       5  \n",
       "1        2.0             2.0        24.0  2013-01-01      459       5  \n",
       "\n",
       "[2 rows x 25 columns]"
      ]
     },
     "execution_count": 183,
     "metadata": {},
     "output_type": "execute_result"
    }
   ],
   "source": [
    "encoded_box_scores.head(2)"
   ]
  },
  {
   "cell_type": "code",
   "execution_count": 187,
   "metadata": {},
   "outputs": [
    {
     "data": {
      "text/plain": [
       "574"
      ]
     },
     "execution_count": 187,
     "metadata": {},
     "output_type": "execute_result"
    }
   ],
   "source": [
    "encoded_box_scores[encoded_box_scores.slug == 'duranke01']['game_id'].to_list()[3]"
   ]
  },
  {
   "cell_type": "code",
   "execution_count": 200,
   "metadata": {},
   "outputs": [],
   "source": [
    "from collections import Counter"
   ]
  },
  {
   "cell_type": "code",
   "execution_count": 234,
   "metadata": {},
   "outputs": [],
   "source": [
    "def get_game_ids(slug):\n",
    "    game_ids = encoded_box_scores[encoded_box_scores.slug == slug]['game_id'].to_list()\n",
    "    return game_ids\n",
    "\n",
    "def opponent_in_games(list_of_opponents):\n",
    "    opponent_ids = encoded_box_scores[encoded_box_scores.slug.isin(list_of_opponents)]['game_id'].to_list()\n",
    "    return opponent_ids\n",
    "\n",
    "def common_games(game_ids, opponent_ids):\n",
    "    common_games = [value for value in opponent_ids if value in game_ids]\n",
    "    return common_games\n",
    "\n",
    "def calculate_matchup_box_scores(slug, common_games):\n",
    "    average_scores = encoded_box_scores[(encoded_box_scores.slug==slug) & (encoded_box_scores.game_id.isin(common_games))].mean()\n",
    "    list_of_averages = list(average_scores[1:-2])\n",
    "    return list_of_averages\n",
    "    \n",
    "\n",
    "    "
   ]
  },
  {
   "cell_type": "code",
   "execution_count": 219,
   "metadata": {},
   "outputs": [
    {
     "data": {
      "text/plain": [
       "[471, 484, 521, 574, 681]"
      ]
     },
     "execution_count": 219,
     "metadata": {},
     "output_type": "execute_result"
    }
   ],
   "source": [
    "list_of_ids = opponent_in_games(['duranke01'])[:5]\n",
    "list_of_ids"
   ]
  },
  {
   "cell_type": "code",
   "execution_count": 212,
   "metadata": {},
   "outputs": [
    {
     "data": {
      "text/plain": [
       "3"
      ]
     },
     "execution_count": 212,
     "metadata": {},
     "output_type": "execute_result"
    }
   ],
   "source": [
    "a = dict(Counter(list_of_ids))\n",
    "a[471]"
   ]
  },
  {
   "cell_type": "code",
   "execution_count": 216,
   "metadata": {},
   "outputs": [
    {
     "name": "stdout",
     "output_type": "stream",
     "text": [
      "[9, 9, 9, 9, 11, 26, 28]\n"
     ]
    }
   ],
   "source": [
    "### TEST CASE\n",
    "\n",
    "def intersection(lst1, lst2): \n",
    "    lst3 = [value for value in lst1 if value in lst2] \n",
    "    return lst3 \n",
    "  \n",
    "# Driver Code \n",
    "lst1 = [4, 9, 1,9, 9,9,17, 11, 26, 28, 54, 69] \n",
    "lst2 = [9, 9, 74, 21, 45, 11, 63, 28, 26] \n",
    "print(intersection(lst1, lst2)) "
   ]
  },
  {
   "cell_type": "code",
   "execution_count": 226,
   "metadata": {},
   "outputs": [
    {
     "data": {
      "text/html": [
       "<div>\n",
       "<style scoped>\n",
       "    .dataframe tbody tr th:only-of-type {\n",
       "        vertical-align: middle;\n",
       "    }\n",
       "\n",
       "    .dataframe tbody tr th {\n",
       "        vertical-align: top;\n",
       "    }\n",
       "\n",
       "    .dataframe thead th {\n",
       "        text-align: right;\n",
       "    }\n",
       "</style>\n",
       "<table border=\"1\" class=\"dataframe\">\n",
       "  <thead>\n",
       "    <tr style=\"text-align: right;\">\n",
       "      <th></th>\n",
       "      <th>Unnamed: 0</th>\n",
       "      <th>slug</th>\n",
       "      <th>name</th>\n",
       "      <th>Team</th>\n",
       "      <th>Location</th>\n",
       "      <th>Opponent</th>\n",
       "      <th>Outcome</th>\n",
       "      <th>seconds_played</th>\n",
       "      <th>made_field_goals</th>\n",
       "      <th>attempted_field_goals</th>\n",
       "      <th>...</th>\n",
       "      <th>defensive_rebounds</th>\n",
       "      <th>assists</th>\n",
       "      <th>steals</th>\n",
       "      <th>blocks</th>\n",
       "      <th>turnovers</th>\n",
       "      <th>personal_fouls</th>\n",
       "      <th>game_score</th>\n",
       "      <th>date</th>\n",
       "      <th>game_id</th>\n",
       "      <th>spread</th>\n",
       "    </tr>\n",
       "  </thead>\n",
       "  <tbody>\n",
       "    <tr>\n",
       "      <th>69</th>\n",
       "      <td>69</td>\n",
       "      <td>duranke01</td>\n",
       "      <td>Kevin Durant</td>\n",
       "      <td>OKLAHOMA_CITY_THUNDER</td>\n",
       "      <td>HOME</td>\n",
       "      <td>BROOKLYN_NETS</td>\n",
       "      <td>LOSS</td>\n",
       "      <td>2481.0</td>\n",
       "      <td>11.0</td>\n",
       "      <td>17.0</td>\n",
       "      <td>...</td>\n",
       "      <td>5.0</td>\n",
       "      <td>5.0</td>\n",
       "      <td>2.0</td>\n",
       "      <td>0.0</td>\n",
       "      <td>5.0</td>\n",
       "      <td>3.0</td>\n",
       "      <td>19.9</td>\n",
       "      <td>2013-01-02</td>\n",
       "      <td>471</td>\n",
       "      <td>17</td>\n",
       "    </tr>\n",
       "    <tr>\n",
       "      <th>213</th>\n",
       "      <td>213</td>\n",
       "      <td>duranke01</td>\n",
       "      <td>Kevin Durant</td>\n",
       "      <td>OKLAHOMA_CITY_THUNDER</td>\n",
       "      <td>HOME</td>\n",
       "      <td>PHILADELPHIA_76ERS</td>\n",
       "      <td>WIN</td>\n",
       "      <td>2164.0</td>\n",
       "      <td>8.0</td>\n",
       "      <td>15.0</td>\n",
       "      <td>...</td>\n",
       "      <td>6.0</td>\n",
       "      <td>3.0</td>\n",
       "      <td>1.0</td>\n",
       "      <td>0.0</td>\n",
       "      <td>2.0</td>\n",
       "      <td>0.0</td>\n",
       "      <td>21.2</td>\n",
       "      <td>2013-01-04</td>\n",
       "      <td>484</td>\n",
       "      <td>24</td>\n",
       "    </tr>\n",
       "    <tr>\n",
       "      <th>616</th>\n",
       "      <td>616</td>\n",
       "      <td>duranke01</td>\n",
       "      <td>Kevin Durant</td>\n",
       "      <td>OKLAHOMA_CITY_THUNDER</td>\n",
       "      <td>HOME</td>\n",
       "      <td>MINNESOTA_TIMBERWOLVES</td>\n",
       "      <td>WIN</td>\n",
       "      <td>2045.0</td>\n",
       "      <td>10.0</td>\n",
       "      <td>17.0</td>\n",
       "      <td>...</td>\n",
       "      <td>8.0</td>\n",
       "      <td>3.0</td>\n",
       "      <td>3.0</td>\n",
       "      <td>4.0</td>\n",
       "      <td>3.0</td>\n",
       "      <td>2.0</td>\n",
       "      <td>24.6</td>\n",
       "      <td>2013-01-09</td>\n",
       "      <td>521</td>\n",
       "      <td>22</td>\n",
       "    </tr>\n",
       "    <tr>\n",
       "      <th>1197</th>\n",
       "      <td>1197</td>\n",
       "      <td>duranke01</td>\n",
       "      <td>Kevin Durant</td>\n",
       "      <td>OKLAHOMA_CITY_THUNDER</td>\n",
       "      <td>HOME</td>\n",
       "      <td>DENVER_NUGGETS</td>\n",
       "      <td>WIN</td>\n",
       "      <td>1715.0</td>\n",
       "      <td>7.0</td>\n",
       "      <td>12.0</td>\n",
       "      <td>...</td>\n",
       "      <td>2.0</td>\n",
       "      <td>4.0</td>\n",
       "      <td>5.0</td>\n",
       "      <td>0.0</td>\n",
       "      <td>3.0</td>\n",
       "      <td>2.0</td>\n",
       "      <td>18.6</td>\n",
       "      <td>2013-01-16</td>\n",
       "      <td>574</td>\n",
       "      <td>20</td>\n",
       "    </tr>\n",
       "    <tr>\n",
       "      <th>2369</th>\n",
       "      <td>2369</td>\n",
       "      <td>duranke01</td>\n",
       "      <td>Kevin Durant</td>\n",
       "      <td>OKLAHOMA_CITY_THUNDER</td>\n",
       "      <td>HOME</td>\n",
       "      <td>MEMPHIS_GRIZZLIES</td>\n",
       "      <td>WIN</td>\n",
       "      <td>2271.0</td>\n",
       "      <td>10.0</td>\n",
       "      <td>16.0</td>\n",
       "      <td>...</td>\n",
       "      <td>7.0</td>\n",
       "      <td>6.0</td>\n",
       "      <td>1.0</td>\n",
       "      <td>1.0</td>\n",
       "      <td>2.0</td>\n",
       "      <td>1.0</td>\n",
       "      <td>24.6</td>\n",
       "      <td>2013-01-31</td>\n",
       "      <td>681</td>\n",
       "      <td>17</td>\n",
       "    </tr>\n",
       "  </tbody>\n",
       "</table>\n",
       "<p>5 rows × 25 columns</p>\n",
       "</div>"
      ],
      "text/plain": [
       "      Unnamed: 0       slug          name                   Team Location  \\\n",
       "69            69  duranke01  Kevin Durant  OKLAHOMA_CITY_THUNDER     HOME   \n",
       "213          213  duranke01  Kevin Durant  OKLAHOMA_CITY_THUNDER     HOME   \n",
       "616          616  duranke01  Kevin Durant  OKLAHOMA_CITY_THUNDER     HOME   \n",
       "1197        1197  duranke01  Kevin Durant  OKLAHOMA_CITY_THUNDER     HOME   \n",
       "2369        2369  duranke01  Kevin Durant  OKLAHOMA_CITY_THUNDER     HOME   \n",
       "\n",
       "                    Opponent Outcome  seconds_played  made_field_goals  \\\n",
       "69             BROOKLYN_NETS    LOSS          2481.0              11.0   \n",
       "213       PHILADELPHIA_76ERS     WIN          2164.0               8.0   \n",
       "616   MINNESOTA_TIMBERWOLVES     WIN          2045.0              10.0   \n",
       "1197          DENVER_NUGGETS     WIN          1715.0               7.0   \n",
       "2369       MEMPHIS_GRIZZLIES     WIN          2271.0              10.0   \n",
       "\n",
       "      attempted_field_goals  ...  defensive_rebounds  assists  steals  blocks  \\\n",
       "69                     17.0  ...                 5.0      5.0     2.0     0.0   \n",
       "213                    15.0  ...                 6.0      3.0     1.0     0.0   \n",
       "616                    17.0  ...                 8.0      3.0     3.0     4.0   \n",
       "1197                   12.0  ...                 2.0      4.0     5.0     0.0   \n",
       "2369                   16.0  ...                 7.0      6.0     1.0     1.0   \n",
       "\n",
       "      turnovers  personal_fouls  game_score        date  game_id  spread  \n",
       "69          5.0             3.0        19.9  2013-01-02      471      17  \n",
       "213         2.0             0.0        21.2  2013-01-04      484      24  \n",
       "616         3.0             2.0        24.6  2013-01-09      521      22  \n",
       "1197        3.0             2.0        18.6  2013-01-16      574      20  \n",
       "2369        2.0             1.0        24.6  2013-01-31      681      17  \n",
       "\n",
       "[5 rows x 25 columns]"
      ]
     },
     "execution_count": 226,
     "metadata": {},
     "output_type": "execute_result"
    }
   ],
   "source": [
    "encoded_box_scores[(encoded_box_scores.slug=='duranke01') & \n",
    "                   (encoded_box_scores.game_id.isin(list_of_ids))]"
   ]
  },
  {
   "cell_type": "code",
   "execution_count": 228,
   "metadata": {},
   "outputs": [
    {
     "data": {
      "text/plain": [
       "Unnamed: 0                            892.80\n",
       "seconds_played                       2135.20\n",
       "made_field_goals                        9.20\n",
       "attempted_field_goals                  15.40\n",
       "made_three_point_field_goals            1.40\n",
       "attempted_three_point_field_goals       4.00\n",
       "made_free_throws                        5.40\n",
       "attempted_free_throws                   6.40\n",
       "offensive_rebounds                      0.00\n",
       "defensive_rebounds                      5.60\n",
       "assists                                 4.20\n",
       "steals                                  2.40\n",
       "blocks                                  1.00\n",
       "turnovers                               3.00\n",
       "personal_fouls                          1.60\n",
       "game_score                             21.78\n",
       "game_id                               546.20\n",
       "spread                                 20.00\n",
       "dtype: float64"
      ]
     },
     "execution_count": 228,
     "metadata": {},
     "output_type": "execute_result"
    }
   ],
   "source": [
    "average_stats = encoded_box_scores[(encoded_box_scores.slug=='duranke01') & \n",
    "                   (encoded_box_scores.game_id.isin(list_of_ids))].mean()\n",
    "average_stats"
   ]
  },
  {
   "cell_type": "code",
   "execution_count": 233,
   "metadata": {},
   "outputs": [
    {
     "data": {
      "text/plain": [
       "[2135.2,\n",
       " 9.2,\n",
       " 15.4,\n",
       " 1.4,\n",
       " 4.0,\n",
       " 5.4,\n",
       " 6.4,\n",
       " 0.0,\n",
       " 5.6,\n",
       " 4.2,\n",
       " 2.4,\n",
       " 1.0,\n",
       " 3.0,\n",
       " 1.6,\n",
       " 21.779999999999994]"
      ]
     },
     "execution_count": 233,
     "metadata": {},
     "output_type": "execute_result"
    }
   ],
   "source": [
    "list(average_stats[1:-2])"
   ]
  },
  {
   "cell_type": "code",
   "execution_count": null,
   "metadata": {},
   "outputs": [],
   "source": []
  }
 ],
 "metadata": {
  "kernelspec": {
   "display_name": "Python 3",
   "language": "python",
   "name": "python3"
  },
  "language_info": {
   "codemirror_mode": {
    "name": "ipython",
    "version": 3
   },
   "file_extension": ".py",
   "mimetype": "text/x-python",
   "name": "python",
   "nbconvert_exporter": "python",
   "pygments_lexer": "ipython3",
   "version": "3.7.3"
  }
 },
 "nbformat": 4,
 "nbformat_minor": 4
}
