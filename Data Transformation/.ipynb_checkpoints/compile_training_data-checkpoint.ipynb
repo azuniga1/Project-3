{
 "cells": [
  {
   "cell_type": "markdown",
   "metadata": {},
   "source": [
    "# **Compile Training Set**"
   ]
  },
  {
   "cell_type": "code",
   "execution_count": 1,
   "metadata": {},
   "outputs": [],
   "source": [
    "import pandas as pd"
   ]
  },
  {
   "cell_type": "code",
   "execution_count": 2,
   "metadata": {},
   "outputs": [],
   "source": [
    "encoded_box_scores = pd.read_csv('../Resources/encoded_box_scores.csv')\n",
    "advanced_stats = pd.read_csv('../Resources/adv_stats_all_slug.csv')\n",
    "usage_stats = pd.read_csv('../Resources/all_usage_clean.csv')"
   ]
  },
  {
   "cell_type": "markdown",
   "metadata": {},
   "source": [
    "## Function to convert date to past season's year"
   ]
  },
  {
   "cell_type": "code",
   "execution_count": 5,
   "metadata": {},
   "outputs": [],
   "source": [
    "encoded_box_scores.date = pd.to_datetime(encoded_box_scores.date)"
   ]
  },
  {
   "cell_type": "code",
   "execution_count": 9,
   "metadata": {},
   "outputs": [
    {
     "data": {
      "text/plain": [
       "Unnamed: 0                                    int64\n",
       "slug                                         object\n",
       "name                                         object\n",
       "Team                                         object\n",
       "Location                                     object\n",
       "Opponent                                     object\n",
       "Outcome                                      object\n",
       "seconds_played                              float64\n",
       "made_field_goals                            float64\n",
       "attempted_field_goals                       float64\n",
       "made_three_point_field_goals                float64\n",
       "attempted_three_point_field_goals           float64\n",
       "made_free_throws                            float64\n",
       "attempted_free_throws                       float64\n",
       "offensive_rebounds                          float64\n",
       "defensive_rebounds                          float64\n",
       "assists                                     float64\n",
       "steals                                      float64\n",
       "blocks                                      float64\n",
       "turnovers                                   float64\n",
       "personal_fouls                              float64\n",
       "game_score                                  float64\n",
       "date                                 datetime64[ns]\n",
       "game_id                                       int64\n",
       "spread                                        int64\n",
       "dtype: object"
      ]
     },
     "execution_count": 9,
     "metadata": {},
     "output_type": "execute_result"
    }
   ],
   "source": [
    "encoded_box_scores.dtypes"
   ]
  },
  {
   "cell_type": "markdown",
   "metadata": {},
   "source": [
    "# Get ```adv_stats``` "
   ]
  },
  {
   "cell_type": "code",
   "execution_count": null,
   "metadata": {},
   "outputs": [],
   "source": []
  },
  {
   "cell_type": "markdown",
   "metadata": {},
   "source": [
    "# Get ```all_usage_clean```"
   ]
  },
  {
   "cell_type": "code",
   "execution_count": null,
   "metadata": {},
   "outputs": [],
   "source": []
  },
  {
   "cell_type": "markdown",
   "metadata": {},
   "source": [
    "# Get ```game_match``` stats"
   ]
  },
  {
   "cell_type": "code",
   "execution_count": null,
   "metadata": {},
   "outputs": [],
   "source": []
  }
 ],
 "metadata": {
  "kernelspec": {
   "display_name": "Python 3",
   "language": "python",
   "name": "python3"
  },
  "language_info": {
   "codemirror_mode": {
    "name": "ipython",
    "version": 3
   },
   "file_extension": ".py",
   "mimetype": "text/x-python",
   "name": "python",
   "nbconvert_exporter": "python",
   "pygments_lexer": "ipython3",
   "version": "3.7.1"
  }
 },
 "nbformat": 4,
 "nbformat_minor": 4
}
