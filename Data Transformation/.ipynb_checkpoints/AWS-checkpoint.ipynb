{
 "cells": [
  {
   "cell_type": "markdown",
   "metadata": {},
   "source": [
    "# Connecting to AWS RDS PostgresSQL"
   ]
  },
  {
   "cell_type": "code",
   "execution_count": null,
   "metadata": {},
   "outputs": [],
   "source": [
    "import psycopg2\n",
    "import pandas as pd"
   ]
  },
  {
   "cell_type": "code",
   "execution_count": 162,
   "metadata": {},
   "outputs": [],
   "source": [
    "connection = psycopg2.connect(\n",
    "    host = 'project3.cdr354qikgy9.us-east-2.rds.amazonaws.com',\n",
    "    port = 5431,\n",
    "    user = 'NBA',\n",
    "    password = 'NBAFun23!',\n",
    "    database='NBA_predictor'\n",
    "    )\n",
    "\n",
    "#cursor object interacts and executes the commands on the Postgres database \n",
    "cursor=connection.cursor()"
   ]
  },
  {
   "cell_type": "code",
   "execution_count": 205,
   "metadata": {},
   "outputs": [
    {
     "data": {
      "text/plain": [
       "[('public', 'cities_test', 'NBA', None, False, False, False, False)]"
      ]
     },
     "execution_count": 205,
     "metadata": {},
     "output_type": "execute_result"
    }
   ],
   "source": [
    "#check what is in the database\n",
    "query = \"\"\"SELECT * FROM pg_catalog.pg_tables\n",
    "            WHERE schemaname != 'pg_catalog'\n",
    "            AND schemaname != 'information_schema';\"\"\"\n",
    "cursor.execute(query)\n",
    "cursor.fetchall()"
   ]
  },
  {
   "cell_type": "markdown",
   "metadata": {},
   "source": [
    "### Test Table "
   ]
  },
  {
   "cell_type": "markdown",
   "metadata": {},
   "source": [
    "#### Create Test Table"
   ]
  },
  {
   "cell_type": "code",
   "execution_count": 163,
   "metadata": {},
   "outputs": [],
   "source": [
    "sqlCreateTable  = \"CREATE TABLE Cities_test(id bigint, cityname varchar(128), latitude numeric, longitude numeric);\";\n",
    "cursor.execute(sqlCreateTable);\n",
    "\n",
    "connection.commit()"
   ]
  },
  {
   "cell_type": "code",
   "execution_count": null,
   "metadata": {},
   "outputs": [],
   "source": [
    "#another example:\n",
    "#cursor.execute(\"\"\"CREATE TABLE table_1\n",
    "                #(column_1 integer, \n",
    "                #column_2 float,\n",
    "                #column_3 varchar(50),\n",
    "                #column_4 boolean);\"\"\");\n",
    "#Commit table creation\n",
    "#connection.commit()"
   ]
  },
  {
   "cell_type": "markdown",
   "metadata": {},
   "source": [
    "#### Insert Values Into Test Table"
   ]
  },
  {
   "cell_type": "code",
   "execution_count": 177,
   "metadata": {},
   "outputs": [],
   "source": [
    "sqlInsertRow1  = \"INSERT INTO Cities_test values(1, 'New York City', 40.73, -73.93)\";\n",
    "cursor.execute(sqlInsertRow1);\n",
    "sqlInsertRow2  = \"INSERT INTO Cities_test values(2, 'Miami', 42, -76)\";\n",
    "cursor.execute(sqlInsertRow2);\n",
    "connection.commit()"
   ]
  },
  {
   "cell_type": "code",
   "execution_count": null,
   "metadata": {},
   "outputs": [],
   "source": [
    "#data = [1, 2.2, 'three', True]\n",
    "#insert_query = \"\"\"INSERT INTO table_8\n",
    "                   #(column_1, column_2, column_3, column_4)\n",
    "                   #VALUES (%s, %s, %s, %s);\"\"\"\n",
    "# execute insert\n",
    "#cursor.execute(insert_query, data)\n",
    "            \n",
    "# commit data insert\n",
    "#connection.commit()"
   ]
  },
  {
   "cell_type": "markdown",
   "metadata": {},
   "source": [
    "##### Inserting Values from a CSV file "
   ]
  },
  {
   "cell_type": "code",
   "execution_count": null,
   "metadata": {},
   "outputs": [],
   "source": [
    "#inserting .csv files using copy_from() into table  \n",
    "#with open('passengers.csv', 'r') as row:\n",
    "    # Skip the header row\n",
    "    #next(row)\n",
    "    #cursor.copy_from(row, 'passengers', sep=',')\n",
    "    \n",
    "#with open('survival.csv', 'r') as row:\n",
    "    #next(row) \n",
    "    #cursor.copy_from(row, 'survival', sep=',')\n",
    "\n",
    "#with open('trip_info.csv', 'r') as row:\n",
    "    #next(row)\n",
    "    #cursor.copy_from(row, 'tripInfo', sep=',')"
   ]
  },
  {
   "cell_type": "code",
   "execution_count": null,
   "metadata": {},
   "outputs": [],
   "source": [
    "#loading data using pd.read_sql\n",
    "\n",
    "#def load_data(schema, table):\n",
    "\n",
    "    #sql_command = \"SELECT * FROM {}.{};\".format(str(schema), str(table))\n",
    "    #print (sql_command)\n",
    "\n",
    "    # Load the data\n",
    "    #data = pd.read_sql(sql_command, conn)\n",
    "\n",
    "    #print(data.shape)\n",
    "    #return (data)"
   ]
  },
  {
   "cell_type": "markdown",
   "metadata": {},
   "source": [
    "#### Query Test Table Data"
   ]
  },
  {
   "cell_type": "code",
   "execution_count": 202,
   "metadata": {},
   "outputs": [
    {
     "data": {
      "text/plain": [
       "[(1, 'New York City', Decimal('40.73'), Decimal('-73.93')),\n",
       " (2, 'Miami', Decimal('42'), Decimal('-76'))]"
      ]
     },
     "execution_count": 202,
     "metadata": {},
     "output_type": "execute_result"
    }
   ],
   "source": [
    "#query output as a list of each row\n",
    "sql = cursor.execute(\"SELECT * from Cities_test\");\n",
    "rows = cursor.fetchall();\n",
    "rows"
   ]
  },
  {
   "cell_type": "code",
   "execution_count": 201,
   "metadata": {},
   "outputs": [
    {
     "data": {
      "text/html": [
       "<div>\n",
       "<style scoped>\n",
       "    .dataframe tbody tr th:only-of-type {\n",
       "        vertical-align: middle;\n",
       "    }\n",
       "\n",
       "    .dataframe tbody tr th {\n",
       "        vertical-align: top;\n",
       "    }\n",
       "\n",
       "    .dataframe thead th {\n",
       "        text-align: right;\n",
       "    }\n",
       "</style>\n",
       "<table border=\"1\" class=\"dataframe\">\n",
       "  <thead>\n",
       "    <tr style=\"text-align: right;\">\n",
       "      <th></th>\n",
       "      <th>id</th>\n",
       "      <th>cityname</th>\n",
       "      <th>latitude</th>\n",
       "      <th>longitude</th>\n",
       "    </tr>\n",
       "  </thead>\n",
       "  <tbody>\n",
       "    <tr>\n",
       "      <td>0</td>\n",
       "      <td>1</td>\n",
       "      <td>New York City</td>\n",
       "      <td>40.73</td>\n",
       "      <td>-73.93</td>\n",
       "    </tr>\n",
       "    <tr>\n",
       "      <td>1</td>\n",
       "      <td>2</td>\n",
       "      <td>Miami</td>\n",
       "      <td>42.00</td>\n",
       "      <td>-76.00</td>\n",
       "    </tr>\n",
       "  </tbody>\n",
       "</table>\n",
       "</div>"
      ],
      "text/plain": [
       "   id       cityname  latitude  longitude\n",
       "0   1  New York City     40.73     -73.93\n",
       "1   2          Miami     42.00     -76.00"
      ]
     },
     "execution_count": 201,
     "metadata": {},
     "output_type": "execute_result"
    }
   ],
   "source": [
    "#read in the query to DataFrame using read_sql\n",
    "\n",
    "sql = \"\"\"\n",
    "SELECT * from Cities_test\n",
    "\"\"\"\n",
    "\n",
    "pd.read_sql(sql, con=connection)"
   ]
  },
  {
   "cell_type": "markdown",
   "metadata": {},
   "source": [
    "\n",
    "#### Drop Test Table"
   ]
  },
  {
   "cell_type": "code",
   "execution_count": 210,
   "metadata": {},
   "outputs": [],
   "source": [
    "cursor.execute(\"\"\"DROP TABLE Cities_test\"\"\")\n",
    "connection.commit()"
   ]
  },
  {
   "cell_type": "code",
   "execution_count": 209,
   "metadata": {},
   "outputs": [],
   "source": [
    "connection.rollback()"
   ]
  },
  {
   "cell_type": "code",
   "execution_count": null,
   "metadata": {},
   "outputs": [],
   "source": []
  }
 ],
 "metadata": {
  "kernelspec": {
   "display_name": "Python 3",
   "language": "python",
   "name": "python3"
  },
  "language_info": {
   "codemirror_mode": {
    "name": "ipython",
    "version": 3
   },
   "file_extension": ".py",
   "mimetype": "text/x-python",
   "name": "python",
   "nbconvert_exporter": "python",
   "pygments_lexer": "ipython3",
   "version": "3.7.3"
  }
 },
 "nbformat": 4,
 "nbformat_minor": 4
}
