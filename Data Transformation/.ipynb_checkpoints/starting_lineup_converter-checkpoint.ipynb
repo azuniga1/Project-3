{
 "cells": [
  {
   "cell_type": "markdown",
   "metadata": {},
   "source": [
    "# Starting Lineup Converter"
   ]
  },
  {
   "cell_type": "code",
   "execution_count": 2,
   "metadata": {},
   "outputs": [],
   "source": [
    "from basketball_reference_web_scraper import client\n",
    "import pandas as pd\n",
    "import numpy as np"
   ]
  },
  {
   "cell_type": "markdown",
   "metadata": {},
   "source": [
    "## Player Name Converter"
   ]
  },
  {
   "cell_type": "code",
   "execution_count": 20,
   "metadata": {},
   "outputs": [],
   "source": [
    "def get_ids(year):\n",
    "    df = pd.DataFrame(client.players_season_totals(year))\n",
    "    new_df = df[['name','slug']].copy()\n",
    "    return new_df"
   ]
  },
  {
   "cell_type": "code",
   "execution_count": 52,
   "metadata": {},
   "outputs": [
    {
     "data": {
      "text/html": [
       "<div>\n",
       "<style scoped>\n",
       "    .dataframe tbody tr th:only-of-type {\n",
       "        vertical-align: middle;\n",
       "    }\n",
       "\n",
       "    .dataframe tbody tr th {\n",
       "        vertical-align: top;\n",
       "    }\n",
       "\n",
       "    .dataframe thead th {\n",
       "        text-align: right;\n",
       "    }\n",
       "</style>\n",
       "<table border=\"1\" class=\"dataframe\">\n",
       "  <thead>\n",
       "    <tr style=\"text-align: right;\">\n",
       "      <th></th>\n",
       "      <th>name</th>\n",
       "      <th>Lineup_name</th>\n",
       "    </tr>\n",
       "  </thead>\n",
       "  <tbody>\n",
       "    <tr>\n",
       "      <th>0</th>\n",
       "      <td>Steven Adams</td>\n",
       "      <td>S. Adams</td>\n",
       "    </tr>\n",
       "    <tr>\n",
       "      <th>1</th>\n",
       "      <td>Bam Adebayo</td>\n",
       "      <td>B. Adebayo</td>\n",
       "    </tr>\n",
       "    <tr>\n",
       "      <th>2</th>\n",
       "      <td>LaMarcus Aldridge</td>\n",
       "      <td>L. Aldridge</td>\n",
       "    </tr>\n",
       "    <tr>\n",
       "      <th>3</th>\n",
       "      <td>Nickeil Alexander-Walker</td>\n",
       "      <td>N. Alexander-Walker</td>\n",
       "    </tr>\n",
       "    <tr>\n",
       "      <th>4</th>\n",
       "      <td>Grayson Allen</td>\n",
       "      <td>G. Allen</td>\n",
       "    </tr>\n",
       "  </tbody>\n",
       "</table>\n",
       "</div>"
      ],
      "text/plain": [
       "                       name          Lineup_name\n",
       "0              Steven Adams             S. Adams\n",
       "1               Bam Adebayo           B. Adebayo\n",
       "2         LaMarcus Aldridge          L. Aldridge\n",
       "3  Nickeil Alexander-Walker  N. Alexander-Walker\n",
       "4             Grayson Allen             G. Allen"
      ]
     },
     "execution_count": 52,
     "metadata": {},
     "output_type": "execute_result"
    }
   ],
   "source": [
    "name_index = get_ids(2020)\n",
    "name = name_index[\"name\"].str.split(\" \", n = -1, expand = True)\n",
    "name.columns = ['first','last']\n",
    "name['Lineup_name'] = name['first'].str[0]+'. '+ name['last'].str[:]\n",
    "\n",
    "lineup_df = pd.concat([name_index, name], axis='columns')\n",
    "lineup_df.drop(columns=['first','last','slug'], inplace=True)\n",
    "lineup_df.head()"
   ]
  },
  {
   "cell_type": "code",
   "execution_count": 58,
   "metadata": {},
   "outputs": [
    {
     "name": "stderr",
     "output_type": "stream",
     "text": [
      "C:\\Users\\ekuo651\\Anaconda3\\lib\\site-packages\\ipykernel_launcher.py:3: UserWarning: DataFrame columns are not unique, some columns will be omitted.\n",
      "  This is separate from the ipykernel package so we can avoid doing imports until\n"
     ]
    }
   ],
   "source": [
    "lineup_df.index = lineup_df['Lineup_name']\n",
    "lineup_df.drop(columns=['Lineup_name'],inplace=True)\n",
    "player_dict = lineup_df.T.to_dict('list')"
   ]
  },
  {
   "cell_type": "code",
   "execution_count": 62,
   "metadata": {},
   "outputs": [],
   "source": [
    "def name_converter(string):\n",
    "    name = player_dict[string]\n",
    "    return name"
   ]
  },
  {
   "cell_type": "code",
   "execution_count": 63,
   "metadata": {},
   "outputs": [
    {
     "data": {
      "text/plain": [
       "['LaMarcus Aldridge']"
      ]
     },
     "execution_count": 63,
     "metadata": {},
     "output_type": "execute_result"
    }
   ],
   "source": [
    "name_converter('L. Aldridge')"
   ]
  },
  {
   "cell_type": "markdown",
   "metadata": {},
   "source": [
    "## Team to Player Name"
   ]
  },
  {
   "cell_type": "code",
   "execution_count": 83,
   "metadata": {},
   "outputs": [
    {
     "data": {
      "text/html": [
       "<div>\n",
       "<style scoped>\n",
       "    .dataframe tbody tr th:only-of-type {\n",
       "        vertical-align: middle;\n",
       "    }\n",
       "\n",
       "    .dataframe tbody tr th {\n",
       "        vertical-align: top;\n",
       "    }\n",
       "\n",
       "    .dataframe thead th {\n",
       "        text-align: right;\n",
       "    }\n",
       "</style>\n",
       "<table border=\"1\" class=\"dataframe\">\n",
       "  <thead>\n",
       "    <tr style=\"text-align: right;\">\n",
       "      <th></th>\n",
       "      <th>Unnamed: 0</th>\n",
       "      <th>TEAM</th>\n",
       "      <th>PG</th>\n",
       "      <th>SG</th>\n",
       "      <th>SF</th>\n",
       "      <th>PF</th>\n",
       "      <th>C</th>\n",
       "    </tr>\n",
       "  </thead>\n",
       "  <tbody>\n",
       "    <tr>\n",
       "      <th>0</th>\n",
       "      <td>0</td>\n",
       "      <td>Atlanta</td>\n",
       "      <td>T. Young</td>\n",
       "      <td>K. Huerter</td>\n",
       "      <td>D. Hunter</td>\n",
       "      <td>J. Collins</td>\n",
       "      <td>C. Capela</td>\n",
       "    </tr>\n",
       "    <tr>\n",
       "      <th>1</th>\n",
       "      <td>1</td>\n",
       "      <td>Boston</td>\n",
       "      <td>K. Walker</td>\n",
       "      <td>J. Brown</td>\n",
       "      <td>J. Tatum</td>\n",
       "      <td>G. Hayward</td>\n",
       "      <td>D. Theis</td>\n",
       "    </tr>\n",
       "    <tr>\n",
       "      <th>2</th>\n",
       "      <td>2</td>\n",
       "      <td>Brooklyn</td>\n",
       "      <td>K. Irving</td>\n",
       "      <td>J. Harris</td>\n",
       "      <td>C. LeVert</td>\n",
       "      <td>T. Prince</td>\n",
       "      <td>J. Allen</td>\n",
       "    </tr>\n",
       "    <tr>\n",
       "      <th>3</th>\n",
       "      <td>3</td>\n",
       "      <td>Charlotte</td>\n",
       "      <td>D. Graham</td>\n",
       "      <td>T. Rozier</td>\n",
       "      <td>M. Bridges</td>\n",
       "      <td>P. Washington</td>\n",
       "      <td>C. Zeller</td>\n",
       "    </tr>\n",
       "    <tr>\n",
       "      <th>4</th>\n",
       "      <td>4</td>\n",
       "      <td>Chicago</td>\n",
       "      <td>T. Satoransky</td>\n",
       "      <td>Z. LaVine</td>\n",
       "      <td>K. Dunn</td>\n",
       "      <td>L. Markkanen</td>\n",
       "      <td>L. Kornet</td>\n",
       "    </tr>\n",
       "  </tbody>\n",
       "</table>\n",
       "</div>"
      ],
      "text/plain": [
       "   Unnamed: 0       TEAM             PG          SG          SF  \\\n",
       "0           0    Atlanta       T. Young  K. Huerter   D. Hunter   \n",
       "1           1     Boston      K. Walker    J. Brown    J. Tatum   \n",
       "2           2   Brooklyn      K. Irving   J. Harris   C. LeVert   \n",
       "3           3  Charlotte      D. Graham   T. Rozier  M. Bridges   \n",
       "4           4    Chicago  T. Satoransky   Z. LaVine     K. Dunn   \n",
       "\n",
       "              PF          C  \n",
       "0     J. Collins  C. Capela  \n",
       "1     G. Hayward   D. Theis  \n",
       "2      T. Prince   J. Allen  \n",
       "3  P. Washington  C. Zeller  \n",
       "4   L. Markkanen  L. Kornet  "
      ]
     },
     "execution_count": 83,
     "metadata": {},
     "output_type": "execute_result"
    }
   ],
   "source": [
    "starting_lineup = pd.read_csv('../Resources/sample_lineup.csv')\n",
    "starting_lineup.head()"
   ]
  },
  {
   "cell_type": "code",
   "execution_count": 84,
   "metadata": {},
   "outputs": [],
   "source": [
    "starting_lineup.TEAM = starting_lineup.TEAM.str.upper()"
   ]
  },
  {
   "cell_type": "code",
   "execution_count": 85,
   "metadata": {},
   "outputs": [],
   "source": [
    "starting_lineup.index = starting_lineup.TEAM\n",
    "starting_lineup = starting_lineup[['PG','SG', 'SF','PF','C']]"
   ]
  },
  {
   "cell_type": "code",
   "execution_count": 87,
   "metadata": {},
   "outputs": [
    {
     "data": {
      "text/html": [
       "<div>\n",
       "<style scoped>\n",
       "    .dataframe tbody tr th:only-of-type {\n",
       "        vertical-align: middle;\n",
       "    }\n",
       "\n",
       "    .dataframe tbody tr th {\n",
       "        vertical-align: top;\n",
       "    }\n",
       "\n",
       "    .dataframe thead th {\n",
       "        text-align: right;\n",
       "    }\n",
       "</style>\n",
       "<table border=\"1\" class=\"dataframe\">\n",
       "  <thead>\n",
       "    <tr style=\"text-align: right;\">\n",
       "      <th></th>\n",
       "      <th>PG</th>\n",
       "      <th>SG</th>\n",
       "      <th>SF</th>\n",
       "      <th>PF</th>\n",
       "      <th>C</th>\n",
       "    </tr>\n",
       "    <tr>\n",
       "      <th>TEAM</th>\n",
       "      <th></th>\n",
       "      <th></th>\n",
       "      <th></th>\n",
       "      <th></th>\n",
       "      <th></th>\n",
       "    </tr>\n",
       "  </thead>\n",
       "  <tbody>\n",
       "    <tr>\n",
       "      <th>ATLANTA</th>\n",
       "      <td>T. Young</td>\n",
       "      <td>K. Huerter</td>\n",
       "      <td>D. Hunter</td>\n",
       "      <td>J. Collins</td>\n",
       "      <td>C. Capela</td>\n",
       "    </tr>\n",
       "  </tbody>\n",
       "</table>\n",
       "</div>"
      ],
      "text/plain": [
       "               PG          SG         SF          PF          C\n",
       "TEAM                                                           \n",
       "ATLANTA  T. Young  K. Huerter  D. Hunter  J. Collins  C. Capela"
      ]
     },
     "execution_count": 87,
     "metadata": {},
     "output_type": "execute_result"
    }
   ],
   "source": [
    "starting_lineup[starting_lineup.index == 'ATLANTA']"
   ]
  },
  {
   "cell_type": "code",
   "execution_count": 80,
   "metadata": {},
   "outputs": [
    {
     "data": {
      "text/html": [
       "<div>\n",
       "<style scoped>\n",
       "    .dataframe tbody tr th:only-of-type {\n",
       "        vertical-align: middle;\n",
       "    }\n",
       "\n",
       "    .dataframe tbody tr th {\n",
       "        vertical-align: top;\n",
       "    }\n",
       "\n",
       "    .dataframe thead th {\n",
       "        text-align: right;\n",
       "    }\n",
       "</style>\n",
       "<table border=\"1\" class=\"dataframe\">\n",
       "  <thead>\n",
       "    <tr style=\"text-align: right;\">\n",
       "      <th></th>\n",
       "      <th>Unnamed: 0</th>\n",
       "      <th>start_time</th>\n",
       "      <th>away_team</th>\n",
       "      <th>home_team</th>\n",
       "      <th>away_team_score</th>\n",
       "      <th>home_team_score</th>\n",
       "    </tr>\n",
       "  </thead>\n",
       "  <tbody>\n",
       "    <tr>\n",
       "      <th>0</th>\n",
       "      <td>0</td>\n",
       "      <td>2012-10-30 23:00:00+00:00</td>\n",
       "      <td>Team.WASHINGTON_WIZARDS</td>\n",
       "      <td>Team.CLEVELAND_CAVALIERS</td>\n",
       "      <td>84.0</td>\n",
       "      <td>94.0</td>\n",
       "    </tr>\n",
       "    <tr>\n",
       "      <th>1</th>\n",
       "      <td>1</td>\n",
       "      <td>2012-10-31 00:00:00+00:00</td>\n",
       "      <td>Team.BOSTON_CELTICS</td>\n",
       "      <td>Team.MIAMI_HEAT</td>\n",
       "      <td>107.0</td>\n",
       "      <td>120.0</td>\n",
       "    </tr>\n",
       "    <tr>\n",
       "      <th>2</th>\n",
       "      <td>2</td>\n",
       "      <td>2012-10-31 02:30:00+00:00</td>\n",
       "      <td>Team.DALLAS_MAVERICKS</td>\n",
       "      <td>Team.LOS_ANGELES_LAKERS</td>\n",
       "      <td>99.0</td>\n",
       "      <td>91.0</td>\n",
       "    </tr>\n",
       "    <tr>\n",
       "      <th>3</th>\n",
       "      <td>3</td>\n",
       "      <td>2012-10-31 23:00:00+00:00</td>\n",
       "      <td>Team.INDIANA_PACERS</td>\n",
       "      <td>Team.TORONTO_RAPTORS</td>\n",
       "      <td>90.0</td>\n",
       "      <td>88.0</td>\n",
       "    </tr>\n",
       "    <tr>\n",
       "      <th>4</th>\n",
       "      <td>4</td>\n",
       "      <td>2012-10-31 23:00:00+00:00</td>\n",
       "      <td>Team.DENVER_NUGGETS</td>\n",
       "      <td>Team.PHILADELPHIA_76ERS</td>\n",
       "      <td>75.0</td>\n",
       "      <td>84.0</td>\n",
       "    </tr>\n",
       "  </tbody>\n",
       "</table>\n",
       "</div>"
      ],
      "text/plain": [
       "   Unnamed: 0                 start_time                away_team  \\\n",
       "0           0  2012-10-30 23:00:00+00:00  Team.WASHINGTON_WIZARDS   \n",
       "1           1  2012-10-31 00:00:00+00:00      Team.BOSTON_CELTICS   \n",
       "2           2  2012-10-31 02:30:00+00:00    Team.DALLAS_MAVERICKS   \n",
       "3           3  2012-10-31 23:00:00+00:00      Team.INDIANA_PACERS   \n",
       "4           4  2012-10-31 23:00:00+00:00      Team.DENVER_NUGGETS   \n",
       "\n",
       "                  home_team  away_team_score  home_team_score  \n",
       "0  Team.CLEVELAND_CAVALIERS             84.0             94.0  \n",
       "1           Team.MIAMI_HEAT            107.0            120.0  \n",
       "2   Team.LOS_ANGELES_LAKERS             99.0             91.0  \n",
       "3      Team.TORONTO_RAPTORS             90.0             88.0  \n",
       "4   Team.PHILADELPHIA_76ERS             75.0             84.0  "
      ]
     },
     "execution_count": 80,
     "metadata": {},
     "output_type": "execute_result"
    }
   ],
   "source": [
    "schedule = pd.read_csv('../Resources/game_schedule_13-current.csv')\n",
    "schedule.head()"
   ]
  },
  {
   "cell_type": "code",
   "execution_count": null,
   "metadata": {},
   "outputs": [],
   "source": []
  }
 ],
 "metadata": {
  "kernelspec": {
   "display_name": "Python 3",
   "language": "python",
   "name": "python3"
  },
  "language_info": {
   "codemirror_mode": {
    "name": "ipython",
    "version": 3
   },
   "file_extension": ".py",
   "mimetype": "text/x-python",
   "name": "python",
   "nbconvert_exporter": "python",
   "pygments_lexer": "ipython3",
   "version": "3.7.3"
  }
 },
 "nbformat": 4,
 "nbformat_minor": 4
}
