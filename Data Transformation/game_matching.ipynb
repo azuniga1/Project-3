{
 "cells": [
  {
   "cell_type": "markdown",
   "metadata": {},
   "source": [
    "# Schedule -> Lineup -> Game Match"
   ]
  },
  {
   "cell_type": "code",
   "execution_count": 2,
   "metadata": {},
   "outputs": [],
   "source": [
    "import pandas as pd"
   ]
  },
  {
   "cell_type": "markdown",
   "metadata": {},
   "source": [
    "### Import Files"
   ]
  },
  {
   "cell_type": "code",
   "execution_count": 16,
   "metadata": {},
   "outputs": [],
   "source": [
    "encoded_box_scores = pd.read_csv('../Resources/encoded_box_scores.csv')\n",
    "schedule_lineup = pd.read_csv('../Resources/schedule_lineup.csv')\n",
    "name_all_formats = pd.read_csv('../Resources/name_all_formats.csv')"
   ]
  },
  {
   "cell_type": "markdown",
   "metadata": {},
   "source": [
    "**Edits to be made**"
   ]
  },
  {
   "cell_type": "code",
   "execution_count": 73,
   "metadata": {},
   "outputs": [],
   "source": [
    "lmbah = {'L. Mbah' :'L. Mbah a Moute'}"
   ]
  },
  {
   "cell_type": "code",
   "execution_count": 75,
   "metadata": {},
   "outputs": [],
   "source": [
    "name_all_formats.Lineup_name = name_all_formats.Lineup_name.str.replace('L. Mbah','L. Mbah a Moute')"
   ]
  },
  {
   "cell_type": "code",
   "execution_count": 93,
   "metadata": {},
   "outputs": [],
   "source": [
    "name_all_formats.to_csv('../Resources/name_all_formats.csv')"
   ]
  },
  {
   "cell_type": "code",
   "execution_count": 17,
   "metadata": {},
   "outputs": [
    {
     "data": {
      "text/html": [
       "<div>\n",
       "<style scoped>\n",
       "    .dataframe tbody tr th:only-of-type {\n",
       "        vertical-align: middle;\n",
       "    }\n",
       "\n",
       "    .dataframe tbody tr th {\n",
       "        vertical-align: top;\n",
       "    }\n",
       "\n",
       "    .dataframe thead th {\n",
       "        text-align: right;\n",
       "    }\n",
       "</style>\n",
       "<table border=\"1\" class=\"dataframe\">\n",
       "  <thead>\n",
       "    <tr style=\"text-align: right;\">\n",
       "      <th></th>\n",
       "      <th>Unnamed: 0</th>\n",
       "      <th>date</th>\n",
       "      <th>Team</th>\n",
       "      <th>Player1</th>\n",
       "      <th>Player2</th>\n",
       "      <th>Player3</th>\n",
       "      <th>Player4</th>\n",
       "      <th>Player5</th>\n",
       "      <th>game_id</th>\n",
       "      <th>Location</th>\n",
       "      <th>Outcome</th>\n",
       "      <th>spread</th>\n",
       "    </tr>\n",
       "  </thead>\n",
       "  <tbody>\n",
       "    <tr>\n",
       "      <th>0</th>\n",
       "      <td>0</td>\n",
       "      <td>2013-01-01</td>\n",
       "      <td>ATL</td>\n",
       "      <td>A. Horford</td>\n",
       "      <td>K. Korver</td>\n",
       "      <td>J. Smith</td>\n",
       "      <td>J. Teague</td>\n",
       "      <td>L. Williams</td>\n",
       "      <td>460</td>\n",
       "      <td>AWAY</td>\n",
       "      <td>WIN</td>\n",
       "      <td>9.0</td>\n",
       "    </tr>\n",
       "    <tr>\n",
       "      <th>1</th>\n",
       "      <td>3803</td>\n",
       "      <td>2013-01-01</td>\n",
       "      <td>DET</td>\n",
       "      <td>B. Knight</td>\n",
       "      <td>J. Maxiell</td>\n",
       "      <td>G. Monroe</td>\n",
       "      <td>T. Prince</td>\n",
       "      <td>K. Singler</td>\n",
       "      <td>458</td>\n",
       "      <td>HOME</td>\n",
       "      <td>WIN</td>\n",
       "      <td>6.0</td>\n",
       "    </tr>\n",
       "    <tr>\n",
       "      <th>2</th>\n",
       "      <td>12503</td>\n",
       "      <td>2013-01-01</td>\n",
       "      <td>SAC</td>\n",
       "      <td>D. Cousins</td>\n",
       "      <td>F. García</td>\n",
       "      <td>J. Salmons</td>\n",
       "      <td>I. Thomas</td>\n",
       "      <td>J. Thompson</td>\n",
       "      <td>458</td>\n",
       "      <td>AWAY</td>\n",
       "      <td>LOSS</td>\n",
       "      <td>6.0</td>\n",
       "    </tr>\n",
       "    <tr>\n",
       "      <th>3</th>\n",
       "      <td>9242</td>\n",
       "      <td>2013-01-01</td>\n",
       "      <td>NYK</td>\n",
       "      <td>C. Anthony</td>\n",
       "      <td>R. Brewer</td>\n",
       "      <td>T. Chandler</td>\n",
       "      <td>J. Kidd</td>\n",
       "      <td>K. Thomas</td>\n",
       "      <td>459</td>\n",
       "      <td>HOME</td>\n",
       "      <td>LOSS</td>\n",
       "      <td>5.0</td>\n",
       "    </tr>\n",
       "    <tr>\n",
       "      <th>4</th>\n",
       "      <td>11958</td>\n",
       "      <td>2013-01-01</td>\n",
       "      <td>POR</td>\n",
       "      <td>L. Aldridge</td>\n",
       "      <td>N. Batum</td>\n",
       "      <td>J. Hickson</td>\n",
       "      <td>D. Lillard</td>\n",
       "      <td>W. Matthews</td>\n",
       "      <td>459</td>\n",
       "      <td>AWAY</td>\n",
       "      <td>WIN</td>\n",
       "      <td>5.0</td>\n",
       "    </tr>\n",
       "  </tbody>\n",
       "</table>\n",
       "</div>"
      ],
      "text/plain": [
       "   Unnamed: 0        date Team      Player1     Player2      Player3  \\\n",
       "0           0  2013-01-01  ATL   A. Horford   K. Korver     J. Smith   \n",
       "1        3803  2013-01-01  DET    B. Knight  J. Maxiell    G. Monroe   \n",
       "2       12503  2013-01-01  SAC   D. Cousins   F. García   J. Salmons   \n",
       "3        9242  2013-01-01  NYK   C. Anthony   R. Brewer  T. Chandler   \n",
       "4       11958  2013-01-01  POR  L. Aldridge    N. Batum   J. Hickson   \n",
       "\n",
       "      Player4      Player5  game_id Location Outcome  spread  \n",
       "0   J. Teague  L. Williams      460     AWAY     WIN     9.0  \n",
       "1   T. Prince   K. Singler      458     HOME     WIN     6.0  \n",
       "2   I. Thomas  J. Thompson      458     AWAY    LOSS     6.0  \n",
       "3     J. Kidd    K. Thomas      459     HOME    LOSS     5.0  \n",
       "4  D. Lillard  W. Matthews      459     AWAY     WIN     5.0  "
      ]
     },
     "execution_count": 17,
     "metadata": {},
     "output_type": "execute_result"
    }
   ],
   "source": [
    "schedule_lineup.head()"
   ]
  },
  {
   "cell_type": "markdown",
   "metadata": {},
   "source": [
    "### functions for ```schedule_to_slugs.py```"
   ]
  },
  {
   "cell_type": "code",
   "execution_count": 51,
   "metadata": {},
   "outputs": [],
   "source": [
    "## PART 1 : Get Lineups\n",
    "\n",
    "def todays_games(date):\n",
    "    '''Returns game_ids for a date representing all unique games.'''\n",
    "    todays_games = list(set(schedule_lineup[schedule_lineup.date==date]['game_id'].to_list()))\n",
    "    return todays_games\n",
    "\n",
    "def home_team(game_id):\n",
    "    '''Returns home team abbr.'''\n",
    "    home_team = schedule_lineup[(schedule_lineup.game_id==game_id) & (schedule_lineup.Location =='HOME')].iat[0,2]\n",
    "    return home_team\n",
    "\n",
    "def away_team(game_id):\n",
    "    '''Returns away team abbr.'''\n",
    "    away_team = schedule_lineup[(schedule_lineup.game_id==game_id) & (schedule_lineup.Location =='AWAY')].iat[0,2]\n",
    "    return away_team\n",
    "\n",
    "def home_lineup(game_id):\n",
    "    '''Returns a list of 5 starting players for the home team.'''\n",
    "    home_row = schedule_lineup[(schedule_lineup.game_id==game_id) & (schedule_lineup.Location == 'HOME')]\n",
    "    home_lineup = list(list(home_row.values)[0][3:8])\n",
    "    return home_lineup\n",
    "\n",
    "def away_lineup(game_id):\n",
    "    '''Returns a list of 5 starting players for the away team.'''\n",
    "    away_row = schedule_lineup[(schedule_lineup.game_id==game_id) & (schedule_lineup.Location == 'AWAY')]\n",
    "    away_lineup = list(list(away_row.values)[0][3:8])\n",
    "    return away_lineup"
   ]
  },
  {
   "cell_type": "code",
   "execution_count": 126,
   "metadata": {},
   "outputs": [],
   "source": [
    "## PART 2 : Convert to Slugs\n",
    "\n",
    "def slug_finder(team, lineup_name):\n",
    "    slug = name_all_formats[(name_all_formats.Lineup_name==lineup_name) & \n",
    "                            (name_all_formats.Team==team)].iat[0,2]\n",
    "    return slug   \n",
    "\n",
    "def lineup_slug_converter(lineup, team):\n",
    "    lineup_slug = [slug_finder(team, starter) for starter in lineup]\n",
    "    return lineup_slug\n",
    "\n",
    "def home_lineup_slugs(game_id):\n",
    "    lineup = home_lineup(game_id)\n",
    "    team = home_team(game_id)\n",
    "    home_lineup_slugs = lineup_slug_converter(lineup, team)\n",
    "    return home_lineup_slugs\n",
    "    \n",
    "def away_lineup_slugs(game_id):\n",
    "    lineup = away_lineup(game_id)\n",
    "    team = away_team(game_id)\n",
    "    away_lineup_slugs = lineup_slug_converter(lineup, team)\n",
    "    return away_lineup_slugs"
   ]
  },
  {
   "cell_type": "code",
   "execution_count": 112,
   "metadata": {},
   "outputs": [
    {
     "data": {
      "text/plain": [
       "[864, 865, 866, 867, 868, 869, 870, 871, 872, 873, 874, 875]"
      ]
     },
     "execution_count": 112,
     "metadata": {},
     "output_type": "execute_result"
    }
   ],
   "source": [
    "todays_games('2013-03-01')"
   ]
  },
  {
   "cell_type": "code",
   "execution_count": 121,
   "metadata": {},
   "outputs": [
    {
     "data": {
      "text/plain": [
       "['ORL',\n",
       " 'TOR',\n",
       " 'WAS',\n",
       " 'BOS',\n",
       " 'CLE',\n",
       " 'BRK',\n",
       " 'MIA',\n",
       " 'NOP',\n",
       " 'SAS',\n",
       " 'PHO',\n",
       " 'UTA',\n",
       " 'DEN']"
      ]
     },
     "execution_count": 121,
     "metadata": {},
     "output_type": "execute_result"
    }
   ],
   "source": [
    "[home_team(game) for game in todays_games('2013-03-01')]"
   ]
  },
  {
   "cell_type": "code",
   "execution_count": 114,
   "metadata": {},
   "outputs": [
    {
     "data": {
      "text/plain": [
       "[['A. Afflalo', 'M. Harkless', 'E. Moore', 'A. Nicholson', 'N. Vučević'],\n",
       " ['D. DeRozan', 'R. Gay', 'A. Johnson', 'K. Lowry', 'J. Valančiūnas'],\n",
       " ['B. Beal', 'E. Okafor', 'C. Singleton', 'J. Wall', 'M. Webster'],\n",
       " ['B. Bass', 'A. Bradley', 'K. Garnett', 'C. Lee', 'P. Pierce'],\n",
       " ['A. Gee', 'S. Livingston', 'T. Thompson', 'D. Waiters', 'T. Zeller'],\n",
       " ['R. Evans', 'J. Johnson', 'B. Lopez', 'G. Wallace', 'D. Williams'],\n",
       " ['C. Bosh', 'M. Chalmers', 'U. Haslem', 'L. James', 'D. Wade'],\n",
       " ['A. Aminu', 'R. Anderson', 'E. Gordon', 'R. Lopez', 'G. Vásquez'],\n",
       " ['T. Duncan', 'D. Green', 'K. Leonard', 'T. Parker', 'T. Splitter'],\n",
       " ['G. Dragić', 'J. Dudley', 'M. Gortat', 'L. Scola', 'P. Tucker'],\n",
       " ['D. Favors', 'R. Foye', 'E. Kanter', 'E. Watson', 'M. Williams'],\n",
       " ['K. Faried', 'D. Gallinari', 'A. Iguodala', 'K. Koufos', 'T. Lawson']]"
      ]
     },
     "execution_count": 114,
     "metadata": {},
     "output_type": "execute_result"
    }
   ],
   "source": [
    "[home_lineup(game) for game in todays_games('2013-03-01')]"
   ]
  },
  {
   "cell_type": "code",
   "execution_count": 115,
   "metadata": {},
   "outputs": [
    {
     "data": {
      "text/plain": [
       "[['afflaar01', 'harklma01', 'mooreet01', 'nichoan01', 'vucevni01'],\n",
       " ['derozde01', 'gayru01', 'johnsam01', 'lowryky01', 'valanjo01'],\n",
       " ['bealbr01', 'okafoem01', 'singlch01', 'walljo01', 'webstma02'],\n",
       " ['bassbr01', 'bradlav01', 'garneke01', 'leeco01', 'piercpa01'],\n",
       " ['geeal01', 'livinsh01', 'thomptr01', 'waitedi01', 'zellety01'],\n",
       " ['evansre01', 'johnsjo02', 'lopezbr01', 'wallage01', 'willide01'],\n",
       " ['boshch01', 'chalmma01', 'hasleud01', 'jamesle01', 'wadedw01'],\n",
       " ['aminual01', 'anderry01', 'gordoer01', 'lopezro01', 'vasqugr01'],\n",
       " ['duncati01', 'greenda02', 'leonaka01', 'parketo01', 'splitti01'],\n",
       " ['dragigo01', 'dudleja01', 'gortama01', 'scolalu01', 'tuckepj01'],\n",
       " ['favorde01', 'foyera01', 'kanteen01', 'watsoea01', 'willima02'],\n",
       " ['farieke01', 'gallida01', 'iguodan01', 'koufoko01', 'lawsoty01']]"
      ]
     },
     "execution_count": 115,
     "metadata": {},
     "output_type": "execute_result"
    }
   ],
   "source": [
    "[lineup_slug_converter(home_lineup(game_id),home_team(game_id)) for game_id in todays_games('2013-03-01')]"
   ]
  },
  {
   "cell_type": "code",
   "execution_count": 128,
   "metadata": {},
   "outputs": [
    {
     "name": "stdout",
     "output_type": "stream",
     "text": [
      "['afflaar01', 'harklma01', 'mooreet01', 'nichoan01', 'vucevni01']\n",
      "['asikom01', 'hardeja01', 'linje01', 'motiedo01', 'parsoch01']\n"
     ]
    }
   ],
   "source": [
    "print(home_lineup_slugs(864))\n",
    "print(away_lineup_slugs(864))"
   ]
  },
  {
   "cell_type": "code",
   "execution_count": 129,
   "metadata": {},
   "outputs": [
    {
     "name": "stdout",
     "output_type": "stream",
     "text": [
      "['diawbo01', 'duncati01', 'greenda02', 'leonaka01', 'parketo01']\n",
      "['collida01', 'gayru01', 'holliry01', 'mclembe01', 'thompja02']\n"
     ]
    }
   ],
   "source": [
    "print(home_lineup_slugs(2864))\n",
    "print(away_lineup_slugs(2864))"
   ]
  },
  {
   "cell_type": "code",
   "execution_count": 130,
   "metadata": {},
   "outputs": [
    {
     "name": "stdout",
     "output_type": "stream",
     "text": [
      "['favorde01', 'goberru01', 'haywago01', 'hillge01', 'hoodro01']\n",
      "['gordoaa01', 'ibakase01', 'meeksjo01', 'paytoel01', 'vucevni01']\n"
     ]
    }
   ],
   "source": [
    "print(home_lineup_slugs(5864))\n",
    "print(away_lineup_slugs(5864))"
   ]
  },
  {
   "cell_type": "code",
   "execution_count": null,
   "metadata": {},
   "outputs": [],
   "source": []
  }
 ],
 "metadata": {
  "kernelspec": {
   "display_name": "Python 3",
   "language": "python",
   "name": "python3"
  },
  "language_info": {
   "codemirror_mode": {
    "name": "ipython",
    "version": 3
   },
   "file_extension": ".py",
   "mimetype": "text/x-python",
   "name": "python",
   "nbconvert_exporter": "python",
   "pygments_lexer": "ipython3",
   "version": "3.7.1"
  }
 },
 "nbformat": 4,
 "nbformat_minor": 4
}
